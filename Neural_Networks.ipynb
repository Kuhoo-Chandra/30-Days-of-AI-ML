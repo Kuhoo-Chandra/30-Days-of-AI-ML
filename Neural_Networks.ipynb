{
  "nbformat": 4,
  "nbformat_minor": 0,
  "metadata": {
    "colab": {
      "provenance": []
    },
    "kernelspec": {
      "name": "python3",
      "display_name": "Python 3"
    },
    "language_info": {
      "name": "python"
    }
  },
  "cells": [
    {
      "cell_type": "markdown",
      "source": [
        "## Artificial Neural Networks\n",
        "\n",
        "Neural Networks lie at the center of deep learning algorithms. It refers to  a method of machine learning that mimicks the structure od working of neurons in the human brain.\n",
        "\n",
        "ANNs are build of multiple node layers starting with an input layer, one or more hidden layers and am output layer. Each node or artificial neuron is connected to another and has an associated weight and threshold attached to it. On receiving an input, a neuron compares the input value to it's threshold. If the input value exceeds the threshold condition the node is activated and transfers the input to the forward connecting neuron via the associated weight.\n",
        "\n",
        "### Key Terminology\n",
        "\n",
        "1. **Neurons (Nodes):** Basic units, receive input, process with weights, produce output, organized in layers.\n",
        "\n",
        "2. **Layers:** Neural network organization: input, hidden, output; processes data sequentially.\n",
        "\n",
        "3. **Weights and Biases:** Neuron connections represented by weights; adjusted during training to minimize error between predicted and correct output; biases added to introduce non-linearity to the system.\n",
        "\n",
        "4. **Activation Functions:**used to calculate weighted sum of input and bias in a neuron and define whether a neuron is activated or not; e.g., sigmoid, tanh, ReLU; model complexity.\n",
        "\n",
        "5. **Feedforward and Backpropagation:** : During the training phase, data is fed forward through the network to produce predictions. The error between predicted and actual output is then used to update the weights and biases in a process called backpropagation. This iterative process is used to minimize the error and improve the network's performance.\n",
        "\n",
        "6. **Deep Learning:** Neural networks with multiple layers; deep learning learns hierarchical representations for complex tasks.\n",
        "\n",
        "7. **CNNs and RNNs:** Specialized neural networks: CNNs for images, RNNs for sequences."
      ],
      "metadata": {
        "id": "rIBa5nNtoJd_"
      }
    },
    {
      "cell_type": "markdown",
      "source": [
        "### Steps\n",
        "\n",
        "1. **Initialization:**\n",
        "   - Set initial values for weights and biases.\n",
        "   - Random initialization is common to break symmetry.\n",
        "\n",
        "2. **Forward Propagation:**\n",
        "   - Input data is fed forward through the network.\n",
        "   - Neurons in each layer process inputs using weights and biases.\n",
        "   - Activation function introduces non-linearity.\n",
        "\n",
        "3. **Loss Calculation:**\n",
        "   - Compare the network's output with the actual target values.\n",
        "   - Calculate the loss (error) using a predefined loss function.\n",
        "\n",
        "4. **Backpropagation:**\n",
        "   - Calculate gradients of the loss with respect to weights and biases.\n",
        "   - Update weights and biases to minimize the loss.\n",
        "   - Utilize optimization algorithms like gradient descent.\n",
        "\n",
        "5. **Iterative Training:**\n",
        "   - Repeat forward propagation, loss calculation, and backpropagation.\n",
        "   - Adjust weights and biases iteratively to improve performance.\n",
        "\n",
        "6. **Validation:**\n",
        "   - Use a separate validation dataset to assess generalization.\n",
        "   - Prevent overfitting by monitoring performance on unseen data.\n",
        "\n",
        "7. **Hyperparameter Tuning:**\n",
        "   - Adjust hyperparameters (learning rate, batch size, etc.) for optimization.\n",
        "   - Fine-tune to balance convergence speed and model stability.\n",
        "\n",
        "8. **Testing:**\n",
        "   - Evaluate the trained model on a separate test dataset.\n",
        "   - Assess the model's performance on previously unseen data."
      ],
      "metadata": {
        "id": "YE3XVUIZrMTd"
      }
    },
    {
      "cell_type": "markdown",
      "source": [
        "## Activation functions\n",
        "\n",
        "Identity function\n",
        "* linear\n",
        "* passes incoming signal as otgoing signal without change\n",
        "* g(x) = x\n",
        "\n",
        "Non-Linear Functions\n",
        "\n",
        "Step\n",
        "* domain: real nums\n",
        "* Range: 0 or 1\n",
        "* g(x) = { 1, if net_i/p > 0/threshold ; 0, otherwise }\n",
        "\n",
        "Sigmoid\n",
        "\n",
        "* S shaped continuous func\n",
        "* domain: Real nums\n",
        "* Range: (0,1)\n",
        "* $g(x) = \\frac {1}{1 + e^(-x)}$\n",
        "* aka as logisitic func because\n",
        "* In a machine learning model, the output of a linear or non-linear function is transformed using a sigmoid function to obtain a predicted probability for a binary classification problem.\n",
        "* 3 properties of sigmoid func that are very helpful: its monotonic, continuous and diffrentiable\n",
        "    1. **it maps feature space into probability funcs:** by transforming the output of a linear or non-linear function(sum(x_i, w_i) into a predicted probability for a binary classification problem.\n",
        "\n",
        "        --> x is closer to infinity (really large) output = 1,\n",
        "\n",
        "        --> x is closer to - infinity output = 0,\n",
        "\n",
        "        --> x =0, output 0.5\n",
        "    2. **using exponential establishes non-linear relationship:** which helps by ensuring most output values are closer to 1 or 0\n",
        "    3. **it's differentiable:** so it allows gradient calculation which is imp for optimization (gradient descent in general ML and back propogation in neural networks)\n",
        "\n",
        "Tanh\n",
        "\n",
        "* domain: real nums\n",
        "* range: (-1, 1)\n",
        "* better than sigmoid because:\n",
        " - o/p is symmetric around 0\n",
        " - no vanishing gradients\n",
        " - i/p mapped asymmetrically around 0\n",
        "* $g(x) = \\frac {e^(x) - e^(-x)}{e^(x) + e^(-x)}\n",
        "\n",
        "ReLU\n",
        "\n",
        "* very commonly used\n",
        "* range: ( 0 to inf)\n",
        "* easy to implement, computationally efficient\n",
        "* promotes sparsity (set -ve values to 0), faster convergence\n",
        "* g(x) = max(0, x)\n"
      ],
      "metadata": {
        "id": "88EOmgn2rjF8"
      }
    },
    {
      "cell_type": "markdown",
      "source": [
        "##Steps to implement NN using Keras\n",
        "\n",
        "1. Define your model. Create a sequence and add layers.\n",
        "\n",
        "2. Compile your model. Specify loss functions and optimizers.\n",
        "\n",
        "3. Fit your model. Execute the model using data.\n",
        "\n",
        "4. Make predictions. Use the model to generate predictions on new data."
      ],
      "metadata": {
        "id": "5I2eJsHh3xwp"
      }
    },
    {
      "cell_type": "markdown",
      "source": [
        "### Import libraries and dataset\n",
        "\n",
        "dataset src: https://www.kaggle.com/datasets/fedesoriano/stroke-prediction-dataset/data"
      ],
      "metadata": {
        "id": "rpiA_N5qOprr"
      }
    },
    {
      "cell_type": "code",
      "source": [
        "import pandas as pd\n",
        "import numpy as np\n",
        "from keras.models import Sequential\n",
        "from keras.layers import Dense, Dropout\n",
        "from keras import optimizers\n",
        "from keras.optimizers import Adam\n",
        "from keras.callbacks import EarlyStopping\n",
        "from sklearn.preprocessing import StandardScaler\n",
        "from sklearn.model_selection import train_test_split\n",
        "from sklearn.impute import KNNImputer\n",
        "from sklearn.metrics import accuracy_score, precision_score, recall_score, f1_score\n",
        "from imblearn.over_sampling import SMOTE"
      ],
      "metadata": {
        "id": "i_17MGKA46MZ"
      },
      "execution_count": 276,
      "outputs": []
    },
    {
      "cell_type": "code",
      "source": [
        "data = pd.read_csv(\"/content/healthcare-dataset-stroke-data.csv\")"
      ],
      "metadata": {
        "id": "UhEyWVZ15Syn"
      },
      "execution_count": 231,
      "outputs": []
    },
    {
      "cell_type": "markdown",
      "source": [
        "### EDA"
      ],
      "metadata": {
        "id": "bjTu6kpCOwPG"
      }
    },
    {
      "cell_type": "code",
      "source": [
        "data.stroke.value_counts()"
      ],
      "metadata": {
        "colab": {
          "base_uri": "https://localhost:8080/"
        },
        "id": "O3VLVva_5Xjb",
        "outputId": "ee17d099-21e4-4f89-ee34-13a87fed1e5f"
      },
      "execution_count": 232,
      "outputs": [
        {
          "output_type": "execute_result",
          "data": {
            "text/plain": [
              "0    4861\n",
              "1     249\n",
              "Name: stroke, dtype: int64"
            ]
          },
          "metadata": {},
          "execution_count": 232
        }
      ]
    },
    {
      "cell_type": "code",
      "source": [
        "data.info()"
      ],
      "metadata": {
        "colab": {
          "base_uri": "https://localhost:8080/"
        },
        "id": "OA-1gFZb5gbA",
        "outputId": "6c37727a-9e70-49f0-cec8-628b891aa5a0"
      },
      "execution_count": 233,
      "outputs": [
        {
          "output_type": "stream",
          "name": "stdout",
          "text": [
            "<class 'pandas.core.frame.DataFrame'>\n",
            "RangeIndex: 5110 entries, 0 to 5109\n",
            "Data columns (total 12 columns):\n",
            " #   Column             Non-Null Count  Dtype  \n",
            "---  ------             --------------  -----  \n",
            " 0   id                 5110 non-null   int64  \n",
            " 1   gender             5110 non-null   object \n",
            " 2   age                5110 non-null   float64\n",
            " 3   hypertension       5110 non-null   int64  \n",
            " 4   heart_disease      5110 non-null   int64  \n",
            " 5   ever_married       5110 non-null   object \n",
            " 6   work_type          5110 non-null   object \n",
            " 7   Residence_type     5110 non-null   object \n",
            " 8   avg_glucose_level  5110 non-null   float64\n",
            " 9   bmi                4909 non-null   float64\n",
            " 10  smoking_status     5110 non-null   object \n",
            " 11  stroke             5110 non-null   int64  \n",
            "dtypes: float64(3), int64(4), object(5)\n",
            "memory usage: 479.2+ KB\n"
          ]
        }
      ]
    },
    {
      "cell_type": "code",
      "source": [
        "data.describe()"
      ],
      "metadata": {
        "colab": {
          "base_uri": "https://localhost:8080/",
          "height": 300
        },
        "id": "dwhFLab45l5G",
        "outputId": "066a29ef-a207-49ca-d25e-30f9dac91c61"
      },
      "execution_count": 234,
      "outputs": [
        {
          "output_type": "execute_result",
          "data": {
            "text/plain": [
              "                 id          age  hypertension  ...  avg_glucose_level          bmi       stroke\n",
              "count   5110.000000  5110.000000   5110.000000  ...        5110.000000  4909.000000  5110.000000\n",
              "mean   36517.829354    43.226614      0.097456  ...         106.147677    28.893237     0.048728\n",
              "std    21161.721625    22.612647      0.296607  ...          45.283560     7.854067     0.215320\n",
              "min       67.000000     0.080000      0.000000  ...          55.120000    10.300000     0.000000\n",
              "25%    17741.250000    25.000000      0.000000  ...          77.245000    23.500000     0.000000\n",
              "50%    36932.000000    45.000000      0.000000  ...          91.885000    28.100000     0.000000\n",
              "75%    54682.000000    61.000000      0.000000  ...         114.090000    33.100000     0.000000\n",
              "max    72940.000000    82.000000      1.000000  ...         271.740000    97.600000     1.000000\n",
              "\n",
              "[8 rows x 7 columns]"
            ],
            "text/html": [
              "\n",
              "  <div id=\"df-fdbc2749-1c4b-40ea-b36c-6c185d6226ad\" class=\"colab-df-container\">\n",
              "    <div>\n",
              "<style scoped>\n",
              "    .dataframe tbody tr th:only-of-type {\n",
              "        vertical-align: middle;\n",
              "    }\n",
              "\n",
              "    .dataframe tbody tr th {\n",
              "        vertical-align: top;\n",
              "    }\n",
              "\n",
              "    .dataframe thead th {\n",
              "        text-align: right;\n",
              "    }\n",
              "</style>\n",
              "<table border=\"1\" class=\"dataframe\">\n",
              "  <thead>\n",
              "    <tr style=\"text-align: right;\">\n",
              "      <th></th>\n",
              "      <th>id</th>\n",
              "      <th>age</th>\n",
              "      <th>hypertension</th>\n",
              "      <th>heart_disease</th>\n",
              "      <th>avg_glucose_level</th>\n",
              "      <th>bmi</th>\n",
              "      <th>stroke</th>\n",
              "    </tr>\n",
              "  </thead>\n",
              "  <tbody>\n",
              "    <tr>\n",
              "      <th>count</th>\n",
              "      <td>5110.000000</td>\n",
              "      <td>5110.000000</td>\n",
              "      <td>5110.000000</td>\n",
              "      <td>5110.000000</td>\n",
              "      <td>5110.000000</td>\n",
              "      <td>4909.000000</td>\n",
              "      <td>5110.000000</td>\n",
              "    </tr>\n",
              "    <tr>\n",
              "      <th>mean</th>\n",
              "      <td>36517.829354</td>\n",
              "      <td>43.226614</td>\n",
              "      <td>0.097456</td>\n",
              "      <td>0.054012</td>\n",
              "      <td>106.147677</td>\n",
              "      <td>28.893237</td>\n",
              "      <td>0.048728</td>\n",
              "    </tr>\n",
              "    <tr>\n",
              "      <th>std</th>\n",
              "      <td>21161.721625</td>\n",
              "      <td>22.612647</td>\n",
              "      <td>0.296607</td>\n",
              "      <td>0.226063</td>\n",
              "      <td>45.283560</td>\n",
              "      <td>7.854067</td>\n",
              "      <td>0.215320</td>\n",
              "    </tr>\n",
              "    <tr>\n",
              "      <th>min</th>\n",
              "      <td>67.000000</td>\n",
              "      <td>0.080000</td>\n",
              "      <td>0.000000</td>\n",
              "      <td>0.000000</td>\n",
              "      <td>55.120000</td>\n",
              "      <td>10.300000</td>\n",
              "      <td>0.000000</td>\n",
              "    </tr>\n",
              "    <tr>\n",
              "      <th>25%</th>\n",
              "      <td>17741.250000</td>\n",
              "      <td>25.000000</td>\n",
              "      <td>0.000000</td>\n",
              "      <td>0.000000</td>\n",
              "      <td>77.245000</td>\n",
              "      <td>23.500000</td>\n",
              "      <td>0.000000</td>\n",
              "    </tr>\n",
              "    <tr>\n",
              "      <th>50%</th>\n",
              "      <td>36932.000000</td>\n",
              "      <td>45.000000</td>\n",
              "      <td>0.000000</td>\n",
              "      <td>0.000000</td>\n",
              "      <td>91.885000</td>\n",
              "      <td>28.100000</td>\n",
              "      <td>0.000000</td>\n",
              "    </tr>\n",
              "    <tr>\n",
              "      <th>75%</th>\n",
              "      <td>54682.000000</td>\n",
              "      <td>61.000000</td>\n",
              "      <td>0.000000</td>\n",
              "      <td>0.000000</td>\n",
              "      <td>114.090000</td>\n",
              "      <td>33.100000</td>\n",
              "      <td>0.000000</td>\n",
              "    </tr>\n",
              "    <tr>\n",
              "      <th>max</th>\n",
              "      <td>72940.000000</td>\n",
              "      <td>82.000000</td>\n",
              "      <td>1.000000</td>\n",
              "      <td>1.000000</td>\n",
              "      <td>271.740000</td>\n",
              "      <td>97.600000</td>\n",
              "      <td>1.000000</td>\n",
              "    </tr>\n",
              "  </tbody>\n",
              "</table>\n",
              "</div>\n",
              "    <div class=\"colab-df-buttons\">\n",
              "\n",
              "  <div class=\"colab-df-container\">\n",
              "    <button class=\"colab-df-convert\" onclick=\"convertToInteractive('df-fdbc2749-1c4b-40ea-b36c-6c185d6226ad')\"\n",
              "            title=\"Convert this dataframe to an interactive table.\"\n",
              "            style=\"display:none;\">\n",
              "\n",
              "  <svg xmlns=\"http://www.w3.org/2000/svg\" height=\"24px\" viewBox=\"0 -960 960 960\">\n",
              "    <path d=\"M120-120v-720h720v720H120Zm60-500h600v-160H180v160Zm220 220h160v-160H400v160Zm0 220h160v-160H400v160ZM180-400h160v-160H180v160Zm440 0h160v-160H620v160ZM180-180h160v-160H180v160Zm440 0h160v-160H620v160Z\"/>\n",
              "  </svg>\n",
              "    </button>\n",
              "\n",
              "  <style>\n",
              "    .colab-df-container {\n",
              "      display:flex;\n",
              "      gap: 12px;\n",
              "    }\n",
              "\n",
              "    .colab-df-convert {\n",
              "      background-color: #E8F0FE;\n",
              "      border: none;\n",
              "      border-radius: 50%;\n",
              "      cursor: pointer;\n",
              "      display: none;\n",
              "      fill: #1967D2;\n",
              "      height: 32px;\n",
              "      padding: 0 0 0 0;\n",
              "      width: 32px;\n",
              "    }\n",
              "\n",
              "    .colab-df-convert:hover {\n",
              "      background-color: #E2EBFA;\n",
              "      box-shadow: 0px 1px 2px rgba(60, 64, 67, 0.3), 0px 1px 3px 1px rgba(60, 64, 67, 0.15);\n",
              "      fill: #174EA6;\n",
              "    }\n",
              "\n",
              "    .colab-df-buttons div {\n",
              "      margin-bottom: 4px;\n",
              "    }\n",
              "\n",
              "    [theme=dark] .colab-df-convert {\n",
              "      background-color: #3B4455;\n",
              "      fill: #D2E3FC;\n",
              "    }\n",
              "\n",
              "    [theme=dark] .colab-df-convert:hover {\n",
              "      background-color: #434B5C;\n",
              "      box-shadow: 0px 1px 3px 1px rgba(0, 0, 0, 0.15);\n",
              "      filter: drop-shadow(0px 1px 2px rgba(0, 0, 0, 0.3));\n",
              "      fill: #FFFFFF;\n",
              "    }\n",
              "  </style>\n",
              "\n",
              "    <script>\n",
              "      const buttonEl =\n",
              "        document.querySelector('#df-fdbc2749-1c4b-40ea-b36c-6c185d6226ad button.colab-df-convert');\n",
              "      buttonEl.style.display =\n",
              "        google.colab.kernel.accessAllowed ? 'block' : 'none';\n",
              "\n",
              "      async function convertToInteractive(key) {\n",
              "        const element = document.querySelector('#df-fdbc2749-1c4b-40ea-b36c-6c185d6226ad');\n",
              "        const dataTable =\n",
              "          await google.colab.kernel.invokeFunction('convertToInteractive',\n",
              "                                                    [key], {});\n",
              "        if (!dataTable) return;\n",
              "\n",
              "        const docLinkHtml = 'Like what you see? Visit the ' +\n",
              "          '<a target=\"_blank\" href=https://colab.research.google.com/notebooks/data_table.ipynb>data table notebook</a>'\n",
              "          + ' to learn more about interactive tables.';\n",
              "        element.innerHTML = '';\n",
              "        dataTable['output_type'] = 'display_data';\n",
              "        await google.colab.output.renderOutput(dataTable, element);\n",
              "        const docLink = document.createElement('div');\n",
              "        docLink.innerHTML = docLinkHtml;\n",
              "        element.appendChild(docLink);\n",
              "      }\n",
              "    </script>\n",
              "  </div>\n",
              "\n",
              "\n",
              "<div id=\"df-37fed023-05ed-4c2f-a544-9653d94b3003\">\n",
              "  <button class=\"colab-df-quickchart\" onclick=\"quickchart('df-37fed023-05ed-4c2f-a544-9653d94b3003')\"\n",
              "            title=\"Suggest charts\"\n",
              "            style=\"display:none;\">\n",
              "\n",
              "<svg xmlns=\"http://www.w3.org/2000/svg\" height=\"24px\"viewBox=\"0 0 24 24\"\n",
              "     width=\"24px\">\n",
              "    <g>\n",
              "        <path d=\"M19 3H5c-1.1 0-2 .9-2 2v14c0 1.1.9 2 2 2h14c1.1 0 2-.9 2-2V5c0-1.1-.9-2-2-2zM9 17H7v-7h2v7zm4 0h-2V7h2v10zm4 0h-2v-4h2v4z\"/>\n",
              "    </g>\n",
              "</svg>\n",
              "  </button>\n",
              "\n",
              "<style>\n",
              "  .colab-df-quickchart {\n",
              "      --bg-color: #E8F0FE;\n",
              "      --fill-color: #1967D2;\n",
              "      --hover-bg-color: #E2EBFA;\n",
              "      --hover-fill-color: #174EA6;\n",
              "      --disabled-fill-color: #AAA;\n",
              "      --disabled-bg-color: #DDD;\n",
              "  }\n",
              "\n",
              "  [theme=dark] .colab-df-quickchart {\n",
              "      --bg-color: #3B4455;\n",
              "      --fill-color: #D2E3FC;\n",
              "      --hover-bg-color: #434B5C;\n",
              "      --hover-fill-color: #FFFFFF;\n",
              "      --disabled-bg-color: #3B4455;\n",
              "      --disabled-fill-color: #666;\n",
              "  }\n",
              "\n",
              "  .colab-df-quickchart {\n",
              "    background-color: var(--bg-color);\n",
              "    border: none;\n",
              "    border-radius: 50%;\n",
              "    cursor: pointer;\n",
              "    display: none;\n",
              "    fill: var(--fill-color);\n",
              "    height: 32px;\n",
              "    padding: 0;\n",
              "    width: 32px;\n",
              "  }\n",
              "\n",
              "  .colab-df-quickchart:hover {\n",
              "    background-color: var(--hover-bg-color);\n",
              "    box-shadow: 0 1px 2px rgba(60, 64, 67, 0.3), 0 1px 3px 1px rgba(60, 64, 67, 0.15);\n",
              "    fill: var(--button-hover-fill-color);\n",
              "  }\n",
              "\n",
              "  .colab-df-quickchart-complete:disabled,\n",
              "  .colab-df-quickchart-complete:disabled:hover {\n",
              "    background-color: var(--disabled-bg-color);\n",
              "    fill: var(--disabled-fill-color);\n",
              "    box-shadow: none;\n",
              "  }\n",
              "\n",
              "  .colab-df-spinner {\n",
              "    border: 2px solid var(--fill-color);\n",
              "    border-color: transparent;\n",
              "    border-bottom-color: var(--fill-color);\n",
              "    animation:\n",
              "      spin 1s steps(1) infinite;\n",
              "  }\n",
              "\n",
              "  @keyframes spin {\n",
              "    0% {\n",
              "      border-color: transparent;\n",
              "      border-bottom-color: var(--fill-color);\n",
              "      border-left-color: var(--fill-color);\n",
              "    }\n",
              "    20% {\n",
              "      border-color: transparent;\n",
              "      border-left-color: var(--fill-color);\n",
              "      border-top-color: var(--fill-color);\n",
              "    }\n",
              "    30% {\n",
              "      border-color: transparent;\n",
              "      border-left-color: var(--fill-color);\n",
              "      border-top-color: var(--fill-color);\n",
              "      border-right-color: var(--fill-color);\n",
              "    }\n",
              "    40% {\n",
              "      border-color: transparent;\n",
              "      border-right-color: var(--fill-color);\n",
              "      border-top-color: var(--fill-color);\n",
              "    }\n",
              "    60% {\n",
              "      border-color: transparent;\n",
              "      border-right-color: var(--fill-color);\n",
              "    }\n",
              "    80% {\n",
              "      border-color: transparent;\n",
              "      border-right-color: var(--fill-color);\n",
              "      border-bottom-color: var(--fill-color);\n",
              "    }\n",
              "    90% {\n",
              "      border-color: transparent;\n",
              "      border-bottom-color: var(--fill-color);\n",
              "    }\n",
              "  }\n",
              "</style>\n",
              "\n",
              "  <script>\n",
              "    async function quickchart(key) {\n",
              "      const quickchartButtonEl =\n",
              "        document.querySelector('#' + key + ' button');\n",
              "      quickchartButtonEl.disabled = true;  // To prevent multiple clicks.\n",
              "      quickchartButtonEl.classList.add('colab-df-spinner');\n",
              "      try {\n",
              "        const charts = await google.colab.kernel.invokeFunction(\n",
              "            'suggestCharts', [key], {});\n",
              "      } catch (error) {\n",
              "        console.error('Error during call to suggestCharts:', error);\n",
              "      }\n",
              "      quickchartButtonEl.classList.remove('colab-df-spinner');\n",
              "      quickchartButtonEl.classList.add('colab-df-quickchart-complete');\n",
              "    }\n",
              "    (() => {\n",
              "      let quickchartButtonEl =\n",
              "        document.querySelector('#df-37fed023-05ed-4c2f-a544-9653d94b3003 button');\n",
              "      quickchartButtonEl.style.display =\n",
              "        google.colab.kernel.accessAllowed ? 'block' : 'none';\n",
              "    })();\n",
              "  </script>\n",
              "</div>\n",
              "\n",
              "    </div>\n",
              "  </div>\n"
            ]
          },
          "metadata": {},
          "execution_count": 234
        }
      ]
    },
    {
      "cell_type": "code",
      "source": [
        "data.shape"
      ],
      "metadata": {
        "colab": {
          "base_uri": "https://localhost:8080/"
        },
        "id": "sZ6B2COJ9Wlh",
        "outputId": "35ec6bed-0e99-4867-a170-0f7dd7f4b9cb"
      },
      "execution_count": 237,
      "outputs": [
        {
          "output_type": "execute_result",
          "data": {
            "text/plain": [
              "(5110, 12)"
            ]
          },
          "metadata": {},
          "execution_count": 237
        }
      ]
    },
    {
      "cell_type": "markdown",
      "source": [
        "### Preprocessing"
      ],
      "metadata": {
        "id": "j9p5RmpsO4V1"
      }
    },
    {
      "cell_type": "code",
      "source": [
        "#Encoding\n",
        "categorical_cols = ['gender', 'ever_married', 'work_type', 'Residence_type', 'smoking_status']\n",
        "encoded_data = pd.get_dummies(data, columns=categorical_cols)"
      ],
      "metadata": {
        "id": "J9l0U6lRFH13"
      },
      "execution_count": 239,
      "outputs": []
    },
    {
      "cell_type": "code",
      "source": [
        "encoded_data.info()"
      ],
      "metadata": {
        "colab": {
          "base_uri": "https://localhost:8080/"
        },
        "id": "aSKKj2RkKnOu",
        "outputId": "57a75d0c-b8b3-49be-b42e-8c5982849466"
      },
      "execution_count": 240,
      "outputs": [
        {
          "output_type": "stream",
          "name": "stdout",
          "text": [
            "<class 'pandas.core.frame.DataFrame'>\n",
            "RangeIndex: 5110 entries, 0 to 5109\n",
            "Data columns (total 23 columns):\n",
            " #   Column                          Non-Null Count  Dtype  \n",
            "---  ------                          --------------  -----  \n",
            " 0   id                              5110 non-null   int64  \n",
            " 1   age                             5110 non-null   float64\n",
            " 2   hypertension                    5110 non-null   int64  \n",
            " 3   heart_disease                   5110 non-null   int64  \n",
            " 4   avg_glucose_level               5110 non-null   float64\n",
            " 5   bmi                             4909 non-null   float64\n",
            " 6   stroke                          5110 non-null   int64  \n",
            " 7   gender_Female                   5110 non-null   uint8  \n",
            " 8   gender_Male                     5110 non-null   uint8  \n",
            " 9   gender_Other                    5110 non-null   uint8  \n",
            " 10  ever_married_No                 5110 non-null   uint8  \n",
            " 11  ever_married_Yes                5110 non-null   uint8  \n",
            " 12  work_type_Govt_job              5110 non-null   uint8  \n",
            " 13  work_type_Never_worked          5110 non-null   uint8  \n",
            " 14  work_type_Private               5110 non-null   uint8  \n",
            " 15  work_type_Self-employed         5110 non-null   uint8  \n",
            " 16  work_type_children              5110 non-null   uint8  \n",
            " 17  Residence_type_Rural            5110 non-null   uint8  \n",
            " 18  Residence_type_Urban            5110 non-null   uint8  \n",
            " 19  smoking_status_Unknown          5110 non-null   uint8  \n",
            " 20  smoking_status_formerly smoked  5110 non-null   uint8  \n",
            " 21  smoking_status_never smoked     5110 non-null   uint8  \n",
            " 22  smoking_status_smokes           5110 non-null   uint8  \n",
            "dtypes: float64(3), int64(4), uint8(16)\n",
            "memory usage: 359.4 KB\n"
          ]
        }
      ]
    },
    {
      "cell_type": "code",
      "source": [
        "encoded_data.shape"
      ],
      "metadata": {
        "colab": {
          "base_uri": "https://localhost:8080/"
        },
        "id": "EglggKqULkAw",
        "outputId": "c209ecb2-60f6-4089-ee83-9fea1d78696a"
      },
      "execution_count": 241,
      "outputs": [
        {
          "output_type": "execute_result",
          "data": {
            "text/plain": [
              "(5110, 23)"
            ]
          },
          "metadata": {},
          "execution_count": 241
        }
      ]
    },
    {
      "cell_type": "code",
      "source": [
        "#Split features and target value\n",
        "y = encoded_data['stroke']\n",
        "X = encoded_data.drop(columns=['stroke'])"
      ],
      "metadata": {
        "id": "03palUI2_hoU"
      },
      "execution_count": 242,
      "outputs": []
    },
    {
      "cell_type": "code",
      "source": [
        "X.shape"
      ],
      "metadata": {
        "colab": {
          "base_uri": "https://localhost:8080/"
        },
        "id": "7CpKozVQLPKn",
        "outputId": "2f723937-85b0-4242-8be1-fb449f955495"
      },
      "execution_count": 243,
      "outputs": [
        {
          "output_type": "execute_result",
          "data": {
            "text/plain": [
              "(5110, 22)"
            ]
          },
          "metadata": {},
          "execution_count": 243
        }
      ]
    },
    {
      "cell_type": "code",
      "source": [
        "# Handling na values in bmi\n",
        "knn_imp = KNNImputer(n_neighbors=5)\n",
        "X = knn_imp.fit_transform(X)"
      ],
      "metadata": {
        "id": "tHhs12_OGokM"
      },
      "execution_count": 246,
      "outputs": []
    },
    {
      "cell_type": "code",
      "source": [
        "# Handling imbalance using synthetic oversampling\n",
        "import pandas as pd\n",
        "smote = SMOTE(random_state=42)\n",
        "X_resampled, y_resampled = smote.fit_resample(X, y)\n",
        "X_resampled = pd.DataFrame(X_resampled)\n",
        "y_resampled = pd.DataFrame(y_resampled)\n",
        "resampled_data = pd.concat([pd.DataFrame(X_resampled), pd.DataFrame(y_resampled)], axis=1)"
      ],
      "metadata": {
        "id": "bjaTfoZhMW7H"
      },
      "execution_count": 261,
      "outputs": []
    },
    {
      "cell_type": "code",
      "source": [
        "# Normalization\n",
        "scaler = StandardScaler()\n",
        "X_scaled = scaler.fit_transform(X_resampled)"
      ],
      "metadata": {
        "id": "n1ss74fqKJ3j"
      },
      "execution_count": 262,
      "outputs": []
    },
    {
      "cell_type": "code",
      "source": [
        "#Train test split\n",
        "X_train, X_test, y_train, y_test = train_test_split(X_scaled, y_resampled, test_size = 0.2, random_state=42)"
      ],
      "metadata": {
        "id": "ONjPz4MJG4ip"
      },
      "execution_count": 263,
      "outputs": []
    },
    {
      "cell_type": "markdown",
      "source": [
        "### Model Creation, compilation and training"
      ],
      "metadata": {
        "id": "rfpu5cVjPKtV"
      }
    },
    {
      "cell_type": "code",
      "source": [
        "X_train.shape"
      ],
      "metadata": {
        "colab": {
          "base_uri": "https://localhost:8080/"
        },
        "id": "MeKMTeaaFfTx",
        "outputId": "bcdecb4e-d572-4855-a797-300fa2782ccf"
      },
      "execution_count": 268,
      "outputs": [
        {
          "output_type": "execute_result",
          "data": {
            "text/plain": [
              "(7777, 22)"
            ]
          },
          "metadata": {},
          "execution_count": 268
        }
      ]
    },
    {
      "cell_type": "code",
      "source": [
        "#Model Creation\n",
        "model = Sequential()\n",
        "model.add(Dense(64, activation='relu', input_shape=(22,))) #input layer\n",
        "model.add(Dropout(0.6))  # Dropout layer after the first Dense layer\n",
        "# Hidden layer\n",
        "model.add(Dense(128, activation='relu'))\n",
        "model.add(Dropout(0.6))\n",
        "model.add(Dense(256, activation='relu'))\n",
        "model.add(Dropout(0.6))\n",
        "model.add(Dense(128, activation='relu'))\n",
        "model.add(Dropout(0.6))\n",
        "model.add(Dense(64, activation='relu'))\n",
        "model.add(Dropout(0.6))\n",
        "model.add(Dense(32, activation='relu'))\n",
        "model.add(Dropout(0.6))\n",
        "model.add(Dense(1, activation='sigmoid')) #output layer"
      ],
      "metadata": {
        "id": "8sNkAFXK_MFb"
      },
      "execution_count": 269,
      "outputs": []
    },
    {
      "cell_type": "code",
      "source": [
        "model.summary() #display model contents"
      ],
      "metadata": {
        "colab": {
          "base_uri": "https://localhost:8080/"
        },
        "id": "DvGbxOqFCJyF",
        "outputId": "8553f4c7-1ced-437e-b18d-b9395baa232f"
      },
      "execution_count": 270,
      "outputs": [
        {
          "output_type": "stream",
          "name": "stdout",
          "text": [
            "Model: \"sequential_13\"\n",
            "_________________________________________________________________\n",
            " Layer (type)                Output Shape              Param #   \n",
            "=================================================================\n",
            " dense_67 (Dense)            (None, 64)                1472      \n",
            "                                                                 \n",
            " dropout_42 (Dropout)        (None, 64)                0         \n",
            "                                                                 \n",
            " dense_68 (Dense)            (None, 128)               8320      \n",
            "                                                                 \n",
            " dropout_43 (Dropout)        (None, 128)               0         \n",
            "                                                                 \n",
            " dense_69 (Dense)            (None, 256)               33024     \n",
            "                                                                 \n",
            " dropout_44 (Dropout)        (None, 256)               0         \n",
            "                                                                 \n",
            " dense_70 (Dense)            (None, 128)               32896     \n",
            "                                                                 \n",
            " dropout_45 (Dropout)        (None, 128)               0         \n",
            "                                                                 \n",
            " dense_71 (Dense)            (None, 64)                8256      \n",
            "                                                                 \n",
            " dropout_46 (Dropout)        (None, 64)                0         \n",
            "                                                                 \n",
            " dense_72 (Dense)            (None, 32)                2080      \n",
            "                                                                 \n",
            " dropout_47 (Dropout)        (None, 32)                0         \n",
            "                                                                 \n",
            " dense_73 (Dense)            (None, 1)                 33        \n",
            "                                                                 \n",
            "=================================================================\n",
            "Total params: 86081 (336.25 KB)\n",
            "Trainable params: 86081 (336.25 KB)\n",
            "Non-trainable params: 0 (0.00 Byte)\n",
            "_________________________________________________________________\n"
          ]
        }
      ]
    },
    {
      "cell_type": "code",
      "source": [
        "#Model Compilation\n",
        "model.compile(optimizer=Adam(learning_rate=0.0001), loss='binary_crossentropy', metrics=['acc'])\n",
        "early_stop = EarlyStopping(monitor='val_loss', patience=30, restore_best_weights=True)"
      ],
      "metadata": {
        "id": "aCE1OxiuB9wg"
      },
      "execution_count": 271,
      "outputs": []
    },
    {
      "cell_type": "code",
      "source": [
        "model.fit(X_train, y_train, epochs=1000, callbacks=[early_stop], validation_split=0.2)"
      ],
      "metadata": {
        "colab": {
          "base_uri": "https://localhost:8080/"
        },
        "id": "FPOzEo6xDS9k",
        "outputId": "4b0146b5-b108-4389-e412-cc9144d446e7"
      },
      "execution_count": 272,
      "outputs": [
        {
          "output_type": "stream",
          "name": "stdout",
          "text": [
            "Epoch 1/1000\n",
            "195/195 [==============================] - 3s 5ms/step - loss: 0.8999 - acc: 0.4904 - val_loss: 0.6901 - val_acc: 0.6028\n",
            "Epoch 2/1000\n",
            "195/195 [==============================] - 1s 4ms/step - loss: 0.7851 - acc: 0.5033 - val_loss: 0.6914 - val_acc: 0.5193\n",
            "Epoch 3/1000\n",
            "195/195 [==============================] - 1s 4ms/step - loss: 0.7517 - acc: 0.5139 - val_loss: 0.6925 - val_acc: 0.4987\n",
            "Epoch 4/1000\n",
            "195/195 [==============================] - 1s 4ms/step - loss: 0.7328 - acc: 0.5154 - val_loss: 0.6933 - val_acc: 0.4968\n",
            "Epoch 5/1000\n",
            "195/195 [==============================] - 1s 4ms/step - loss: 0.7195 - acc: 0.5208 - val_loss: 0.6936 - val_acc: 0.4968\n",
            "Epoch 6/1000\n",
            "195/195 [==============================] - 1s 4ms/step - loss: 0.7060 - acc: 0.5207 - val_loss: 0.6940 - val_acc: 0.4968\n",
            "Epoch 7/1000\n",
            "195/195 [==============================] - 1s 4ms/step - loss: 0.6963 - acc: 0.5433 - val_loss: 0.6942 - val_acc: 0.4968\n",
            "Epoch 8/1000\n",
            "195/195 [==============================] - 1s 4ms/step - loss: 0.6934 - acc: 0.5390 - val_loss: 0.6942 - val_acc: 0.4968\n",
            "Epoch 9/1000\n",
            "195/195 [==============================] - 1s 4ms/step - loss: 0.6888 - acc: 0.5525 - val_loss: 0.6942 - val_acc: 0.4968\n",
            "Epoch 10/1000\n",
            "195/195 [==============================] - 1s 4ms/step - loss: 0.6829 - acc: 0.5570 - val_loss: 0.6941 - val_acc: 0.4968\n",
            "Epoch 11/1000\n",
            "195/195 [==============================] - 1s 5ms/step - loss: 0.6727 - acc: 0.5824 - val_loss: 0.6935 - val_acc: 0.4968\n",
            "Epoch 12/1000\n",
            "195/195 [==============================] - 1s 5ms/step - loss: 0.6691 - acc: 0.5827 - val_loss: 0.6925 - val_acc: 0.4981\n",
            "Epoch 13/1000\n",
            "195/195 [==============================] - 1s 6ms/step - loss: 0.6672 - acc: 0.5814 - val_loss: 0.6918 - val_acc: 0.4987\n",
            "Epoch 14/1000\n",
            "195/195 [==============================] - 1s 5ms/step - loss: 0.6589 - acc: 0.6030 - val_loss: 0.6903 - val_acc: 0.5013\n",
            "Epoch 15/1000\n",
            "195/195 [==============================] - 1s 4ms/step - loss: 0.6502 - acc: 0.6129 - val_loss: 0.6882 - val_acc: 0.5347\n",
            "Epoch 16/1000\n",
            "195/195 [==============================] - 1s 4ms/step - loss: 0.6477 - acc: 0.6231 - val_loss: 0.6847 - val_acc: 0.5611\n",
            "Epoch 17/1000\n",
            "195/195 [==============================] - 1s 4ms/step - loss: 0.6443 - acc: 0.6224 - val_loss: 0.6816 - val_acc: 0.5675\n",
            "Epoch 18/1000\n",
            "195/195 [==============================] - 1s 4ms/step - loss: 0.6382 - acc: 0.6470 - val_loss: 0.6757 - val_acc: 0.5842\n",
            "Epoch 19/1000\n",
            "195/195 [==============================] - 1s 4ms/step - loss: 0.6292 - acc: 0.6605 - val_loss: 0.6684 - val_acc: 0.6080\n",
            "Epoch 20/1000\n",
            "195/195 [==============================] - 1s 4ms/step - loss: 0.6146 - acc: 0.6737 - val_loss: 0.6561 - val_acc: 0.6414\n",
            "Epoch 21/1000\n",
            "195/195 [==============================] - 1s 4ms/step - loss: 0.6033 - acc: 0.6869 - val_loss: 0.6455 - val_acc: 0.6497\n",
            "Epoch 22/1000\n",
            "195/195 [==============================] - 1s 4ms/step - loss: 0.5957 - acc: 0.6960 - val_loss: 0.6326 - val_acc: 0.6555\n",
            "Epoch 23/1000\n",
            "195/195 [==============================] - 1s 4ms/step - loss: 0.5939 - acc: 0.6972 - val_loss: 0.6244 - val_acc: 0.6575\n",
            "Epoch 24/1000\n",
            "195/195 [==============================] - 1s 4ms/step - loss: 0.5849 - acc: 0.7124 - val_loss: 0.6172 - val_acc: 0.6575\n",
            "Epoch 25/1000\n",
            "195/195 [==============================] - 1s 4ms/step - loss: 0.5802 - acc: 0.7208 - val_loss: 0.6100 - val_acc: 0.6613\n",
            "Epoch 26/1000\n",
            "195/195 [==============================] - 1s 4ms/step - loss: 0.5666 - acc: 0.7205 - val_loss: 0.6020 - val_acc: 0.6620\n",
            "Epoch 27/1000\n",
            "195/195 [==============================] - 1s 4ms/step - loss: 0.5698 - acc: 0.7248 - val_loss: 0.5981 - val_acc: 0.6607\n",
            "Epoch 28/1000\n",
            "195/195 [==============================] - 1s 5ms/step - loss: 0.5539 - acc: 0.7325 - val_loss: 0.5848 - val_acc: 0.6684\n",
            "Epoch 29/1000\n",
            "195/195 [==============================] - 1s 5ms/step - loss: 0.5543 - acc: 0.7365 - val_loss: 0.5817 - val_acc: 0.6703\n",
            "Epoch 30/1000\n",
            "195/195 [==============================] - 1s 5ms/step - loss: 0.5439 - acc: 0.7462 - val_loss: 0.5802 - val_acc: 0.6697\n",
            "Epoch 31/1000\n",
            "195/195 [==============================] - 1s 4ms/step - loss: 0.5323 - acc: 0.7557 - val_loss: 0.5725 - val_acc: 0.6780\n",
            "Epoch 32/1000\n",
            "195/195 [==============================] - 1s 4ms/step - loss: 0.5260 - acc: 0.7518 - val_loss: 0.5652 - val_acc: 0.6857\n",
            "Epoch 33/1000\n",
            "195/195 [==============================] - 1s 4ms/step - loss: 0.5233 - acc: 0.7619 - val_loss: 0.5636 - val_acc: 0.6877\n",
            "Epoch 34/1000\n",
            "195/195 [==============================] - 1s 4ms/step - loss: 0.5140 - acc: 0.7634 - val_loss: 0.5597 - val_acc: 0.6954\n",
            "Epoch 35/1000\n",
            "195/195 [==============================] - 1s 4ms/step - loss: 0.5169 - acc: 0.7629 - val_loss: 0.5630 - val_acc: 0.6947\n",
            "Epoch 36/1000\n",
            "195/195 [==============================] - 1s 4ms/step - loss: 0.5067 - acc: 0.7648 - val_loss: 0.5575 - val_acc: 0.7005\n",
            "Epoch 37/1000\n",
            "195/195 [==============================] - 1s 4ms/step - loss: 0.4921 - acc: 0.7701 - val_loss: 0.5544 - val_acc: 0.7044\n",
            "Epoch 38/1000\n",
            "195/195 [==============================] - 1s 4ms/step - loss: 0.4972 - acc: 0.7679 - val_loss: 0.5566 - val_acc: 0.7024\n",
            "Epoch 39/1000\n",
            "195/195 [==============================] - 1s 4ms/step - loss: 0.4863 - acc: 0.7783 - val_loss: 0.5534 - val_acc: 0.7063\n",
            "Epoch 40/1000\n",
            "195/195 [==============================] - 1s 4ms/step - loss: 0.4905 - acc: 0.7764 - val_loss: 0.5570 - val_acc: 0.7069\n",
            "Epoch 41/1000\n",
            "195/195 [==============================] - 1s 4ms/step - loss: 0.4797 - acc: 0.7865 - val_loss: 0.5558 - val_acc: 0.7089\n",
            "Epoch 42/1000\n",
            "195/195 [==============================] - 1s 4ms/step - loss: 0.4765 - acc: 0.7833 - val_loss: 0.5568 - val_acc: 0.7082\n",
            "Epoch 43/1000\n",
            "195/195 [==============================] - 1s 4ms/step - loss: 0.4720 - acc: 0.7854 - val_loss: 0.5609 - val_acc: 0.7089\n",
            "Epoch 44/1000\n",
            "195/195 [==============================] - 1s 6ms/step - loss: 0.4631 - acc: 0.7869 - val_loss: 0.5656 - val_acc: 0.7082\n",
            "Epoch 45/1000\n",
            "195/195 [==============================] - 1s 5ms/step - loss: 0.4724 - acc: 0.7883 - val_loss: 0.5742 - val_acc: 0.7063\n",
            "Epoch 46/1000\n",
            "195/195 [==============================] - 1s 5ms/step - loss: 0.4601 - acc: 0.7909 - val_loss: 0.5783 - val_acc: 0.7057\n",
            "Epoch 47/1000\n",
            "195/195 [==============================] - 1s 4ms/step - loss: 0.4558 - acc: 0.8018 - val_loss: 0.5864 - val_acc: 0.6986\n",
            "Epoch 48/1000\n",
            "195/195 [==============================] - 1s 4ms/step - loss: 0.4529 - acc: 0.7949 - val_loss: 0.5872 - val_acc: 0.6999\n",
            "Epoch 49/1000\n",
            "195/195 [==============================] - 1s 4ms/step - loss: 0.4543 - acc: 0.8049 - val_loss: 0.5891 - val_acc: 0.6992\n",
            "Epoch 50/1000\n",
            "195/195 [==============================] - 1s 4ms/step - loss: 0.4482 - acc: 0.8041 - val_loss: 0.5891 - val_acc: 0.7031\n",
            "Epoch 51/1000\n",
            "195/195 [==============================] - 1s 4ms/step - loss: 0.4470 - acc: 0.8026 - val_loss: 0.5942 - val_acc: 0.6986\n",
            "Epoch 52/1000\n",
            "195/195 [==============================] - 1s 4ms/step - loss: 0.4367 - acc: 0.8095 - val_loss: 0.5967 - val_acc: 0.6973\n",
            "Epoch 53/1000\n",
            "195/195 [==============================] - 1s 4ms/step - loss: 0.4487 - acc: 0.7992 - val_loss: 0.6061 - val_acc: 0.6922\n",
            "Epoch 54/1000\n",
            "195/195 [==============================] - 1s 4ms/step - loss: 0.4380 - acc: 0.8094 - val_loss: 0.6018 - val_acc: 0.6979\n",
            "Epoch 55/1000\n",
            "195/195 [==============================] - 1s 4ms/step - loss: 0.4435 - acc: 0.8069 - val_loss: 0.6169 - val_acc: 0.6889\n",
            "Epoch 56/1000\n",
            "195/195 [==============================] - 1s 4ms/step - loss: 0.4365 - acc: 0.8090 - val_loss: 0.6271 - val_acc: 0.6838\n",
            "Epoch 57/1000\n",
            "195/195 [==============================] - 1s 4ms/step - loss: 0.4299 - acc: 0.8071 - val_loss: 0.6207 - val_acc: 0.6909\n",
            "Epoch 58/1000\n",
            "195/195 [==============================] - 1s 4ms/step - loss: 0.4383 - acc: 0.8094 - val_loss: 0.6241 - val_acc: 0.6915\n",
            "Epoch 59/1000\n",
            "195/195 [==============================] - 1s 4ms/step - loss: 0.4363 - acc: 0.8086 - val_loss: 0.6323 - val_acc: 0.6870\n",
            "Epoch 60/1000\n",
            "195/195 [==============================] - 2s 8ms/step - loss: 0.4253 - acc: 0.8122 - val_loss: 0.6301 - val_acc: 0.6928\n",
            "Epoch 61/1000\n",
            "195/195 [==============================] - 1s 7ms/step - loss: 0.4252 - acc: 0.8111 - val_loss: 0.6361 - val_acc: 0.6915\n",
            "Epoch 62/1000\n",
            "195/195 [==============================] - 1s 6ms/step - loss: 0.4263 - acc: 0.8114 - val_loss: 0.6349 - val_acc: 0.6922\n",
            "Epoch 63/1000\n",
            "195/195 [==============================] - 1s 5ms/step - loss: 0.4254 - acc: 0.8150 - val_loss: 0.6366 - val_acc: 0.6922\n",
            "Epoch 64/1000\n",
            "195/195 [==============================] - 1s 5ms/step - loss: 0.4218 - acc: 0.8171 - val_loss: 0.6507 - val_acc: 0.6877\n",
            "Epoch 65/1000\n",
            "195/195 [==============================] - 1s 6ms/step - loss: 0.4168 - acc: 0.8198 - val_loss: 0.6531 - val_acc: 0.6902\n",
            "Epoch 66/1000\n",
            "195/195 [==============================] - 1s 5ms/step - loss: 0.4240 - acc: 0.8129 - val_loss: 0.6534 - val_acc: 0.6896\n",
            "Epoch 67/1000\n",
            "195/195 [==============================] - 1s 6ms/step - loss: 0.4172 - acc: 0.8184 - val_loss: 0.6522 - val_acc: 0.6909\n",
            "Epoch 68/1000\n",
            "195/195 [==============================] - 1s 6ms/step - loss: 0.4182 - acc: 0.8172 - val_loss: 0.6596 - val_acc: 0.6877\n",
            "Epoch 69/1000\n",
            "195/195 [==============================] - 1s 6ms/step - loss: 0.4184 - acc: 0.8225 - val_loss: 0.6571 - val_acc: 0.6902\n"
          ]
        },
        {
          "output_type": "execute_result",
          "data": {
            "text/plain": [
              "<keras.src.callbacks.History at 0x7a103302c4f0>"
            ]
          },
          "metadata": {},
          "execution_count": 272
        }
      ]
    },
    {
      "cell_type": "markdown",
      "source": [
        "### Model evaluation"
      ],
      "metadata": {
        "id": "wLGCSu05PUcx"
      }
    },
    {
      "cell_type": "code",
      "source": [
        "y_pred_prob = model.predict(X_test)\n",
        "y_pred = np.round(y_pred_prob).astype(int).ravel()"
      ],
      "metadata": {
        "colab": {
          "base_uri": "https://localhost:8080/"
        },
        "id": "mwp6ErU6QrFh",
        "outputId": "863f76fd-500d-49b0-99a0-3759e0192921"
      },
      "execution_count": 281,
      "outputs": [
        {
          "output_type": "stream",
          "name": "stdout",
          "text": [
            "61/61 [==============================] - 0s 2ms/step\n"
          ]
        }
      ]
    },
    {
      "cell_type": "code",
      "source": [
        "# Calculate evaluation metrics\n",
        "accuracy = accuracy_score(y_test, y_pred)\n",
        "precision = precision_score(y_test, y_pred)\n",
        "recall = recall_score(y_test, y_pred)\n",
        "f1 = f1_score(y_test, y_pred)\n",
        "\n",
        "# Print the evaluation metrics\n",
        "print(f\"Accuracy: {accuracy}\")\n",
        "print(f\"Precision: {precision}\")\n",
        "print(f\"Recall: {recall}\")\n",
        "print(f\"F1-Score: {f1}\")"
      ],
      "metadata": {
        "colab": {
          "base_uri": "https://localhost:8080/"
        },
        "id": "s4wxE83EPzKN",
        "outputId": "d3c14b4f-7bc7-4680-fa5b-6a9dac80b1e1"
      },
      "execution_count": 282,
      "outputs": [
        {
          "output_type": "stream",
          "name": "stdout",
          "text": [
            "Accuracy: 0.6976863753213368\n",
            "Precision: 0.6243489583333334\n",
            "Recall: 0.988659793814433\n",
            "F1-Score: 0.7653631284916201\n"
          ]
        }
      ]
    }
  ]
}