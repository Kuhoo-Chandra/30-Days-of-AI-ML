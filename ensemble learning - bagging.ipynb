{
 "cells": [
  {
   "cell_type": "markdown",
   "id": "da2eae56",
   "metadata": {},
   "source": [
    "# Ensemble Learning - Bagging\n",
    "\n",
    "\n",
    "Ensemble learning is a machine learning technique where multiple models are combined to improve the overall performance and generalization of the system. Bagging, which stands for Bootstrap Aggregating, is a popular ensemble learning method."
   ]
  },
  {
   "cell_type": "markdown",
   "id": "91bde49a",
   "metadata": {},
   "source": [
    "### Steps of Bootstrap Aggregation\n",
    "\n",
    "1. Bootstrap Sampling: Divide the training dataset into multiple subsets with replacement. This means that some instances may be repeated in a subset while others may not be included at all.\n",
    "\n",
    "2. Training base models: A base model(weak learner) is trained on each data subset independently. Each model captures different aspects present uniquely in that subeset.\n",
    "\n",
    "3. Aggregation of predictions: For testing, predictions from each base model are combined to give the final prediction\n",
    "    - Classification: Majiority vote is commonly used\n",
    "    - Regression: Mean of outputs from each base model"
   ]
  },
  {
   "cell_type": "markdown",
   "id": "6f2ae303",
   "metadata": {},
   "source": [
    "### Applications \n",
    "\n",
    "1. Bioinformatics: can be used for gene and protein selection ( https://www.maths.usyd.edu.au/u/pengyi/publication/EnsembleBioinformatics-v6.pdf)\n",
    "\n",
    "2. Remote sensing: can be used for image classification tasks to enhance accuracy of feature classification in sattelite images with each base model focusing on a different texture (https://www.mdpi.com/2072-4292/12/10/1683/htm)"
   ]
  },
  {
   "cell_type": "code",
   "execution_count": 88,
   "id": "86bde1e5",
   "metadata": {},
   "outputs": [],
   "source": [
    "import pandas as pd\n",
    "import os\n",
    "import numpy as np\n",
    "import matplotlib.pyplot as plt\n",
    "from sklearn.ensemble import BaggingClassifier\n",
    "from sklearn.tree import DecisionTreeClassifier\n",
    "from sklearn.metrics import accuracy_score\n",
    "from sklearn.model_selection import train_test_split\n",
    "from sklearn.model_selection import cross_val_score"
   ]
  },
  {
   "cell_type": "code",
   "execution_count": 89,
   "id": "37e516b8",
   "metadata": {},
   "outputs": [],
   "source": [
    "data = pd.read_csv('heart_failure_clinical_records.csv')"
   ]
  },
  {
   "cell_type": "code",
   "execution_count": 90,
   "id": "84e24420",
   "metadata": {},
   "outputs": [
    {
     "data": {
      "text/plain": [
       "(299, 13)"
      ]
     },
     "execution_count": 90,
     "metadata": {},
     "output_type": "execute_result"
    }
   ],
   "source": [
    "data.shape"
   ]
  },
  {
   "cell_type": "code",
   "execution_count": 91,
   "id": "c401c6a6",
   "metadata": {},
   "outputs": [
    {
     "data": {
      "text/html": [
       "<div>\n",
       "<style scoped>\n",
       "    .dataframe tbody tr th:only-of-type {\n",
       "        vertical-align: middle;\n",
       "    }\n",
       "\n",
       "    .dataframe tbody tr th {\n",
       "        vertical-align: top;\n",
       "    }\n",
       "\n",
       "    .dataframe thead th {\n",
       "        text-align: right;\n",
       "    }\n",
       "</style>\n",
       "<table border=\"1\" class=\"dataframe\">\n",
       "  <thead>\n",
       "    <tr style=\"text-align: right;\">\n",
       "      <th></th>\n",
       "      <th>age</th>\n",
       "      <th>anaemia</th>\n",
       "      <th>creatinine_phosphokinase</th>\n",
       "      <th>diabetes</th>\n",
       "      <th>ejection_fraction</th>\n",
       "      <th>high_blood_pressure</th>\n",
       "      <th>platelets</th>\n",
       "      <th>serum_creatinine</th>\n",
       "      <th>serum_sodium</th>\n",
       "      <th>sex</th>\n",
       "      <th>smoking</th>\n",
       "      <th>time</th>\n",
       "      <th>DEATH_EVENT</th>\n",
       "    </tr>\n",
       "  </thead>\n",
       "  <tbody>\n",
       "    <tr>\n",
       "      <th>0</th>\n",
       "      <td>75.0</td>\n",
       "      <td>0</td>\n",
       "      <td>582</td>\n",
       "      <td>0</td>\n",
       "      <td>20</td>\n",
       "      <td>1</td>\n",
       "      <td>265000.00</td>\n",
       "      <td>1.9</td>\n",
       "      <td>130</td>\n",
       "      <td>1</td>\n",
       "      <td>0</td>\n",
       "      <td>4</td>\n",
       "      <td>1</td>\n",
       "    </tr>\n",
       "    <tr>\n",
       "      <th>1</th>\n",
       "      <td>55.0</td>\n",
       "      <td>0</td>\n",
       "      <td>7861</td>\n",
       "      <td>0</td>\n",
       "      <td>38</td>\n",
       "      <td>0</td>\n",
       "      <td>263358.03</td>\n",
       "      <td>1.1</td>\n",
       "      <td>136</td>\n",
       "      <td>1</td>\n",
       "      <td>0</td>\n",
       "      <td>6</td>\n",
       "      <td>1</td>\n",
       "    </tr>\n",
       "    <tr>\n",
       "      <th>2</th>\n",
       "      <td>65.0</td>\n",
       "      <td>0</td>\n",
       "      <td>146</td>\n",
       "      <td>0</td>\n",
       "      <td>20</td>\n",
       "      <td>0</td>\n",
       "      <td>162000.00</td>\n",
       "      <td>1.3</td>\n",
       "      <td>129</td>\n",
       "      <td>1</td>\n",
       "      <td>1</td>\n",
       "      <td>7</td>\n",
       "      <td>1</td>\n",
       "    </tr>\n",
       "    <tr>\n",
       "      <th>3</th>\n",
       "      <td>50.0</td>\n",
       "      <td>1</td>\n",
       "      <td>111</td>\n",
       "      <td>0</td>\n",
       "      <td>20</td>\n",
       "      <td>0</td>\n",
       "      <td>210000.00</td>\n",
       "      <td>1.9</td>\n",
       "      <td>137</td>\n",
       "      <td>1</td>\n",
       "      <td>0</td>\n",
       "      <td>7</td>\n",
       "      <td>1</td>\n",
       "    </tr>\n",
       "    <tr>\n",
       "      <th>4</th>\n",
       "      <td>65.0</td>\n",
       "      <td>1</td>\n",
       "      <td>160</td>\n",
       "      <td>1</td>\n",
       "      <td>20</td>\n",
       "      <td>0</td>\n",
       "      <td>327000.00</td>\n",
       "      <td>2.7</td>\n",
       "      <td>116</td>\n",
       "      <td>0</td>\n",
       "      <td>0</td>\n",
       "      <td>8</td>\n",
       "      <td>1</td>\n",
       "    </tr>\n",
       "  </tbody>\n",
       "</table>\n",
       "</div>"
      ],
      "text/plain": [
       "    age  anaemia  creatinine_phosphokinase  diabetes  ejection_fraction  \\\n",
       "0  75.0        0                       582         0                 20   \n",
       "1  55.0        0                      7861         0                 38   \n",
       "2  65.0        0                       146         0                 20   \n",
       "3  50.0        1                       111         0                 20   \n",
       "4  65.0        1                       160         1                 20   \n",
       "\n",
       "   high_blood_pressure  platelets  serum_creatinine  serum_sodium  sex  \\\n",
       "0                    1  265000.00               1.9           130    1   \n",
       "1                    0  263358.03               1.1           136    1   \n",
       "2                    0  162000.00               1.3           129    1   \n",
       "3                    0  210000.00               1.9           137    1   \n",
       "4                    0  327000.00               2.7           116    0   \n",
       "\n",
       "   smoking  time  DEATH_EVENT  \n",
       "0        0     4            1  \n",
       "1        0     6            1  \n",
       "2        1     7            1  \n",
       "3        0     7            1  \n",
       "4        0     8            1  "
      ]
     },
     "execution_count": 91,
     "metadata": {},
     "output_type": "execute_result"
    }
   ],
   "source": [
    "data.head()"
   ]
  },
  {
   "cell_type": "code",
   "execution_count": 92,
   "id": "e13c36c4",
   "metadata": {},
   "outputs": [
    {
     "name": "stdout",
     "output_type": "stream",
     "text": [
      "<class 'pandas.core.frame.DataFrame'>\n",
      "RangeIndex: 299 entries, 0 to 298\n",
      "Data columns (total 13 columns):\n",
      " #   Column                    Non-Null Count  Dtype  \n",
      "---  ------                    --------------  -----  \n",
      " 0   age                       299 non-null    float64\n",
      " 1   anaemia                   299 non-null    int64  \n",
      " 2   creatinine_phosphokinase  299 non-null    int64  \n",
      " 3   diabetes                  299 non-null    int64  \n",
      " 4   ejection_fraction         299 non-null    int64  \n",
      " 5   high_blood_pressure       299 non-null    int64  \n",
      " 6   platelets                 299 non-null    float64\n",
      " 7   serum_creatinine          299 non-null    float64\n",
      " 8   serum_sodium              299 non-null    int64  \n",
      " 9   sex                       299 non-null    int64  \n",
      " 10  smoking                   299 non-null    int64  \n",
      " 11  time                      299 non-null    int64  \n",
      " 12  DEATH_EVENT               299 non-null    int64  \n",
      "dtypes: float64(3), int64(10)\n",
      "memory usage: 30.5 KB\n"
     ]
    }
   ],
   "source": [
    "data.info()"
   ]
  },
  {
   "cell_type": "code",
   "execution_count": 93,
   "id": "2cdfc06b",
   "metadata": {},
   "outputs": [],
   "source": [
    "X = data.drop('DEATH_EVENT', axis=1)"
   ]
  },
  {
   "cell_type": "code",
   "execution_count": 94,
   "id": "b2dc1dfb",
   "metadata": {},
   "outputs": [
    {
     "data": {
      "text/html": [
       "<div>\n",
       "<style scoped>\n",
       "    .dataframe tbody tr th:only-of-type {\n",
       "        vertical-align: middle;\n",
       "    }\n",
       "\n",
       "    .dataframe tbody tr th {\n",
       "        vertical-align: top;\n",
       "    }\n",
       "\n",
       "    .dataframe thead th {\n",
       "        text-align: right;\n",
       "    }\n",
       "</style>\n",
       "<table border=\"1\" class=\"dataframe\">\n",
       "  <thead>\n",
       "    <tr style=\"text-align: right;\">\n",
       "      <th></th>\n",
       "      <th>age</th>\n",
       "      <th>anaemia</th>\n",
       "      <th>creatinine_phosphokinase</th>\n",
       "      <th>diabetes</th>\n",
       "      <th>ejection_fraction</th>\n",
       "      <th>high_blood_pressure</th>\n",
       "      <th>platelets</th>\n",
       "      <th>serum_creatinine</th>\n",
       "      <th>serum_sodium</th>\n",
       "      <th>sex</th>\n",
       "      <th>smoking</th>\n",
       "      <th>time</th>\n",
       "    </tr>\n",
       "  </thead>\n",
       "  <tbody>\n",
       "    <tr>\n",
       "      <th>0</th>\n",
       "      <td>75.0</td>\n",
       "      <td>0</td>\n",
       "      <td>582</td>\n",
       "      <td>0</td>\n",
       "      <td>20</td>\n",
       "      <td>1</td>\n",
       "      <td>265000.00</td>\n",
       "      <td>1.9</td>\n",
       "      <td>130</td>\n",
       "      <td>1</td>\n",
       "      <td>0</td>\n",
       "      <td>4</td>\n",
       "    </tr>\n",
       "    <tr>\n",
       "      <th>1</th>\n",
       "      <td>55.0</td>\n",
       "      <td>0</td>\n",
       "      <td>7861</td>\n",
       "      <td>0</td>\n",
       "      <td>38</td>\n",
       "      <td>0</td>\n",
       "      <td>263358.03</td>\n",
       "      <td>1.1</td>\n",
       "      <td>136</td>\n",
       "      <td>1</td>\n",
       "      <td>0</td>\n",
       "      <td>6</td>\n",
       "    </tr>\n",
       "    <tr>\n",
       "      <th>2</th>\n",
       "      <td>65.0</td>\n",
       "      <td>0</td>\n",
       "      <td>146</td>\n",
       "      <td>0</td>\n",
       "      <td>20</td>\n",
       "      <td>0</td>\n",
       "      <td>162000.00</td>\n",
       "      <td>1.3</td>\n",
       "      <td>129</td>\n",
       "      <td>1</td>\n",
       "      <td>1</td>\n",
       "      <td>7</td>\n",
       "    </tr>\n",
       "    <tr>\n",
       "      <th>3</th>\n",
       "      <td>50.0</td>\n",
       "      <td>1</td>\n",
       "      <td>111</td>\n",
       "      <td>0</td>\n",
       "      <td>20</td>\n",
       "      <td>0</td>\n",
       "      <td>210000.00</td>\n",
       "      <td>1.9</td>\n",
       "      <td>137</td>\n",
       "      <td>1</td>\n",
       "      <td>0</td>\n",
       "      <td>7</td>\n",
       "    </tr>\n",
       "    <tr>\n",
       "      <th>4</th>\n",
       "      <td>65.0</td>\n",
       "      <td>1</td>\n",
       "      <td>160</td>\n",
       "      <td>1</td>\n",
       "      <td>20</td>\n",
       "      <td>0</td>\n",
       "      <td>327000.00</td>\n",
       "      <td>2.7</td>\n",
       "      <td>116</td>\n",
       "      <td>0</td>\n",
       "      <td>0</td>\n",
       "      <td>8</td>\n",
       "    </tr>\n",
       "  </tbody>\n",
       "</table>\n",
       "</div>"
      ],
      "text/plain": [
       "    age  anaemia  creatinine_phosphokinase  diabetes  ejection_fraction  \\\n",
       "0  75.0        0                       582         0                 20   \n",
       "1  55.0        0                      7861         0                 38   \n",
       "2  65.0        0                       146         0                 20   \n",
       "3  50.0        1                       111         0                 20   \n",
       "4  65.0        1                       160         1                 20   \n",
       "\n",
       "   high_blood_pressure  platelets  serum_creatinine  serum_sodium  sex  \\\n",
       "0                    1  265000.00               1.9           130    1   \n",
       "1                    0  263358.03               1.1           136    1   \n",
       "2                    0  162000.00               1.3           129    1   \n",
       "3                    0  210000.00               1.9           137    1   \n",
       "4                    0  327000.00               2.7           116    0   \n",
       "\n",
       "   smoking  time  \n",
       "0        0     4  \n",
       "1        0     6  \n",
       "2        1     7  \n",
       "3        0     7  \n",
       "4        0     8  "
      ]
     },
     "execution_count": 94,
     "metadata": {},
     "output_type": "execute_result"
    }
   ],
   "source": [
    "X.head()"
   ]
  },
  {
   "cell_type": "code",
   "execution_count": 95,
   "id": "fcb49424",
   "metadata": {},
   "outputs": [],
   "source": [
    "y = data['DEATH_EVENT']"
   ]
  },
  {
   "cell_type": "code",
   "execution_count": 96,
   "id": "f301d6f4",
   "metadata": {},
   "outputs": [],
   "source": [
    "X_train, X_test, y_train, y_test = train_test_split(X, y, test_size=0.2, random_state = 42)"
   ]
  },
  {
   "cell_type": "code",
   "execution_count": 97,
   "id": "3d24943c",
   "metadata": {},
   "outputs": [
    {
     "data": {
      "text/plain": [
       "6      1\n",
       "183    1\n",
       "185    1\n",
       "146    0\n",
       "30     1\n",
       "Name: DEATH_EVENT, dtype: int64"
      ]
     },
     "execution_count": 97,
     "metadata": {},
     "output_type": "execute_result"
    }
   ],
   "source": [
    "y_train.head()"
   ]
  },
  {
   "cell_type": "markdown",
   "id": "d8c67c6e",
   "metadata": {},
   "source": [
    "## Expt 1: What are the ideal number of base estimators to be used? "
   ]
  },
  {
   "cell_type": "code",
   "execution_count": 98,
   "id": "ece69384",
   "metadata": {},
   "outputs": [],
   "source": [
    "base = DecisionTreeClassifier(random_state=42)"
   ]
  },
  {
   "cell_type": "code",
   "execution_count": 99,
   "id": "9ea8afc0",
   "metadata": {},
   "outputs": [
    {
     "name": "stdout",
     "output_type": "stream",
     "text": [
      "accuracy scores\n",
      "base estimator - 10: 0.6833333333333333\n",
      "base estimator - 20: 0.6833333333333333\n",
      "base estimator - 30: 0.6833333333333333\n",
      "base estimator - 40: 0.6833333333333333\n",
      "base estimator - 50: 0.6833333333333333\n",
      "base estimator - 60: 0.6833333333333333\n",
      "base estimator - 70: 0.6833333333333333\n",
      "base estimator - 80: 0.6833333333333333\n",
      "base estimator - 90: 0.6833333333333333\n",
      "base estimator - 100: 0.6833333333333333\n",
      "base estimator - 110: 0.6833333333333333\n",
      "base estimator - 120: 0.6833333333333333\n",
      "base estimator - 130: 0.6833333333333333\n",
      "base estimator - 140: 0.6833333333333333\n"
     ]
    }
   ],
   "source": [
    "print('accuracy scores')\n",
    "for i in range(10, 150, 10):\n",
    "    model = BaggingClassifier(base_estimator=base, n_estimators=num_trees, random_state=42)\n",
    "    model.fit(X_train, y_train)\n",
    "    y_pred = model.predict(X_test)\n",
    "    acc = accuracy_score(y_test, y_pred)\n",
    "    print(f'base estimator - {i}: {acc}')"
   ]
  },
  {
   "cell_type": "markdown",
   "id": "aa32cd13",
   "metadata": {},
   "source": [
    "more base estimators doesn't always imply better outputs. Using too many base estimators might lead to overfitting and increased computational cost."
   ]
  },
  {
   "cell_type": "markdown",
   "id": "4cca41ab",
   "metadata": {},
   "source": [
    "## Expt 2: Can defining depth of base models affect outputs?"
   ]
  },
  {
   "cell_type": "code",
   "execution_count": 100,
   "id": "8fd9917c",
   "metadata": {},
   "outputs": [],
   "source": [
    "dc = DecisionTreeClassifier(max_depth=2, random_state=42) #creating weak base model with only 2 splits"
   ]
  },
  {
   "cell_type": "code",
   "execution_count": 101,
   "id": "30f928a4",
   "metadata": {},
   "outputs": [],
   "source": [
    "bagging = BaggingClassifier(base_estimator=dc, n_estimators = 100, random_state=42)"
   ]
  },
  {
   "cell_type": "code",
   "execution_count": 102,
   "id": "bc2df48f",
   "metadata": {},
   "outputs": [],
   "source": [
    "cv_scores = cross_val_score(bagging, X, y, cv = 10)"
   ]
  },
  {
   "cell_type": "code",
   "execution_count": 103,
   "id": "7c31254f",
   "metadata": {},
   "outputs": [
    {
     "name": "stdout",
     "output_type": "stream",
     "text": [
      "0.7789655172413793\n"
     ]
    }
   ],
   "source": [
    "print(cv_scores.mean())"
   ]
  },
  {
   "cell_type": "code",
   "execution_count": 108,
   "id": "268b9c61",
   "metadata": {},
   "outputs": [
    {
     "name": "stdout",
     "output_type": "stream",
     "text": [
      "mean cross validation score\n",
      "max_depth 1: 0.7789655172413793\n",
      "max_depth 2: 0.7789655172413793\n",
      "max_depth 3: 0.7489655172413793\n",
      "max_depth 4: 0.7522988505747128\n",
      "max_depth 5: 0.745632183908046\n",
      "max_depth 6: 0.735632183908046\n",
      "max_depth 7: 0.7389655172413793\n",
      "max_depth 8: 0.7389655172413793\n",
      "max_depth 9: 0.735632183908046\n"
     ]
    }
   ],
   "source": [
    "print('mean cross validation score')\n",
    "for i in range(1, 10):\n",
    "    dc = DecisionTreeClassifier(max_depth=i, random_state=42) #creating weak base model with only 2 splits\n",
    "    bagging = BaggingClassifier(base_estimator=dc, n_estimators = 100, random_state=42)\n",
    "    cv_scores = cross_val_score(bagging, X, y, cv = 10)\n",
    "    print(f'max_depth {i}: {cv_scores.mean()}')"
   ]
  },
  {
   "cell_type": "markdown",
   "id": "e9ec83dc",
   "metadata": {},
   "source": [
    "Weak base models with high number of base models are giving better outputs for this dataset. However, its important to keep in mind the complexity-performance tradeoff when defining ideal max_depth"
   ]
  },
  {
   "cell_type": "markdown",
   "id": "cc55302c",
   "metadata": {},
   "source": [
    "### Appropriate evaluation\n",
    "\n",
    "Cross-validation complements bagging by leveraging the entire dataset through repeated train-validation splits, ensuring each data point contributes to model training and validation at some point. It mitigates variance by aggregating scores from diverse data subsets, yielding a more reliable estimation of model performance."
   ]
  },
  {
   "cell_type": "code",
   "execution_count": null,
   "id": "2770a174",
   "metadata": {},
   "outputs": [],
   "source": []
  }
 ],
 "metadata": {
  "kernelspec": {
   "display_name": "Python 3 (ipykernel)",
   "language": "python",
   "name": "python3"
  },
  "language_info": {
   "codemirror_mode": {
    "name": "ipython",
    "version": 3
   },
   "file_extension": ".py",
   "mimetype": "text/x-python",
   "name": "python",
   "nbconvert_exporter": "python",
   "pygments_lexer": "ipython3",
   "version": "3.9.13"
  }
 },
 "nbformat": 4,
 "nbformat_minor": 5
}
