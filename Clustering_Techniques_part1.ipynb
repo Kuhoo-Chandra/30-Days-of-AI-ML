{
  "nbformat": 4,
  "nbformat_minor": 0,
  "metadata": {
    "colab": {
      "provenance": []
    },
    "kernelspec": {
      "name": "python3",
      "display_name": "Python 3"
    },
    "language_info": {
      "name": "python"
    }
  },
  "cells": [
    {
      "cell_type": "markdown",
      "source": [
        "## Clustering\n",
        "\n",
        "- group similar data points together based on certain characteristics they share\n",
        "- unsupervised learning\n",
        "- data doesn't have predefined labels\n",
        "- identify patterns or similarities within the data and groups them accordingly\n",
        "\n",
        "### Popular Algorithms\n",
        "1. K-Means\n",
        "2. Hierarchical Clustering\n",
        "3. DBSCAN\n",
        "4. Mean Shift\n",
        "\n",
        "### Application\n",
        "1. Customer segmentation for target marketing\n",
        "2. Image segmentation in computer vision\n",
        "3. Anomaly detection\n",
        "4. analyze and categorize gene expression data\n",
        "5. organizing search results into groups for more structured information retrieval\n",
        "6. Clustering weather to identify similar weather conditions for weather forecasting or climate analysis\n",
        "\n",
        "these are just some of the many real-world use cases for unsupervised machine learning\n",
        "\n",
        "### Popularly used evaluation metrics\n",
        "\n",
        "1. **Silhouette Score:** :calculate cohesion and compares separation\n",
        "    \n",
        "2. **Davies-Bouldin Index:**  measures average similarity between each cluster and its most similar one\n",
        "\n",
        "4. **Rand Index and Adjusted Rand Index:** compare similarity between the true labels and the clusters produced by the algorithm\n",
        "\n",
        "5. **Homogeneity, Completeness, and V-measure:** evaluate the purity and completeness of clusters.\n",
        "    - Homogeneity: measures if each cluster contains only members of a single class\n",
        "    - Completeness: measures if all members of a given class are assigned to the same cluster\n",
        "    - V-measure: harmonic mean of homogeneity and completeness\n",
        "\n",
        "6. **Entropy:** measures the randomness in the distribution of clusters"
      ],
      "metadata": {
        "id": "xcuUTj5d3brI"
      }
    },
    {
      "cell_type": "code",
      "source": [
        "import pandas as pd\n",
        "import numpy as np\n",
        "import matplotlib.pyplot as plt\n",
        "import seaborn as sns\n",
        "from sklearn.cluster import KMeans\n",
        "from sklearn.preprocessing import StandardScaler\n",
        "from sklearn.metrics import silhouette_score, davies_bouldin_score"
      ],
      "metadata": {
        "id": "1DuMN4lB669z"
      },
      "execution_count": 40,
      "outputs": []
    },
    {
      "cell_type": "code",
      "source": [
        "data = pd.read_csv('/content/seattle-weather.csv')"
      ],
      "metadata": {
        "id": "ZlM4tNAcGmIg"
      },
      "execution_count": 29,
      "outputs": []
    },
    {
      "cell_type": "code",
      "source": [
        "data.columns"
      ],
      "metadata": {
        "colab": {
          "base_uri": "https://localhost:8080/"
        },
        "id": "S9xWPEz6QpQI",
        "outputId": "f9cb5636-a393-4ad7-b706-2c41bfe0c201"
      },
      "execution_count": 30,
      "outputs": [
        {
          "output_type": "execute_result",
          "data": {
            "text/plain": [
              "Index(['date', 'precipitation', 'temp_max', 'temp_min', 'wind', 'weather'], dtype='object')"
            ]
          },
          "metadata": {},
          "execution_count": 30
        }
      ]
    },
    {
      "cell_type": "code",
      "source": [
        "data.weather.value_counts()"
      ],
      "metadata": {
        "colab": {
          "base_uri": "https://localhost:8080/"
        },
        "id": "ciOlmw8uTT7u",
        "outputId": "9cf069e2-ce28-4ad6-b795-c3b2a9374e05"
      },
      "execution_count": 31,
      "outputs": [
        {
          "output_type": "execute_result",
          "data": {
            "text/plain": [
              "rain       641\n",
              "sun        640\n",
              "fog        101\n",
              "drizzle     53\n",
              "snow        26\n",
              "Name: weather, dtype: int64"
            ]
          },
          "metadata": {},
          "execution_count": 31
        }
      ]
    },
    {
      "cell_type": "code",
      "source": [
        "clus = data.drop(columns=['weather', 'date'], axis=1)"
      ],
      "metadata": {
        "id": "xqWbUav_Tb-E"
      },
      "execution_count": 42,
      "outputs": []
    },
    {
      "cell_type": "code",
      "source": [
        "clus.dtypes"
      ],
      "metadata": {
        "colab": {
          "base_uri": "https://localhost:8080/"
        },
        "id": "PWoae_U_WfU3",
        "outputId": "2876d112-37c2-4403-dc6e-a40d8e95c0b7"
      },
      "execution_count": 43,
      "outputs": [
        {
          "output_type": "execute_result",
          "data": {
            "text/plain": [
              "precipitation    float64\n",
              "temp_max         float64\n",
              "temp_min         float64\n",
              "wind             float64\n",
              "dtype: object"
            ]
          },
          "metadata": {},
          "execution_count": 43
        }
      ]
    },
    {
      "cell_type": "code",
      "source": [
        "clus.isnull().sum() #no missing values"
      ],
      "metadata": {
        "colab": {
          "base_uri": "https://localhost:8080/"
        },
        "id": "hgku3JytTrGj",
        "outputId": "b0c8495b-5bb6-4795-ace8-9c149fcc7899"
      },
      "execution_count": 44,
      "outputs": [
        {
          "output_type": "execute_result",
          "data": {
            "text/plain": [
              "precipitation    0\n",
              "temp_max         0\n",
              "temp_min         0\n",
              "wind             0\n",
              "dtype: int64"
            ]
          },
          "metadata": {},
          "execution_count": 44
        }
      ]
    },
    {
      "cell_type": "code",
      "source": [
        "plt.figure(figsize=(10, 6))\n",
        "sns.boxplot(data=clus, orient=\"h\")\n",
        "plt.title('Boxplot for Outliers across Multiple Features')\n",
        "plt.xlabel('Value')\n",
        "plt.show()"
      ],
      "metadata": {
        "colab": {
          "base_uri": "https://localhost:8080/",
          "height": 564
        },
        "id": "TyZcKQ5wWKjz",
        "outputId": "462b554b-4991-4158-9441-b3c9cbd1426d"
      },
      "execution_count": 45,
      "outputs": [
        {
          "output_type": "display_data",
          "data": {
            "text/plain": [
              "<Figure size 1000x600 with 1 Axes>"
            ],
            "image/png": "[encoded data removed]"
          },
          "metadata": {}
        }
      ]
    },
    {
      "cell_type": "markdown",
      "source": [
        "precipitation has some effect on outliers let's see how this affects clustering"
      ],
      "metadata": {
        "id": "dy0NbNAvXhZ4"
      }
    },
    {
      "cell_type": "code",
      "source": [
        "scaler = StandardScaler()\n",
        "data_scaled = scaler.fit_transform(clus)"
      ],
      "metadata": {
        "id": "4AKQ7C4rXoyU"
      },
      "execution_count": 46,
      "outputs": []
    },
    {
      "cell_type": "markdown",
      "source": [
        "### K-Means Clustering\n",
        "\n",
        "- **Definition:** partitioning a dataset into K distinct, non-overlapping clusters\n",
        "- **Process:**\n",
        "    1. iteratively assigning each data point to the nearest cluster centroid\n",
        "    2. update the centroids based on the mean of the points assigned to that cluster\n",
        "- **Goal:** minimize the within-cluster variance\n",
        "\n",
        "- **Hyperparameters:**\n",
        "    1. K (number of clusters to create)\n",
        "        - needs to be predefined\n",
        "        - choosing optimal K can significantly impact the results\n",
        "        - various techniques like the elbow method or silhouette score can help in determine optimal K value\n",
        "\n",
        "- **Pre-procesing steps needed:**\n",
        "    1. Handle missing values\n",
        "    2. Feature scaling\n",
        "    3. Outlier removal\n",
        "    4. Encoding categorical values\n",
        "\n",
        "- **Recommended Evaluation Metrics:**\n",
        "    1. Inertia(aka within-cluster sum of squares): measures how internally coherent clusters are\n",
        "    2. Silhouette Score\n",
        "    3. Davies-Bouldin Index"
      ],
      "metadata": {
        "id": "QRtJ6oGE67zO"
      }
    },
    {
      "cell_type": "code",
      "source": [
        "wcss = []\n",
        "for i in range(1, 11):  # Testing k from 1 to 10 clusters\n",
        "    kmeans = KMeans(n_clusters=i, init='k-means++', random_state=42)\n",
        "    kmeans.fit(data_scaled)\n",
        "    wcss.append(kmeans.inertia_)\n"
      ],
      "metadata": {
        "colab": {
          "base_uri": "https://localhost:8080/"
        },
        "id": "blHx7brOYaAh",
        "outputId": "2af44e32-d831-4774-889d-263f20d611b5"
      },
      "execution_count": 51,
      "outputs": [
        {
          "output_type": "stream",
          "name": "stderr",
          "text": [
            "/usr/local/lib/python3.10/dist-packages/sklearn/cluster/_kmeans.py:870: FutureWarning: The default value of `n_init` will change from 10 to 'auto' in 1.4. Set the value of `n_init` explicitly to suppress the warning\n",
            "  warnings.warn(\n",
            "/usr/local/lib/python3.10/dist-packages/sklearn/cluster/_kmeans.py:870: FutureWarning: The default value of `n_init` will change from 10 to 'auto' in 1.4. Set the value of `n_init` explicitly to suppress the warning\n",
            "  warnings.warn(\n",
            "/usr/local/lib/python3.10/dist-packages/sklearn/cluster/_kmeans.py:870: FutureWarning: The default value of `n_init` will change from 10 to 'auto' in 1.4. Set the value of `n_init` explicitly to suppress the warning\n",
            "  warnings.warn(\n",
            "/usr/local/lib/python3.10/dist-packages/sklearn/cluster/_kmeans.py:870: FutureWarning: The default value of `n_init` will change from 10 to 'auto' in 1.4. Set the value of `n_init` explicitly to suppress the warning\n",
            "  warnings.warn(\n",
            "/usr/local/lib/python3.10/dist-packages/sklearn/cluster/_kmeans.py:870: FutureWarning: The default value of `n_init` will change from 10 to 'auto' in 1.4. Set the value of `n_init` explicitly to suppress the warning\n",
            "  warnings.warn(\n",
            "/usr/local/lib/python3.10/dist-packages/sklearn/cluster/_kmeans.py:870: FutureWarning: The default value of `n_init` will change from 10 to 'auto' in 1.4. Set the value of `n_init` explicitly to suppress the warning\n",
            "  warnings.warn(\n",
            "/usr/local/lib/python3.10/dist-packages/sklearn/cluster/_kmeans.py:870: FutureWarning: The default value of `n_init` will change from 10 to 'auto' in 1.4. Set the value of `n_init` explicitly to suppress the warning\n",
            "  warnings.warn(\n",
            "/usr/local/lib/python3.10/dist-packages/sklearn/cluster/_kmeans.py:870: FutureWarning: The default value of `n_init` will change from 10 to 'auto' in 1.4. Set the value of `n_init` explicitly to suppress the warning\n",
            "  warnings.warn(\n",
            "/usr/local/lib/python3.10/dist-packages/sklearn/cluster/_kmeans.py:870: FutureWarning: The default value of `n_init` will change from 10 to 'auto' in 1.4. Set the value of `n_init` explicitly to suppress the warning\n",
            "  warnings.warn(\n",
            "/usr/local/lib/python3.10/dist-packages/sklearn/cluster/_kmeans.py:870: FutureWarning: The default value of `n_init` will change from 10 to 'auto' in 1.4. Set the value of `n_init` explicitly to suppress the warning\n",
            "  warnings.warn(\n"
          ]
        }
      ]
    },
    {
      "cell_type": "code",
      "source": [
        "plt.figure(figsize=(8, 6))\n",
        "plt.plot(range(1, 11), wcss, marker='o', linestyle='-', color='b')\n",
        "plt.title('Elbow Method for Optimal k')\n",
        "plt.xlabel('Number of Clusters (k)')\n",
        "plt.ylabel('Within-Cluster Sum of Squares (WCSS)')\n",
        "plt.xticks(range(1, 11))\n",
        "plt.grid(True)\n",
        "plt.show()"
      ],
      "metadata": {
        "colab": {
          "base_uri": "https://localhost:8080/",
          "height": 564
        },
        "id": "BPBs6c2XZHT_",
        "outputId": "19d92d01-c6cb-43c6-bf24-14caa73f9c0c"
      },
      "execution_count": 52,
      "outputs": [
        {
          "output_type": "display_data",
          "data": {
            "text/plain": [
              "<Figure size 800x600 with 1 Axes>"
            ],
            "image/png": "[encoded data removed]"
          },
          "metadata": {}
        }
      ]
    },
    {
      "cell_type": "code",
      "source": [
        "kmeans = KMeans(n_clusters=5, init='k-means++', random_state=42)\n",
        "kmeans.fit(data_scaled)\n",
        "labels = kmeans.labels_\n",
        "silhouette = silhouette_score(data_scaled, labels)\n",
        "print(f'Silhouette score with 5 clusters: {silhouette}')"
      ],
      "metadata": {
        "colab": {
          "base_uri": "https://localhost:8080/"
        },
        "id": "a2I_rlooZhOW",
        "outputId": "23b8e6d6-56e3-412e-a9f7-914ede6cd4ed"
      },
      "execution_count": 57,
      "outputs": [
        {
          "output_type": "stream",
          "name": "stdout",
          "text": [
            "Silhouette score with 5 clusters: 0.30126421419680843\n"
          ]
        },
        {
          "output_type": "stream",
          "name": "stderr",
          "text": [
            "/usr/local/lib/python3.10/dist-packages/sklearn/cluster/_kmeans.py:870: FutureWarning: The default value of `n_init` will change from 10 to 'auto' in 1.4. Set the value of `n_init` explicitly to suppress the warning\n",
            "  warnings.warn(\n"
          ]
        }
      ]
    },
    {
      "cell_type": "code",
      "source": [
        "kmeans = KMeans(n_clusters=6, init='k-means++', random_state=42)\n",
        "kmeans.fit(data_scaled)\n",
        "labels = kmeans.labels_\n",
        "silhouette = silhouette_score(data_scaled, labels)\n",
        "print(f'Silhouette score with 5 clusters: {silhouette}')"
      ],
      "metadata": {
        "colab": {
          "base_uri": "https://localhost:8080/"
        },
        "id": "4o4aKNnPafVF",
        "outputId": "21eda207-d60f-4658-c371-2139b7f0ead2"
      },
      "execution_count": 58,
      "outputs": [
        {
          "output_type": "stream",
          "name": "stdout",
          "text": [
            "Silhouette score with 5 clusters: 0.3010407897670115\n"
          ]
        },
        {
          "output_type": "stream",
          "name": "stderr",
          "text": [
            "/usr/local/lib/python3.10/dist-packages/sklearn/cluster/_kmeans.py:870: FutureWarning: The default value of `n_init` will change from 10 to 'auto' in 1.4. Set the value of `n_init` explicitly to suppress the warning\n",
            "  warnings.warn(\n"
          ]
        }
      ]
    },
    {
      "cell_type": "markdown",
      "source": [
        "### Hierarchical Clustering\n",
        "\n",
        "- **Definition:**\n",
        "    1. builds a hierarchy of clusters\n",
        "    2. does not require specifying the number of clusters beforehand\n",
        "    3. creates a tree of clusters known as a dendrogram\n",
        "\n",
        "- **Process:**\n",
        "    1. Initialization: Each data point starts as a separate cluster.\n",
        "    2. Agglomerative Step: Similar clusters are merged based on a distance metric (e.g., Euclidean, Manhattan) until all clusters are merged into a single cluster\n",
        "    3. Dendrogram Construction: dendogram is created to show the hierarchical relationship between clusters\n",
        "\n",
        "- **Goal:** create a hierarchy of clusters that can be visually represented and used to determine the optimal number of clusters based on the dendrogram\n",
        "\n",
        "- **Hyperparameters:**\n",
        "    1. Linkage Criterion\n",
        "        - decide hiw distances between clusters are calculated and guide the process of merging clusters\n",
        "        - Common linkage methods: single linkage, complete linkage, and average linkage\n",
        "- **Pre-procesing steps needed:**\n",
        "    1. Handle missing values\n",
        "    2. Feature scaling\n",
        "    3. Outlier removal\n",
        "    4. Encoding categorical values\n",
        "\n",
        "- **Recommended Evaluation Metrics:**\n",
        "    1. Cophenetic Correlation Coefficient: measures how well a dendrogram preserves the pairwise distances between original data points\n",
        "\n",
        "    2. Silhouette Score\n",
        "    3. Davies-Bouldin Index\n",
        "\n",
        "- **Recommended Visualization Techniques:**\n",
        "\n",
        "    1. Dendrogram: Visualize the hierarchical structure and display merging process. Helps determine the number of clusters by observing the vertical lines where the clusters merge\n",
        "\n",
        "    2. Heatmaps: Display distance matrices to illustrate the similarity/dissimilarity between data points\n",
        "    3. Cluster Heatmaps: Combine hierarchical clustering with a heatmap to visualize clustered data. This helps in identifying patterns within clusters."
      ],
      "metadata": {
        "id": "fzbGG0XU91cW"
      }
    },
    {
      "cell_type": "markdown",
      "source": [
        "### DBSCAN (Density-Based Spatial Clustering of Applications with Noise)\n",
        "\n",
        "- **Definition:**\n",
        "    - groups together points that are closely packed,\n",
        "    - defines clusters based on their density in the data space\n",
        "    - doesn't require specifying the number of clusters beforehand\n",
        "    - particularly useful for datasets where clusters have irregular shapes or varying densities\n",
        "\n",
        "- **Process:**\n",
        "    1. Core Points & Density: identifies \"core points\" within the dataset based on a specified neighborhood radius (eps) and a minimum number of points (minPts) within that radius\n",
        "\n",
        "    2. Border Points: Points within the neighborhood of a core point but not core points themselves are considered \"border points\" and are assigned to the cluster of their respective core point\n",
        "\n",
        "    3. Noise Points: Points that aren't core points or border points are considered outliers or \"noise points.\"\n",
        "\n",
        "- **Goal:** find clusters of varying shapes and sizes based on the density of points rather than assuming spherical shapes\n",
        "\n",
        "- **Hyperparameters:**\n",
        "    1. Eps: radius that defines the neighborhood around a point. Points within this radius are considered neighbors.\n",
        "\n",
        "    2. MinPts: The minimum number of points within Eps to qualify a point as a core point.\n",
        "\n",
        "- **Pre-procesing steps needed:**\n",
        "    1. Handle missing values\n",
        "    2. Normalization/Feature scaling\n",
        "    3. Encoding categorical values\n",
        "\n",
        "- **Recommended Evaluation Metrics:**\n",
        "    1. Silhouette Score\n",
        "\n",
        "    2. Adjusted Rand Index (ARI) or Adjusted Mutual Information (AMI): Assess the similarity between true labels and cluster assignments.\n",
        "\n",
        "- **Recommended Visualization Techniques:**\n",
        "\n",
        "    1. Cluster Plot: Visualizing clusters using different colors/markers for different clusters.\n",
        "    2. Reachability Plot: Showing points based on their reachability distance to illustrate the clustering structure.\n",
        "\n",
        "    3. Epsilon-Neighborhood Plot: Displaying the neighborhood of points using epsilon to visualize the density-based clusters"
      ],
      "metadata": {
        "id": "S-NmR5aTAxzN"
      }
    },
    {
      "cell_type": "code",
      "execution_count": null,
      "metadata": {
        "id": "4ewXsXZI166P"
      },
      "outputs": [],
      "source": []
    },
    {
      "cell_type": "code",
      "source": [],
      "metadata": {
        "id": "HH0NqWUl3bJW"
      },
      "execution_count": null,
      "outputs": []
    }
  ]
}