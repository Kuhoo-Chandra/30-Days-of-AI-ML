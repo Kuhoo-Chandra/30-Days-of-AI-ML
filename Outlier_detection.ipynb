{
  "nbformat": 4,
  "nbformat_minor": 0,
  "metadata": {
    "colab": {
      "provenance": []
    },
    "kernelspec": {
      "name": "python3",
      "display_name": "Python 3"
    },
    "language_info": {
      "name": "python"
    }
  },
  "cells": [
    {
      "cell_type": "code",
      "execution_count": null,
      "metadata": {
        "id": "3CcFSNUGBUF5"
      },
      "outputs": [],
      "source": []
    },
    {
      "cell_type": "markdown",
      "source": [
        "## Outlier Detection\n",
        "\n",
        "identify datapoints that are anomalous\n",
        "\n",
        "### Causes of Outliers\n",
        "\n",
        "1. human mistakes during data collection or input (Typos, incorrect measurements, or mishandling of data)\n",
        "\n",
        "2. outliers can be a result of rare events within the dataset\n",
        "\n",
        "3. instrument errors, equipment malfunctions, or problems during data recording\n",
        "\n",
        "4. sampling process not representative of the population\n",
        "\n",
        "5. errors in data manipulation, transformation, or processing\n",
        "\n",
        "### Popular ways to identify outliers\n",
        "\n",
        "1. Statistical Methods:\n",
        "    - Z-Score, IQR,  modified Z-Score\n",
        "    - identify outliers based on statistical deviations.\n",
        "\n",
        "2. Distance-Based Methods:\n",
        "    - DBSCAN, LOF (Local Outlier Factor), One-Class SVM, KNN\n",
        "    - calculate distances between data points and identify outliers that are farthest from others\n",
        "\n",
        "3. Clustering-Based Methods:\n",
        "    - K-means or hierarchical clustering\n",
        "    - Outliers don’t belong to any cluster or form very small clusters\n",
        "    \n",
        "4. Visualization Techniques:\n",
        "    - Box plots, scatter plots, histograms\n",
        "    - visualizations can reveal outliers by displaying data distributions"
      ],
      "metadata": {
        "id": "lIrcH1JFJPzM"
      }
    }
  ]
}
