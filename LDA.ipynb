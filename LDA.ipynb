{
  "nbformat": 4,
  "nbformat_minor": 0,
  "metadata": {
    "colab": {
      "provenance": []
    },
    "kernelspec": {
      "name": "python3",
      "display_name": "Python 3"
    },
    "language_info": {
      "name": "python"
    }
  },
  "cells": [
    {
      "cell_type": "markdown",
      "source": [
        "## Linear Discriminant Analysis (LDA)\n",
        "\n",
        "A feauture extraction, dimensionality reduction and supervised classification technique\n",
        "\n",
        "- based in statistics it finds linear combinations of features that best separate two or more classes in a dataset while maximizing the between-class variance and minimizing the within-class variance\n",
        "\n",
        "### Advantages\n",
        "\n",
        "- reduces the number of features while retaining class discriminatory information\n",
        "- reduces curse of dimensionality\n",
        "\n",
        "### Disadvantages\n",
        "- Works better when data approximates a normal distribution\n",
        "- sensitive to outliers\n",
        "- assumes linear relationships between features and classes"
      ],
      "metadata": {
        "id": "k-2vyW07V3Cv"
      }
    },
    {
      "cell_type": "code",
      "source": [
        "import pandas as pd\n",
        "import numpy as np\n",
        "import matplotlib.pyplot as plt\n",
        "import seaborn as sns\n",
        "from sklearn.model_selection import train_test_split\n",
        "from sklearn.preprocessing import MinMaxScaler\n",
        "from sklearn.discriminant_analysis import LinearDiscriminantAnalysis\n",
        "from sklearn.metrics import accuracy_score\n",
        "from sklearn.ensemble import RandomForestClassifier"
      ],
      "metadata": {
        "id": "OFhBlsqwuSTU"
      },
      "execution_count": 80,
      "outputs": []
    },
    {
      "cell_type": "code",
      "source": [
        "data = pd.read_csv('/content/Class_Seeds.csv')\n",
        "data.shape"
      ],
      "metadata": {
        "colab": {
          "base_uri": "https://localhost:8080/"
        },
        "id": "iJAjM668ufEk",
        "outputId": "62476b81-7407-413e-b73e-57f7a3a80836"
      },
      "execution_count": 81,
      "outputs": [
        {
          "output_type": "execute_result",
          "data": {
            "text/plain": [
              "(210, 8)"
            ]
          },
          "metadata": {},
          "execution_count": 81
        }
      ]
    },
    {
      "cell_type": "code",
      "source": [
        "y = data['Class']\n",
        "X = data.drop('Class', axis=1)"
      ],
      "metadata": {
        "id": "QnFXESZ9uiXx"
      },
      "execution_count": 82,
      "outputs": []
    },
    {
      "cell_type": "code",
      "source": [
        "# data normalization\n",
        "min_max_scaler = MinMaxScaler()\n",
        "scaled_data_minmax = min_max_scaler.fit_transform(X)"
      ],
      "metadata": {
        "id": "RkWjQsmiwAPo"
      },
      "execution_count": 83,
      "outputs": []
    },
    {
      "cell_type": "code",
      "source": [
        "# Create a boxplot for outlier detection\n",
        "plt.figure(figsize=(6, 4))\n",
        "sns.boxplot(data=data)\n",
        "plt.title(\"Boxplot for Outlier Detection\")\n",
        "plt.show()"
      ],
      "metadata": {
        "colab": {
          "base_uri": "https://localhost:8080/",
          "height": 391
        },
        "id": "URrI3wpawViE",
        "outputId": "7f7a15ac-ac30-4dc1-d0bf-c2e84e830541"
      },
      "execution_count": 84,
      "outputs": [
        {
          "output_type": "display_data",
          "data": {
            "text/plain": [
              "<Figure size 600x400 with 1 Axes>"
            ],
            "image/png": "[encoded data removed]"
          },
          "metadata": {}
        }
      ]
    },
    {
      "cell_type": "code",
      "source": [
        "X_train, X_test, y_train, y_test = train_test_split(X, y, test_size=0.2, random_state=42)"
      ],
      "metadata": {
        "id": "9GggT3-hukyP"
      },
      "execution_count": 85,
      "outputs": []
    },
    {
      "cell_type": "markdown",
      "source": [
        "### Baseline LDA"
      ],
      "metadata": {
        "id": "LTTMA-EM1pGb"
      }
    },
    {
      "cell_type": "code",
      "source": [
        "lda_base = LinearDiscriminantAnalysis()\n",
        "lda_base.fit(X_train, y_train)\n",
        "y_pred_base = lda_base.predict(X_test)"
      ],
      "metadata": {
        "id": "o4m944iF1QYZ"
      },
      "execution_count": 86,
      "outputs": []
    },
    {
      "cell_type": "code",
      "source": [
        "acc_base = accuracy_score(y_test, y_pred_base)\n",
        "print(f'Baseline LDA: {acc_base}')"
      ],
      "metadata": {
        "colab": {
          "base_uri": "https://localhost:8080/"
        },
        "id": "i68JWylJ1XC2",
        "outputId": "64e9d970-4935-4ca7-e4e8-de0bb74e7183"
      },
      "execution_count": 87,
      "outputs": [
        {
          "output_type": "stream",
          "name": "stdout",
          "text": [
            "Baseline LDA: 0.9047619047619048\n"
          ]
        }
      ]
    },
    {
      "cell_type": "markdown",
      "source": [
        "### LDA with eigen solver and shrinkage"
      ],
      "metadata": {
        "id": "H0ZGlmVl1r-z"
      }
    },
    {
      "cell_type": "code",
      "source": [
        "lda = LinearDiscriminantAnalysis(solver='eigen', shrinkage='auto', n_components=2)"
      ],
      "metadata": {
        "id": "j4dK8sG-vfIa"
      },
      "execution_count": 88,
      "outputs": []
    },
    {
      "cell_type": "markdown",
      "source": [
        "good to use shrinkage/covariance_estimator when training samples are less, it can only be used with solver = eigen or lsqr\n",
        "\n",
        "- either one of shrinkage or covariance_estimator should be used at a time"
      ],
      "metadata": {
        "id": "-HvDVzRt04Fg"
      }
    },
    {
      "cell_type": "code",
      "source": [
        "lda.fit(X_train, y_train)\n",
        "y_pred = lda.predict(X_test)"
      ],
      "metadata": {
        "id": "M2uWf3QcxBHa"
      },
      "execution_count": 89,
      "outputs": []
    },
    {
      "cell_type": "code",
      "source": [
        "acc = accuracy_score(y_test, y_pred)\n",
        "print(f'LDA ith eigen solver and shrinkage: {acc}')"
      ],
      "metadata": {
        "colab": {
          "base_uri": "https://localhost:8080/"
        },
        "id": "Jt8Q3_aMuqQ5",
        "outputId": "0d8bb161-4e1f-45ec-c144-e326835259d3"
      },
      "execution_count": 90,
      "outputs": [
        {
          "output_type": "stream",
          "name": "stdout",
          "text": [
            "LDA ith eigen solver and shrinkage: 0.9285714285714286\n"
          ]
        }
      ]
    },
    {
      "cell_type": "markdown",
      "source": [
        "### LDA with svd solver and store_covariance"
      ],
      "metadata": {
        "id": "WmWxNEYP10Sk"
      }
    },
    {
      "cell_type": "code",
      "source": [
        "lda_ = LinearDiscriminantAnalysis(solver='svd', n_components=2, store_covariance=True, tol=0.1)"
      ],
      "metadata": {
        "id": "9WfkvL-VzPmz"
      },
      "execution_count": 91,
      "outputs": []
    },
    {
      "cell_type": "markdown",
      "source": [
        "svd is default solver, store_covariance and tol can only be used with this parameter"
      ],
      "metadata": {
        "id": "4C7iBwOH1BsZ"
      }
    },
    {
      "cell_type": "code",
      "source": [
        "lda_.fit(X_train, y_train)\n",
        "y_pred_ = lda_.predict(X_test)"
      ],
      "metadata": {
        "id": "jqCqW0Jvz4z7"
      },
      "execution_count": 92,
      "outputs": []
    },
    {
      "cell_type": "code",
      "source": [
        "acc_ = accuracy_score(y_test, y_pred_)\n",
        "print(f'LDA ith SVD solver: {acc_}')"
      ],
      "metadata": {
        "colab": {
          "base_uri": "https://localhost:8080/"
        },
        "id": "kMZn4qvWz7E0",
        "outputId": "e0c99bd5-f2da-4966-c84c-51757866edfb"
      },
      "execution_count": 93,
      "outputs": [
        {
          "output_type": "stream",
          "name": "stdout",
          "text": [
            "LDA ith SVD solver: 0.9285714285714286\n"
          ]
        }
      ]
    }
  ]
}