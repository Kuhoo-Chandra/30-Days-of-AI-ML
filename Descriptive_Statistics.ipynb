{
  "nbformat": 4,
  "nbformat_minor": 0,
  "metadata": {
    "colab": {
      "provenance": []
    },
    "kernelspec": {
      "name": "python3",
      "display_name": "Python 3"
    },
    "language_info": {
      "name": "python"
    }
  },
  "cells": [
    {
      "cell_type": "code",
      "execution_count": null,
      "metadata": {
        "id": "aGMJwJePfG72"
      },
      "outputs": [],
      "source": []
    },
    {
      "cell_type": "markdown",
      "source": [
        "data src: https://www.kaggle.com/datasets/iabhishekofficial/mobile-price-classification?select=train.csv"
      ],
      "metadata": {
        "id": "UqL3GlaYtSZb"
      }
    },
    {
      "cell_type": "markdown",
      "source": [
        "# Descriptive Statistics\n",
        "\n",
        "Descriptive statistics refers to the application of statstical methods to a dataset to summarize and organize the characterstics of the data. It is a way to capture data patterns and translate them to a human-understandable form.\n",
        "\n",
        "Basically, descriptive statistics refers to the analysis, summary, and communication of findings that describe a dataset.\n",
        "\n",
        "Often not useful for decision-making, descriptive statistics still hold value in explaining high-level summaries of a set of information."
      ],
      "metadata": {
        "id": "yhq5rsnri3cE"
      }
    },
    {
      "cell_type": "markdown",
      "source": [
        "### Types\n",
        "1. Measures of Frequency\n",
        "2. Measures of Central Tendency\n",
        "3. Measures of Dispersion/Variability/Spread\n",
        "4. Measures of Position\n"
      ],
      "metadata": {
        "id": "DJBgbO6nf4cg"
      }
    },
    {
      "cell_type": "code",
      "source": [
        "import pandas as pd\n",
        "import numpy as np\n",
        "import matplotlib.pyplot as plt\n",
        "import seaborn as sns"
      ],
      "metadata": {
        "id": "axba-nYxiV-P"
      },
      "execution_count": 49,
      "outputs": []
    },
    {
      "cell_type": "code",
      "source": [
        "data = pd.read_csv('/content/train.csv')"
      ],
      "metadata": {
        "id": "3YW3CY15ihSx"
      },
      "execution_count": 12,
      "outputs": []
    },
    {
      "cell_type": "code",
      "source": [
        "data.columns"
      ],
      "metadata": {
        "colab": {
          "base_uri": "https://localhost:8080/"
        },
        "id": "fhtJquSln1c_",
        "outputId": "47891821-a53a-4073-d56e-96f7bee9c0a2"
      },
      "execution_count": 13,
      "outputs": [
        {
          "output_type": "execute_result",
          "data": {
            "text/plain": [
              "Index(['battery_power', 'blue', 'clock_speed', 'dual_sim', 'fc', 'four_g',\n",
              "       'int_memory', 'm_dep', 'mobile_wt', 'n_cores', 'pc', 'px_height',\n",
              "       'px_width', 'ram', 'sc_h', 'sc_w', 'talk_time', 'three_g',\n",
              "       'touch_screen', 'wifi', 'price_range'],\n",
              "      dtype='object')"
            ]
          },
          "metadata": {},
          "execution_count": 13
        }
      ]
    },
    {
      "cell_type": "code",
      "source": [
        "data.dtypes"
      ],
      "metadata": {
        "colab": {
          "base_uri": "https://localhost:8080/"
        },
        "id": "TVQwN-uJuTas",
        "outputId": "3c7ae865-9fe0-4773-d700-82e75d6fdbaf"
      },
      "execution_count": 19,
      "outputs": [
        {
          "output_type": "execute_result",
          "data": {
            "text/plain": [
              "battery_power      int64\n",
              "blue               int64\n",
              "clock_speed      float64\n",
              "dual_sim           int64\n",
              "fc                 int64\n",
              "four_g             int64\n",
              "int_memory         int64\n",
              "m_dep            float64\n",
              "mobile_wt          int64\n",
              "n_cores            int64\n",
              "pc                 int64\n",
              "px_height          int64\n",
              "px_width           int64\n",
              "ram                int64\n",
              "sc_h               int64\n",
              "sc_w               int64\n",
              "talk_time          int64\n",
              "three_g            int64\n",
              "touch_screen       int64\n",
              "wifi               int64\n",
              "price_range        int64\n",
              "dtype: object"
            ]
          },
          "metadata": {},
          "execution_count": 19
        }
      ]
    },
    {
      "cell_type": "markdown",
      "source": [
        "## Measures of Frequency\n",
        "quantative measure of data\n",
        "\n",
        "- Count: occurance (or NOT occurance) of smth"
      ],
      "metadata": {
        "id": "5qbHBqm1ipZI"
      }
    },
    {
      "cell_type": "code",
      "source": [
        "count_classes = data.price_range.value_counts()\n",
        "print(count_classes) #useful to see no. of classes and if there's imbalance"
      ],
      "metadata": {
        "colab": {
          "base_uri": "https://localhost:8080/"
        },
        "id": "zNH7UwhZnu93",
        "outputId": "d55d9d05-a47f-456f-8b53-634fb676595d"
      },
      "execution_count": 15,
      "outputs": [
        {
          "output_type": "stream",
          "name": "stdout",
          "text": [
            "1    500\n",
            "2    500\n",
            "3    500\n",
            "0    500\n",
            "Name: price_range, dtype: int64\n"
          ]
        }
      ]
    },
    {
      "cell_type": "code",
      "source": [
        "data.touch_screen.value_counts()"
      ],
      "metadata": {
        "colab": {
          "base_uri": "https://localhost:8080/"
        },
        "id": "-BRt_bI8uvEt",
        "outputId": "d9d74536-ca0b-4797-d0e8-2781f7369229"
      },
      "execution_count": 20,
      "outputs": [
        {
          "output_type": "execute_result",
          "data": {
            "text/plain": [
              "1    1006\n",
              "0     994\n",
              "Name: touch_screen, dtype: int64"
            ]
          },
          "metadata": {},
          "execution_count": 20
        }
      ]
    },
    {
      "cell_type": "markdown",
      "source": [
        "## Measures of Central Tendency\n",
        "center or average of a dataset, it represents a single value around which the data tends to cluster\n",
        "\n",
        "#### Types\n",
        "1. Mean:arithmetic average (calculated by summing all values and dividing by the number of observations)\n",
        "\n",
        " Sensitive to outliers as a sigle extremly big or small value can cause huge changes\n",
        "\n",
        "2. Median: The middle value when the data is arranged in ascending or descending order\n",
        "\n",
        "less sensitive to outliers than the mean\n",
        "\n",
        "\n",
        "3. Mode: most frequently occurring value(s) in the dataset\n",
        " A distribution can be unimodal (one mode), bimodal (two modes), or multimodal (more than two)\n"
      ],
      "metadata": {
        "id": "6a0OONGVokdE"
      }
    },
    {
      "cell_type": "markdown",
      "source": [
        " #### Need\n",
        " 1. provide a quick summary of the data distribution (understand typical/central values)\n",
        " 2. handling missing values by using mean, median, or mode for imputation\n",
        " 3. Feature selection to identify variables with stronger central tendency"
      ],
      "metadata": {
        "id": "v6IhHF_nqmDh"
      }
    },
    {
      "cell_type": "markdown",
      "source": [
        "#### Example Scenario:\n",
        "Suppose you have a dataset containing various features, and you're tasked with identifying which features are crucial for predicting housing prices based on several attributes. One of the features is the number of bedrooms in a house.\n",
        "\n",
        "**Mean, Median, and Mode for the Number of Bedrooms:**\n",
        "\n",
        "Mean: The average number of bedrooms in the dataset.\n",
        "\n",
        "Median: The middle value when all the bedroom counts are arranged in ascending order.\n",
        "\n",
        "Mode: The most frequently occurring bedroom count.\n",
        "\n",
        "**Influence**\n",
        "\n",
        "Scenario 1: Normally Distributed Data: If the number of bedrooms is normally distributed around a specific value (e.g., mean = 3.5 bedrooms) with minimal skewness, the mean and median might be close, indicating a strong central tendency. In this case, this feature might be considered more crucial for predicting housing prices as it's representative of most houses in the dataset.\n",
        "\n",
        "Scenario 2: Highly Skewed Data: If the distribution of the number of bedrooms is highly skewed, let's say towards having 2 bedrooms, the mode might be 2 bedrooms, while the mean and median could be significantly different. This skewness might suggest that the number of bedrooms is less diverse across houses and might not be as influential in predicting housing prices.\n"
      ],
      "metadata": {
        "id": "bOJ8jhE-rQtU"
      }
    },
    {
      "cell_type": "markdown",
      "source": [
        "#### How Central Tendency Helps\n",
        "\n",
        "1. Identifying Representativeness: Features with a strong central tendency (where mean, median, and mode align closely) might represent the majority of instances in the dataset, making them potentially more predictive.\n",
        "\n",
        "2. Understanding Diversity: Features with less pronounced central tendencies might indicate diversity or less consistency across data instances, which might affect their predictive power."
      ],
      "metadata": {
        "id": "WKhFvHS4r0Na"
      }
    },
    {
      "cell_type": "code",
      "source": [
        "data.mean()"
      ],
      "metadata": {
        "colab": {
          "base_uri": "https://localhost:8080/"
        },
        "id": "-1ZLDluQpEcx",
        "outputId": "1b34343f-fd1d-4324-a275-7473cbea1e3e"
      },
      "execution_count": 16,
      "outputs": [
        {
          "output_type": "execute_result",
          "data": {
            "text/plain": [
              "battery_power    1238.51850\n",
              "blue                0.49500\n",
              "clock_speed         1.52225\n",
              "dual_sim            0.50950\n",
              "fc                  4.30950\n",
              "four_g              0.52150\n",
              "int_memory         32.04650\n",
              "m_dep               0.50175\n",
              "mobile_wt         140.24900\n",
              "n_cores             4.52050\n",
              "pc                  9.91650\n",
              "px_height         645.10800\n",
              "px_width         1251.51550\n",
              "ram              2124.21300\n",
              "sc_h               12.30650\n",
              "sc_w                5.76700\n",
              "talk_time          11.01100\n",
              "three_g             0.76150\n",
              "touch_screen        0.50300\n",
              "wifi                0.50700\n",
              "price_range         1.50000\n",
              "dtype: float64"
            ]
          },
          "metadata": {},
          "execution_count": 16
        }
      ]
    },
    {
      "cell_type": "code",
      "source": [
        "data.median()"
      ],
      "metadata": {
        "colab": {
          "base_uri": "https://localhost:8080/"
        },
        "id": "Kfbc6k-RsZhY",
        "outputId": "5e31f737-2ab1-47a7-909f-b064cc16b1c4"
      },
      "execution_count": 17,
      "outputs": [
        {
          "output_type": "execute_result",
          "data": {
            "text/plain": [
              "battery_power    1226.0\n",
              "blue                0.0\n",
              "clock_speed         1.5\n",
              "dual_sim            1.0\n",
              "fc                  3.0\n",
              "four_g              1.0\n",
              "int_memory         32.0\n",
              "m_dep               0.5\n",
              "mobile_wt         141.0\n",
              "n_cores             4.0\n",
              "pc                 10.0\n",
              "px_height         564.0\n",
              "px_width         1247.0\n",
              "ram              2146.5\n",
              "sc_h               12.0\n",
              "sc_w                5.0\n",
              "talk_time          11.0\n",
              "three_g             1.0\n",
              "touch_screen        1.0\n",
              "wifi                1.0\n",
              "price_range         1.5\n",
              "dtype: float64"
            ]
          },
          "metadata": {},
          "execution_count": 17
        }
      ]
    },
    {
      "cell_type": "code",
      "source": [
        "data.mode()"
      ],
      "metadata": {
        "colab": {
          "base_uri": "https://localhost:8080/",
          "height": 255
        },
        "id": "nF0KiS8HsbTv",
        "outputId": "36c31644-01a3-4dba-c58c-f779392a9455"
      },
      "execution_count": 18,
      "outputs": [
        {
          "output_type": "execute_result",
          "data": {
            "text/plain": [
              "   battery_power  blue  clock_speed  dual_sim   fc  four_g  int_memory  m_dep  \\\n",
              "0          618.0   0.0          0.5       1.0  0.0     1.0        27.0    0.1   \n",
              "1         1589.0   NaN          NaN       NaN  NaN     NaN         NaN    NaN   \n",
              "2         1872.0   NaN          NaN       NaN  NaN     NaN         NaN    NaN   \n",
              "3            NaN   NaN          NaN       NaN  NaN     NaN         NaN    NaN   \n",
              "4            NaN   NaN          NaN       NaN  NaN     NaN         NaN    NaN   \n",
              "\n",
              "   mobile_wt  n_cores  ...  px_height  px_width   ram  sc_h  sc_w  talk_time  \\\n",
              "0      182.0      4.0  ...      347.0     874.0  1229  17.0   1.0        7.0   \n",
              "1        NaN      NaN  ...        NaN    1247.0  1464   NaN   NaN        NaN   \n",
              "2        NaN      NaN  ...        NaN       NaN  2227   NaN   NaN        NaN   \n",
              "3        NaN      NaN  ...        NaN       NaN  2610   NaN   NaN        NaN   \n",
              "4        NaN      NaN  ...        NaN       NaN  3142   NaN   NaN        NaN   \n",
              "\n",
              "   three_g  touch_screen  wifi  price_range  \n",
              "0      1.0           1.0   1.0          0.0  \n",
              "1      NaN           NaN   NaN          1.0  \n",
              "2      NaN           NaN   NaN          2.0  \n",
              "3      NaN           NaN   NaN          3.0  \n",
              "4      NaN           NaN   NaN          NaN  \n",
              "\n",
              "[5 rows x 21 columns]"
            ],
            "text/html": [
              "\n",
              "  <div id=\"df-ab846480-b1e9-4b80-9cf0-cc952a808a40\" class=\"colab-df-container\">\n",
              "    <div>\n",
              "<style scoped>\n",
              "    .dataframe tbody tr th:only-of-type {\n",
              "        vertical-align: middle;\n",
              "    }\n",
              "\n",
              "    .dataframe tbody tr th {\n",
              "        vertical-align: top;\n",
              "    }\n",
              "\n",
              "    .dataframe thead th {\n",
              "        text-align: right;\n",
              "    }\n",
              "</style>\n",
              "<table border=\"1\" class=\"dataframe\">\n",
              "  <thead>\n",
              "    <tr style=\"text-align: right;\">\n",
              "      <th></th>\n",
              "      <th>battery_power</th>\n",
              "      <th>blue</th>\n",
              "      <th>clock_speed</th>\n",
              "      <th>dual_sim</th>\n",
              "      <th>fc</th>\n",
              "      <th>four_g</th>\n",
              "      <th>int_memory</th>\n",
              "      <th>m_dep</th>\n",
              "      <th>mobile_wt</th>\n",
              "      <th>n_cores</th>\n",
              "      <th>...</th>\n",
              "      <th>px_height</th>\n",
              "      <th>px_width</th>\n",
              "      <th>ram</th>\n",
              "      <th>sc_h</th>\n",
              "      <th>sc_w</th>\n",
              "      <th>talk_time</th>\n",
              "      <th>three_g</th>\n",
              "      <th>touch_screen</th>\n",
              "      <th>wifi</th>\n",
              "      <th>price_range</th>\n",
              "    </tr>\n",
              "  </thead>\n",
              "  <tbody>\n",
              "    <tr>\n",
              "      <th>0</th>\n",
              "      <td>618.0</td>\n",
              "      <td>0.0</td>\n",
              "      <td>0.5</td>\n",
              "      <td>1.0</td>\n",
              "      <td>0.0</td>\n",
              "      <td>1.0</td>\n",
              "      <td>27.0</td>\n",
              "      <td>0.1</td>\n",
              "      <td>182.0</td>\n",
              "      <td>4.0</td>\n",
              "      <td>...</td>\n",
              "      <td>347.0</td>\n",
              "      <td>874.0</td>\n",
              "      <td>1229</td>\n",
              "      <td>17.0</td>\n",
              "      <td>1.0</td>\n",
              "      <td>7.0</td>\n",
              "      <td>1.0</td>\n",
              "      <td>1.0</td>\n",
              "      <td>1.0</td>\n",
              "      <td>0.0</td>\n",
              "    </tr>\n",
              "    <tr>\n",
              "      <th>1</th>\n",
              "      <td>1589.0</td>\n",
              "      <td>NaN</td>\n",
              "      <td>NaN</td>\n",
              "      <td>NaN</td>\n",
              "      <td>NaN</td>\n",
              "      <td>NaN</td>\n",
              "      <td>NaN</td>\n",
              "      <td>NaN</td>\n",
              "      <td>NaN</td>\n",
              "      <td>NaN</td>\n",
              "      <td>...</td>\n",
              "      <td>NaN</td>\n",
              "      <td>1247.0</td>\n",
              "      <td>1464</td>\n",
              "      <td>NaN</td>\n",
              "      <td>NaN</td>\n",
              "      <td>NaN</td>\n",
              "      <td>NaN</td>\n",
              "      <td>NaN</td>\n",
              "      <td>NaN</td>\n",
              "      <td>1.0</td>\n",
              "    </tr>\n",
              "    <tr>\n",
              "      <th>2</th>\n",
              "      <td>1872.0</td>\n",
              "      <td>NaN</td>\n",
              "      <td>NaN</td>\n",
              "      <td>NaN</td>\n",
              "      <td>NaN</td>\n",
              "      <td>NaN</td>\n",
              "      <td>NaN</td>\n",
              "      <td>NaN</td>\n",
              "      <td>NaN</td>\n",
              "      <td>NaN</td>\n",
              "      <td>...</td>\n",
              "      <td>NaN</td>\n",
              "      <td>NaN</td>\n",
              "      <td>2227</td>\n",
              "      <td>NaN</td>\n",
              "      <td>NaN</td>\n",
              "      <td>NaN</td>\n",
              "      <td>NaN</td>\n",
              "      <td>NaN</td>\n",
              "      <td>NaN</td>\n",
              "      <td>2.0</td>\n",
              "    </tr>\n",
              "    <tr>\n",
              "      <th>3</th>\n",
              "      <td>NaN</td>\n",
              "      <td>NaN</td>\n",
              "      <td>NaN</td>\n",
              "      <td>NaN</td>\n",
              "      <td>NaN</td>\n",
              "      <td>NaN</td>\n",
              "      <td>NaN</td>\n",
              "      <td>NaN</td>\n",
              "      <td>NaN</td>\n",
              "      <td>NaN</td>\n",
              "      <td>...</td>\n",
              "      <td>NaN</td>\n",
              "      <td>NaN</td>\n",
              "      <td>2610</td>\n",
              "      <td>NaN</td>\n",
              "      <td>NaN</td>\n",
              "      <td>NaN</td>\n",
              "      <td>NaN</td>\n",
              "      <td>NaN</td>\n",
              "      <td>NaN</td>\n",
              "      <td>3.0</td>\n",
              "    </tr>\n",
              "    <tr>\n",
              "      <th>4</th>\n",
              "      <td>NaN</td>\n",
              "      <td>NaN</td>\n",
              "      <td>NaN</td>\n",
              "      <td>NaN</td>\n",
              "      <td>NaN</td>\n",
              "      <td>NaN</td>\n",
              "      <td>NaN</td>\n",
              "      <td>NaN</td>\n",
              "      <td>NaN</td>\n",
              "      <td>NaN</td>\n",
              "      <td>...</td>\n",
              "      <td>NaN</td>\n",
              "      <td>NaN</td>\n",
              "      <td>3142</td>\n",
              "      <td>NaN</td>\n",
              "      <td>NaN</td>\n",
              "      <td>NaN</td>\n",
              "      <td>NaN</td>\n",
              "      <td>NaN</td>\n",
              "      <td>NaN</td>\n",
              "      <td>NaN</td>\n",
              "    </tr>\n",
              "  </tbody>\n",
              "</table>\n",
              "<p>5 rows × 21 columns</p>\n",
              "</div>\n",
              "    <div class=\"colab-df-buttons\">\n",
              "\n",
              "  <div class=\"colab-df-container\">\n",
              "    <button class=\"colab-df-convert\" onclick=\"convertToInteractive('df-ab846480-b1e9-4b80-9cf0-cc952a808a40')\"\n",
              "            title=\"Convert this dataframe to an interactive table.\"\n",
              "            style=\"display:none;\">\n",
              "\n",
              "  <svg xmlns=\"http://www.w3.org/2000/svg\" height=\"24px\" viewBox=\"0 -960 960 960\">\n",
              "    <path d=\"M120-120v-720h720v720H120Zm60-500h600v-160H180v160Zm220 220h160v-160H400v160Zm0 220h160v-160H400v160ZM180-400h160v-160H180v160Zm440 0h160v-160H620v160ZM180-180h160v-160H180v160Zm440 0h160v-160H620v160Z\"/>\n",
              "  </svg>\n",
              "    </button>\n",
              "\n",
              "  <style>\n",
              "    .colab-df-container {\n",
              "      display:flex;\n",
              "      gap: 12px;\n",
              "    }\n",
              "\n",
              "    .colab-df-convert {\n",
              "      background-color: #E8F0FE;\n",
              "      border: none;\n",
              "      border-radius: 50%;\n",
              "      cursor: pointer;\n",
              "      display: none;\n",
              "      fill: #1967D2;\n",
              "      height: 32px;\n",
              "      padding: 0 0 0 0;\n",
              "      width: 32px;\n",
              "    }\n",
              "\n",
              "    .colab-df-convert:hover {\n",
              "      background-color: #E2EBFA;\n",
              "      box-shadow: 0px 1px 2px rgba(60, 64, 67, 0.3), 0px 1px 3px 1px rgba(60, 64, 67, 0.15);\n",
              "      fill: #174EA6;\n",
              "    }\n",
              "\n",
              "    .colab-df-buttons div {\n",
              "      margin-bottom: 4px;\n",
              "    }\n",
              "\n",
              "    [theme=dark] .colab-df-convert {\n",
              "      background-color: #3B4455;\n",
              "      fill: #D2E3FC;\n",
              "    }\n",
              "\n",
              "    [theme=dark] .colab-df-convert:hover {\n",
              "      background-color: #434B5C;\n",
              "      box-shadow: 0px 1px 3px 1px rgba(0, 0, 0, 0.15);\n",
              "      filter: drop-shadow(0px 1px 2px rgba(0, 0, 0, 0.3));\n",
              "      fill: #FFFFFF;\n",
              "    }\n",
              "  </style>\n",
              "\n",
              "    <script>\n",
              "      const buttonEl =\n",
              "        document.querySelector('#df-ab846480-b1e9-4b80-9cf0-cc952a808a40 button.colab-df-convert');\n",
              "      buttonEl.style.display =\n",
              "        google.colab.kernel.accessAllowed ? 'block' : 'none';\n",
              "\n",
              "      async function convertToInteractive(key) {\n",
              "        const element = document.querySelector('#df-ab846480-b1e9-4b80-9cf0-cc952a808a40');\n",
              "        const dataTable =\n",
              "          await google.colab.kernel.invokeFunction('convertToInteractive',\n",
              "                                                    [key], {});\n",
              "        if (!dataTable) return;\n",
              "\n",
              "        const docLinkHtml = 'Like what you see? Visit the ' +\n",
              "          '<a target=\"_blank\" href=https://colab.research.google.com/notebooks/data_table.ipynb>data table notebook</a>'\n",
              "          + ' to learn more about interactive tables.';\n",
              "        element.innerHTML = '';\n",
              "        dataTable['output_type'] = 'display_data';\n",
              "        await google.colab.output.renderOutput(dataTable, element);\n",
              "        const docLink = document.createElement('div');\n",
              "        docLink.innerHTML = docLinkHtml;\n",
              "        element.appendChild(docLink);\n",
              "      }\n",
              "    </script>\n",
              "  </div>\n",
              "\n",
              "\n",
              "<div id=\"df-c879b078-e221-45ad-990a-0db4e014d224\">\n",
              "  <button class=\"colab-df-quickchart\" onclick=\"quickchart('df-c879b078-e221-45ad-990a-0db4e014d224')\"\n",
              "            title=\"Suggest charts\"\n",
              "            style=\"display:none;\">\n",
              "\n",
              "<svg xmlns=\"http://www.w3.org/2000/svg\" height=\"24px\"viewBox=\"0 0 24 24\"\n",
              "     width=\"24px\">\n",
              "    <g>\n",
              "        <path d=\"M19 3H5c-1.1 0-2 .9-2 2v14c0 1.1.9 2 2 2h14c1.1 0 2-.9 2-2V5c0-1.1-.9-2-2-2zM9 17H7v-7h2v7zm4 0h-2V7h2v10zm4 0h-2v-4h2v4z\"/>\n",
              "    </g>\n",
              "</svg>\n",
              "  </button>\n",
              "\n",
              "<style>\n",
              "  .colab-df-quickchart {\n",
              "      --bg-color: #E8F0FE;\n",
              "      --fill-color: #1967D2;\n",
              "      --hover-bg-color: #E2EBFA;\n",
              "      --hover-fill-color: #174EA6;\n",
              "      --disabled-fill-color: #AAA;\n",
              "      --disabled-bg-color: #DDD;\n",
              "  }\n",
              "\n",
              "  [theme=dark] .colab-df-quickchart {\n",
              "      --bg-color: #3B4455;\n",
              "      --fill-color: #D2E3FC;\n",
              "      --hover-bg-color: #434B5C;\n",
              "      --hover-fill-color: #FFFFFF;\n",
              "      --disabled-bg-color: #3B4455;\n",
              "      --disabled-fill-color: #666;\n",
              "  }\n",
              "\n",
              "  .colab-df-quickchart {\n",
              "    background-color: var(--bg-color);\n",
              "    border: none;\n",
              "    border-radius: 50%;\n",
              "    cursor: pointer;\n",
              "    display: none;\n",
              "    fill: var(--fill-color);\n",
              "    height: 32px;\n",
              "    padding: 0;\n",
              "    width: 32px;\n",
              "  }\n",
              "\n",
              "  .colab-df-quickchart:hover {\n",
              "    background-color: var(--hover-bg-color);\n",
              "    box-shadow: 0 1px 2px rgba(60, 64, 67, 0.3), 0 1px 3px 1px rgba(60, 64, 67, 0.15);\n",
              "    fill: var(--button-hover-fill-color);\n",
              "  }\n",
              "\n",
              "  .colab-df-quickchart-complete:disabled,\n",
              "  .colab-df-quickchart-complete:disabled:hover {\n",
              "    background-color: var(--disabled-bg-color);\n",
              "    fill: var(--disabled-fill-color);\n",
              "    box-shadow: none;\n",
              "  }\n",
              "\n",
              "  .colab-df-spinner {\n",
              "    border: 2px solid var(--fill-color);\n",
              "    border-color: transparent;\n",
              "    border-bottom-color: var(--fill-color);\n",
              "    animation:\n",
              "      spin 1s steps(1) infinite;\n",
              "  }\n",
              "\n",
              "  @keyframes spin {\n",
              "    0% {\n",
              "      border-color: transparent;\n",
              "      border-bottom-color: var(--fill-color);\n",
              "      border-left-color: var(--fill-color);\n",
              "    }\n",
              "    20% {\n",
              "      border-color: transparent;\n",
              "      border-left-color: var(--fill-color);\n",
              "      border-top-color: var(--fill-color);\n",
              "    }\n",
              "    30% {\n",
              "      border-color: transparent;\n",
              "      border-left-color: var(--fill-color);\n",
              "      border-top-color: var(--fill-color);\n",
              "      border-right-color: var(--fill-color);\n",
              "    }\n",
              "    40% {\n",
              "      border-color: transparent;\n",
              "      border-right-color: var(--fill-color);\n",
              "      border-top-color: var(--fill-color);\n",
              "    }\n",
              "    60% {\n",
              "      border-color: transparent;\n",
              "      border-right-color: var(--fill-color);\n",
              "    }\n",
              "    80% {\n",
              "      border-color: transparent;\n",
              "      border-right-color: var(--fill-color);\n",
              "      border-bottom-color: var(--fill-color);\n",
              "    }\n",
              "    90% {\n",
              "      border-color: transparent;\n",
              "      border-bottom-color: var(--fill-color);\n",
              "    }\n",
              "  }\n",
              "</style>\n",
              "\n",
              "  <script>\n",
              "    async function quickchart(key) {\n",
              "      const quickchartButtonEl =\n",
              "        document.querySelector('#' + key + ' button');\n",
              "      quickchartButtonEl.disabled = true;  // To prevent multiple clicks.\n",
              "      quickchartButtonEl.classList.add('colab-df-spinner');\n",
              "      try {\n",
              "        const charts = await google.colab.kernel.invokeFunction(\n",
              "            'suggestCharts', [key], {});\n",
              "      } catch (error) {\n",
              "        console.error('Error during call to suggestCharts:', error);\n",
              "      }\n",
              "      quickchartButtonEl.classList.remove('colab-df-spinner');\n",
              "      quickchartButtonEl.classList.add('colab-df-quickchart-complete');\n",
              "    }\n",
              "    (() => {\n",
              "      let quickchartButtonEl =\n",
              "        document.querySelector('#df-c879b078-e221-45ad-990a-0db4e014d224 button');\n",
              "      quickchartButtonEl.style.display =\n",
              "        google.colab.kernel.accessAllowed ? 'block' : 'none';\n",
              "    })();\n",
              "  </script>\n",
              "</div>\n",
              "    </div>\n",
              "  </div>\n"
            ]
          },
          "metadata": {},
          "execution_count": 18
        }
      ]
    },
    {
      "cell_type": "markdown",
      "source": [
        "we must note that in the given dataset the above functions calculate mean, median and mode of even categorical values such as price_range (target variable with value of 0(low cost), 1(medium cost), 2(high cost) and 3(very high cost)), touch_screen(touch screen or not - 1 or 0) etc."
      ],
      "metadata": {
        "id": "0R125zaou5KP"
      }
    },
    {
      "cell_type": "code",
      "source": [
        "data[['px_height', 'px_width']].mean()"
      ],
      "metadata": {
        "colab": {
          "base_uri": "https://localhost:8080/"
        },
        "id": "NwImeyKGvAcg",
        "outputId": "0f7223b7-6371-4e7c-9552-d040c28ef5c9"
      },
      "execution_count": 22,
      "outputs": [
        {
          "output_type": "execute_result",
          "data": {
            "text/plain": [
              "px_height     645.1080\n",
              "px_width     1251.5155\n",
              "dtype: float64"
            ]
          },
          "metadata": {},
          "execution_count": 22
        }
      ]
    },
    {
      "cell_type": "code",
      "source": [
        "data[['px_height', 'px_width']].median()"
      ],
      "metadata": {
        "colab": {
          "base_uri": "https://localhost:8080/"
        },
        "id": "ktXkh5MRvmwM",
        "outputId": "594a0a4b-b83a-4041-bf2c-9ab517f64772"
      },
      "execution_count": 23,
      "outputs": [
        {
          "output_type": "execute_result",
          "data": {
            "text/plain": [
              "px_height     564.0\n",
              "px_width     1247.0\n",
              "dtype: float64"
            ]
          },
          "metadata": {},
          "execution_count": 23
        }
      ]
    },
    {
      "cell_type": "markdown",
      "source": [
        "as they have similar median and mean the data is normally distributed and not mean isnt skewed by some outlier"
      ],
      "metadata": {
        "id": "Ut8Bo90iv9ON"
      }
    },
    {
      "cell_type": "code",
      "source": [
        "data['n_cores'].mode()"
      ],
      "metadata": {
        "colab": {
          "base_uri": "https://localhost:8080/"
        },
        "id": "96eWHk2AwJ2Y",
        "outputId": "a778193c-7408-40c2-f46e-d2f065875cf8"
      },
      "execution_count": 24,
      "outputs": [
        {
          "output_type": "execute_result",
          "data": {
            "text/plain": [
              "0    4\n",
              "Name: n_cores, dtype: int64"
            ]
          },
          "metadata": {},
          "execution_count": 24
        }
      ]
    },
    {
      "cell_type": "markdown",
      "source": [
        "most phones have 4 cores"
      ],
      "metadata": {
        "id": "Bwt0rtovwayR"
      }
    },
    {
      "cell_type": "markdown",
      "source": [
        "## Measures of Dispersion\n",
        "\n",
        "quantify how far apart or dispersed individual data points are from the central tendency measures\n",
        "\n",
        "#### Types\n",
        "\n",
        "1. Range: difference between the maximum and minimum values\n",
        "\n",
        "2. Variance: average of the squared differences from the mean.\n",
        "\n",
        "3. Standard Deviation: The square root of variance, indicating the average deviation from the mean\n",
        "\n",
        "4. Quartiles and Interquartile Range (IQR): Measures spread around the median by dividing the data into quarters\n",
        "\n",
        "#### Need\n",
        "1. Understanding Data Variability: assess how much the data points deviate from the central tendency\n",
        "\n",
        "2. Feature Selection: identify features with high variability, which might contribute more to predictive models\n",
        "\n",
        "3. Outlier Detection: Larger spreads might indicate potential outliers or unusual data points that require further investigation or treatment\n",
        "\n",
        "#### Example Scenario\n",
        "Suppose you're analyzing a dataset of housing prices in a neighborhood:\n",
        "\n",
        "\n",
        "**Application:** You're interested in understanding the variability in house prices.\n",
        "\n",
        "**Measure of Spread:** Calculating the range, variance, or standard deviation of house prices could indicate how dispersed the prices are around the average.\n",
        "\n",
        "**Insight:** A larger range or standard deviation might suggest a wider variability in housing prices, indicating different factors affecting house prices across the neighborhood."
      ],
      "metadata": {
        "id": "KrFw2nVawgY_"
      }
    },
    {
      "cell_type": "markdown",
      "source": [
        "### Range\n",
        "\n",
        "**Insights**\n",
        "- Provides the extent between the maximum and minimum values in a dataset\n",
        "- Indicates the spread or dispersion of the entire dataset.\n",
        "\n",
        "**Usage**\n",
        "- Quick understanding of the data spread\n",
        "- Identifying the scope of values covered in the dataset."
      ],
      "metadata": {
        "id": "kd0O3GqGy5m0"
      }
    },
    {
      "cell_type": "code",
      "source": [
        "data.max()"
      ],
      "metadata": {
        "colab": {
          "base_uri": "https://localhost:8080/"
        },
        "id": "y9sbCs96zomj",
        "outputId": "3cfd2c4f-386d-47fb-9afe-176eb3007329"
      },
      "execution_count": 28,
      "outputs": [
        {
          "output_type": "execute_result",
          "data": {
            "text/plain": [
              "battery_power    1998.0\n",
              "blue                1.0\n",
              "clock_speed         3.0\n",
              "dual_sim            1.0\n",
              "fc                 19.0\n",
              "four_g              1.0\n",
              "int_memory         64.0\n",
              "m_dep               1.0\n",
              "mobile_wt         200.0\n",
              "n_cores             8.0\n",
              "pc                 20.0\n",
              "px_height        1960.0\n",
              "px_width         1998.0\n",
              "ram              3998.0\n",
              "sc_h               19.0\n",
              "sc_w               18.0\n",
              "talk_time          20.0\n",
              "three_g             1.0\n",
              "touch_screen        1.0\n",
              "wifi                1.0\n",
              "price_range         3.0\n",
              "dtype: float64"
            ]
          },
          "metadata": {},
          "execution_count": 28
        }
      ]
    },
    {
      "cell_type": "code",
      "source": [
        "data.min()"
      ],
      "metadata": {
        "colab": {
          "base_uri": "https://localhost:8080/"
        },
        "id": "VsqAMbGt6Sn6",
        "outputId": "e0e52595-5e72-480b-bdc9-3a118d2a8817"
      },
      "execution_count": 29,
      "outputs": [
        {
          "output_type": "execute_result",
          "data": {
            "text/plain": [
              "battery_power    501.0\n",
              "blue               0.0\n",
              "clock_speed        0.5\n",
              "dual_sim           0.0\n",
              "fc                 0.0\n",
              "four_g             0.0\n",
              "int_memory         2.0\n",
              "m_dep              0.1\n",
              "mobile_wt         80.0\n",
              "n_cores            1.0\n",
              "pc                 0.0\n",
              "px_height          0.0\n",
              "px_width         500.0\n",
              "ram              256.0\n",
              "sc_h               5.0\n",
              "sc_w               0.0\n",
              "talk_time          2.0\n",
              "three_g            0.0\n",
              "touch_screen       0.0\n",
              "wifi               0.0\n",
              "price_range        0.0\n",
              "dtype: float64"
            ]
          },
          "metadata": {},
          "execution_count": 29
        }
      ]
    },
    {
      "cell_type": "code",
      "source": [
        "range = data.max() - data.min()\n",
        "print(range)"
      ],
      "metadata": {
        "colab": {
          "base_uri": "https://localhost:8080/"
        },
        "id": "152H9kyp6Vs2",
        "outputId": "71815d58-61b3-49fd-f388-59f2b51ffbdf"
      },
      "execution_count": 30,
      "outputs": [
        {
          "output_type": "stream",
          "name": "stdout",
          "text": [
            "battery_power    1497.0\n",
            "blue                1.0\n",
            "clock_speed         2.5\n",
            "dual_sim            1.0\n",
            "fc                 19.0\n",
            "four_g              1.0\n",
            "int_memory         62.0\n",
            "m_dep               0.9\n",
            "mobile_wt         120.0\n",
            "n_cores             7.0\n",
            "pc                 20.0\n",
            "px_height        1960.0\n",
            "px_width         1498.0\n",
            "ram              3742.0\n",
            "sc_h               14.0\n",
            "sc_w               18.0\n",
            "talk_time          18.0\n",
            "three_g             1.0\n",
            "touch_screen        1.0\n",
            "wifi                1.0\n",
            "price_range         3.0\n",
            "dtype: float64\n"
          ]
        }
      ]
    },
    {
      "cell_type": "code",
      "source": [
        "numerical_cols = ['battery_power', 'clock_speed', 'fc', 'int_memory', 'm_dep', 'mobile_wt', 'pc', 'px_height', 'px_width', 'ram', 'sc_h', 'sc_w', 'talk_time']"
      ],
      "metadata": {
        "id": "B-RFmt947W1t"
      },
      "execution_count": 31,
      "outputs": []
    },
    {
      "cell_type": "code",
      "source": [
        "data[numerical_cols].max() - data[numerical_cols].min()"
      ],
      "metadata": {
        "colab": {
          "base_uri": "https://localhost:8080/"
        },
        "id": "QmLo86b_6eGP",
        "outputId": "ca4b718e-6838-4b72-8d15-5f32d818e2ef"
      },
      "execution_count": 32,
      "outputs": [
        {
          "output_type": "execute_result",
          "data": {
            "text/plain": [
              "battery_power    1497.0\n",
              "clock_speed         2.5\n",
              "fc                 19.0\n",
              "int_memory         62.0\n",
              "m_dep               0.9\n",
              "mobile_wt         120.0\n",
              "pc                 20.0\n",
              "px_height        1960.0\n",
              "px_width         1498.0\n",
              "ram              3742.0\n",
              "sc_h               14.0\n",
              "sc_w               18.0\n",
              "talk_time          18.0\n",
              "dtype: float64"
            ]
          },
          "metadata": {},
          "execution_count": 32
        }
      ]
    },
    {
      "cell_type": "markdown",
      "source": [
        "### Variance and Standard Deviation:\n",
        "\n",
        "**Insights**\n",
        "\n",
        "- higher variance indicates that data points are more dispersed or scattered from the meanl and suggests greater variability\n",
        "- Standard deviation, the square root of variance, quantifies the average deviation from the mean\n",
        "- higher standard deviation indicates greater variability or dispersion from the mean, while a smaller standard deviation implies data points are closer to the mean.\n",
        "\n",
        "**Usage**\n",
        "- In predictive modeling, high variance might imply that predictions could vary significantly, indicating potential instability in the model's performance.\n",
        "- Features with higher variance might be considered more informative as they show greater variability and potentially more discriminatory power"
      ],
      "metadata": {
        "id": "llBc847ly_-a"
      }
    },
    {
      "cell_type": "code",
      "source": [
        "np.var(data)"
      ],
      "metadata": {
        "colab": {
          "base_uri": "https://localhost:8080/"
        },
        "id": "tadjLmGH8fbf",
        "outputId": "2d2e71b9-08a4-48fc-fa80-4f3cd753a976"
      },
      "execution_count": 35,
      "outputs": [
        {
          "output_type": "execute_result",
          "data": {
            "text/plain": [
              "battery_power    1.929918e+05\n",
              "blue             2.499750e-01\n",
              "clock_speed      6.655299e-01\n",
              "dual_sim         2.499098e-01\n",
              "fc               1.883871e+01\n",
              "four_g           2.495378e-01\n",
              "int_memory       3.291023e+02\n",
              "m_dep            8.314194e-02\n",
              "mobile_wt        1.252509e+03\n",
              "n_cores          5.231580e+00\n",
              "pc               3.675753e+01\n",
              "px_height        1.968429e+05\n",
              "px_width         1.867030e+05\n",
              "ram              1.176055e+06\n",
              "sc_h             1.774256e+01\n",
              "sc_w             1.896871e+01\n",
              "talk_time        2.983988e+01\n",
              "three_g          1.816178e-01\n",
              "touch_screen     2.499910e-01\n",
              "wifi             2.499510e-01\n",
              "price_range      1.250000e+00\n",
              "dtype: float64"
            ]
          },
          "metadata": {},
          "execution_count": 35
        }
      ]
    },
    {
      "cell_type": "code",
      "source": [
        "data.var()"
      ],
      "metadata": {
        "colab": {
          "base_uri": "https://localhost:8080/"
        },
        "id": "FMFp8nlN8_ry",
        "outputId": "91a1d2f5-c9f2-4922-a028-b05286ca76bd"
      },
      "execution_count": 36,
      "outputs": [
        {
          "output_type": "execute_result",
          "data": {
            "text/plain": [
              "battery_power    1.930884e+05\n",
              "blue             2.501001e-01\n",
              "clock_speed      6.658629e-01\n",
              "dual_sim         2.500348e-01\n",
              "fc               1.884813e+01\n",
              "four_g           2.496626e-01\n",
              "int_memory       3.292670e+02\n",
              "m_dep            8.318353e-02\n",
              "mobile_wt        1.253136e+03\n",
              "n_cores          5.234197e+00\n",
              "pc               3.677592e+01\n",
              "px_height        1.969414e+05\n",
              "px_width         1.867964e+05\n",
              "ram              1.176644e+06\n",
              "sc_h             1.775143e+01\n",
              "sc_w             1.897820e+01\n",
              "talk_time        2.985481e+01\n",
              "three_g          1.817086e-01\n",
              "touch_screen     2.501161e-01\n",
              "wifi             2.500760e-01\n",
              "price_range      1.250625e+00\n",
              "dtype: float64"
            ]
          },
          "metadata": {},
          "execution_count": 36
        }
      ]
    },
    {
      "cell_type": "code",
      "source": [
        "data[numerical_cols].std()"
      ],
      "metadata": {
        "colab": {
          "base_uri": "https://localhost:8080/"
        },
        "id": "I4quXC0K9D81",
        "outputId": "bd1cdcd2-722c-4a9f-bb63-b00581089de8"
      },
      "execution_count": 39,
      "outputs": [
        {
          "output_type": "execute_result",
          "data": {
            "text/plain": [
              "battery_power     439.418206\n",
              "clock_speed         0.816004\n",
              "fc                  4.341444\n",
              "int_memory         18.145715\n",
              "m_dep               0.288416\n",
              "mobile_wt          35.399655\n",
              "pc                  6.064315\n",
              "px_height         443.780811\n",
              "px_width          432.199447\n",
              "ram              1084.732044\n",
              "sc_h                4.213245\n",
              "sc_w                4.356398\n",
              "talk_time           5.463955\n",
              "dtype: float64"
            ]
          },
          "metadata": {},
          "execution_count": 39
        }
      ]
    },
    {
      "cell_type": "code",
      "source": [
        "variances_sorted = data.var().sort_values(ascending=False)\n",
        "plt.figure(figsize=(10, 6))\n",
        "variances_sorted.plot(kind='bar', color='skyblue')\n",
        "plt.title('Variance of Each Column')\n",
        "plt.xlabel('Columns')\n",
        "plt.ylabel('Variance')\n",
        "plt.xticks(rotation=45, ha='right')\n",
        "plt.tight_layout()\n",
        "plt.show()"
      ],
      "metadata": {
        "colab": {
          "base_uri": "https://localhost:8080/",
          "height": 607
        },
        "id": "-AktmjgyxZvY",
        "outputId": "3af6159f-d2c4-4b70-8c52-f1c4f315a2cd"
      },
      "execution_count": 46,
      "outputs": [
        {
          "output_type": "display_data",
          "data": {
            "text/plain": [
              "<Figure size 1000x600 with 1 Axes>"
            ],
            "image/png": "[encoded data removed]"
          },
          "metadata": {}
        }
      ]
    },
    {
      "cell_type": "markdown",
      "source": [
        "### Quartiles and Interquartile Range (IQR):\n",
        "**Insights**\n",
        "- Quartiles divide the data into quarters, indicating the spread around the median.\n",
        "- IQR measures the range between the first (25th percentile) and third (75th percentile) quartiles.\n",
        "\n",
        "**Usage**\n",
        "- Identifies the central tendency's spread within different portions of the dataset.\n",
        "- Helps detect outliers or extreme values outside the IQR boundaries.\n",
        "- Provides insights into the variability in the middle 50% of the data.\n"
      ],
      "metadata": {
        "id": "JayDn-_gzE0w"
      }
    },
    {
      "cell_type": "markdown",
      "source": [
        "#### Types of Quartiles:\n",
        "\n",
        "**First Quartile (Q1) - 25th percentile:**\n",
        "\n",
        "Represents the value below which 25% of the data fall.\n",
        "Divides the lowest 25% of the dataset from the rest.\n",
        "\n",
        "**Second Quartile (Q2) - 50th percentile (also known as the Median):**\n",
        "\n",
        "Represents the middle value when the data is arranged in ascending or descending order.\n",
        "Divides the data into two equal halves, with 50% of the data falling below and 50% above this value.\n",
        "\n",
        "**Third Quartile (Q3) - 75th percentile:**\n",
        "\n",
        "Represents the value below which 75% of the data fall.\n",
        "Divides the lowest 75% of the dataset from the highest 25%.\n",
        "\n",
        "**Interquartile Range (IQR):**\n",
        "\n",
        "Calculating the IQR (Q3 - Q1) helps in identifying the middle 50% of the data, excluding potential outliers.\n"
      ],
      "metadata": {
        "id": "wb_aI_Rb_OAd"
      }
    },
    {
      "cell_type": "code",
      "source": [
        "data[numerical_cols].quantile([0.25, 0.5, 0.75])"
      ],
      "metadata": {
        "colab": {
          "base_uri": "https://localhost:8080/",
          "height": 143
        },
        "id": "jBSspjuY_NSK",
        "outputId": "74a2756a-16b6-4c95-afc7-88ccdaee0392"
      },
      "execution_count": 51,
      "outputs": [
        {
          "output_type": "execute_result",
          "data": {
            "text/plain": [
              "      battery_power  clock_speed   fc  int_memory  m_dep  mobile_wt    pc  \\\n",
              "0.25         851.75          0.7  1.0        16.0    0.2      109.0   5.0   \n",
              "0.50        1226.00          1.5  3.0        32.0    0.5      141.0  10.0   \n",
              "0.75        1615.25          2.2  7.0        48.0    0.8      170.0  15.0   \n",
              "\n",
              "      px_height  px_width     ram  sc_h  sc_w  talk_time  \n",
              "0.25     282.75    874.75  1207.5   9.0   2.0        6.0  \n",
              "0.50     564.00   1247.00  2146.5  12.0   5.0       11.0  \n",
              "0.75     947.25   1633.00  3064.5  16.0   9.0       16.0  "
            ],
            "text/html": [
              "\n",
              "  <div id=\"df-94c3547d-bdb5-4223-aa77-583a19d75605\" class=\"colab-df-container\">\n",
              "    <div>\n",
              "<style scoped>\n",
              "    .dataframe tbody tr th:only-of-type {\n",
              "        vertical-align: middle;\n",
              "    }\n",
              "\n",
              "    .dataframe tbody tr th {\n",
              "        vertical-align: top;\n",
              "    }\n",
              "\n",
              "    .dataframe thead th {\n",
              "        text-align: right;\n",
              "    }\n",
              "</style>\n",
              "<table border=\"1\" class=\"dataframe\">\n",
              "  <thead>\n",
              "    <tr style=\"text-align: right;\">\n",
              "      <th></th>\n",
              "      <th>battery_power</th>\n",
              "      <th>clock_speed</th>\n",
              "      <th>fc</th>\n",
              "      <th>int_memory</th>\n",
              "      <th>m_dep</th>\n",
              "      <th>mobile_wt</th>\n",
              "      <th>pc</th>\n",
              "      <th>px_height</th>\n",
              "      <th>px_width</th>\n",
              "      <th>ram</th>\n",
              "      <th>sc_h</th>\n",
              "      <th>sc_w</th>\n",
              "      <th>talk_time</th>\n",
              "    </tr>\n",
              "  </thead>\n",
              "  <tbody>\n",
              "    <tr>\n",
              "      <th>0.25</th>\n",
              "      <td>851.75</td>\n",
              "      <td>0.7</td>\n",
              "      <td>1.0</td>\n",
              "      <td>16.0</td>\n",
              "      <td>0.2</td>\n",
              "      <td>109.0</td>\n",
              "      <td>5.0</td>\n",
              "      <td>282.75</td>\n",
              "      <td>874.75</td>\n",
              "      <td>1207.5</td>\n",
              "      <td>9.0</td>\n",
              "      <td>2.0</td>\n",
              "      <td>6.0</td>\n",
              "    </tr>\n",
              "    <tr>\n",
              "      <th>0.50</th>\n",
              "      <td>1226.00</td>\n",
              "      <td>1.5</td>\n",
              "      <td>3.0</td>\n",
              "      <td>32.0</td>\n",
              "      <td>0.5</td>\n",
              "      <td>141.0</td>\n",
              "      <td>10.0</td>\n",
              "      <td>564.00</td>\n",
              "      <td>1247.00</td>\n",
              "      <td>2146.5</td>\n",
              "      <td>12.0</td>\n",
              "      <td>5.0</td>\n",
              "      <td>11.0</td>\n",
              "    </tr>\n",
              "    <tr>\n",
              "      <th>0.75</th>\n",
              "      <td>1615.25</td>\n",
              "      <td>2.2</td>\n",
              "      <td>7.0</td>\n",
              "      <td>48.0</td>\n",
              "      <td>0.8</td>\n",
              "      <td>170.0</td>\n",
              "      <td>15.0</td>\n",
              "      <td>947.25</td>\n",
              "      <td>1633.00</td>\n",
              "      <td>3064.5</td>\n",
              "      <td>16.0</td>\n",
              "      <td>9.0</td>\n",
              "      <td>16.0</td>\n",
              "    </tr>\n",
              "  </tbody>\n",
              "</table>\n",
              "</div>\n",
              "    <div class=\"colab-df-buttons\">\n",
              "\n",
              "  <div class=\"colab-df-container\">\n",
              "    <button class=\"colab-df-convert\" onclick=\"convertToInteractive('df-94c3547d-bdb5-4223-aa77-583a19d75605')\"\n",
              "            title=\"Convert this dataframe to an interactive table.\"\n",
              "            style=\"display:none;\">\n",
              "\n",
              "  <svg xmlns=\"http://www.w3.org/2000/svg\" height=\"24px\" viewBox=\"0 -960 960 960\">\n",
              "    <path d=\"M120-120v-720h720v720H120Zm60-500h600v-160H180v160Zm220 220h160v-160H400v160Zm0 220h160v-160H400v160ZM180-400h160v-160H180v160Zm440 0h160v-160H620v160ZM180-180h160v-160H180v160Zm440 0h160v-160H620v160Z\"/>\n",
              "  </svg>\n",
              "    </button>\n",
              "\n",
              "  <style>\n",
              "    .colab-df-container {\n",
              "      display:flex;\n",
              "      gap: 12px;\n",
              "    }\n",
              "\n",
              "    .colab-df-convert {\n",
              "      background-color: #E8F0FE;\n",
              "      border: none;\n",
              "      border-radius: 50%;\n",
              "      cursor: pointer;\n",
              "      display: none;\n",
              "      fill: #1967D2;\n",
              "      height: 32px;\n",
              "      padding: 0 0 0 0;\n",
              "      width: 32px;\n",
              "    }\n",
              "\n",
              "    .colab-df-convert:hover {\n",
              "      background-color: #E2EBFA;\n",
              "      box-shadow: 0px 1px 2px rgba(60, 64, 67, 0.3), 0px 1px 3px 1px rgba(60, 64, 67, 0.15);\n",
              "      fill: #174EA6;\n",
              "    }\n",
              "\n",
              "    .colab-df-buttons div {\n",
              "      margin-bottom: 4px;\n",
              "    }\n",
              "\n",
              "    [theme=dark] .colab-df-convert {\n",
              "      background-color: #3B4455;\n",
              "      fill: #D2E3FC;\n",
              "    }\n",
              "\n",
              "    [theme=dark] .colab-df-convert:hover {\n",
              "      background-color: #434B5C;\n",
              "      box-shadow: 0px 1px 3px 1px rgba(0, 0, 0, 0.15);\n",
              "      filter: drop-shadow(0px 1px 2px rgba(0, 0, 0, 0.3));\n",
              "      fill: #FFFFFF;\n",
              "    }\n",
              "  </style>\n",
              "\n",
              "    <script>\n",
              "      const buttonEl =\n",
              "        document.querySelector('#df-94c3547d-bdb5-4223-aa77-583a19d75605 button.colab-df-convert');\n",
              "      buttonEl.style.display =\n",
              "        google.colab.kernel.accessAllowed ? 'block' : 'none';\n",
              "\n",
              "      async function convertToInteractive(key) {\n",
              "        const element = document.querySelector('#df-94c3547d-bdb5-4223-aa77-583a19d75605');\n",
              "        const dataTable =\n",
              "          await google.colab.kernel.invokeFunction('convertToInteractive',\n",
              "                                                    [key], {});\n",
              "        if (!dataTable) return;\n",
              "\n",
              "        const docLinkHtml = 'Like what you see? Visit the ' +\n",
              "          '<a target=\"_blank\" href=https://colab.research.google.com/notebooks/data_table.ipynb>data table notebook</a>'\n",
              "          + ' to learn more about interactive tables.';\n",
              "        element.innerHTML = '';\n",
              "        dataTable['output_type'] = 'display_data';\n",
              "        await google.colab.output.renderOutput(dataTable, element);\n",
              "        const docLink = document.createElement('div');\n",
              "        docLink.innerHTML = docLinkHtml;\n",
              "        element.appendChild(docLink);\n",
              "      }\n",
              "    </script>\n",
              "  </div>\n",
              "\n",
              "\n",
              "<div id=\"df-3dd47e0d-41e5-428f-811c-45cf98ee1c69\">\n",
              "  <button class=\"colab-df-quickchart\" onclick=\"quickchart('df-3dd47e0d-41e5-428f-811c-45cf98ee1c69')\"\n",
              "            title=\"Suggest charts\"\n",
              "            style=\"display:none;\">\n",
              "\n",
              "<svg xmlns=\"http://www.w3.org/2000/svg\" height=\"24px\"viewBox=\"0 0 24 24\"\n",
              "     width=\"24px\">\n",
              "    <g>\n",
              "        <path d=\"M19 3H5c-1.1 0-2 .9-2 2v14c0 1.1.9 2 2 2h14c1.1 0 2-.9 2-2V5c0-1.1-.9-2-2-2zM9 17H7v-7h2v7zm4 0h-2V7h2v10zm4 0h-2v-4h2v4z\"/>\n",
              "    </g>\n",
              "</svg>\n",
              "  </button>\n",
              "\n",
              "<style>\n",
              "  .colab-df-quickchart {\n",
              "      --bg-color: #E8F0FE;\n",
              "      --fill-color: #1967D2;\n",
              "      --hover-bg-color: #E2EBFA;\n",
              "      --hover-fill-color: #174EA6;\n",
              "      --disabled-fill-color: #AAA;\n",
              "      --disabled-bg-color: #DDD;\n",
              "  }\n",
              "\n",
              "  [theme=dark] .colab-df-quickchart {\n",
              "      --bg-color: #3B4455;\n",
              "      --fill-color: #D2E3FC;\n",
              "      --hover-bg-color: #434B5C;\n",
              "      --hover-fill-color: #FFFFFF;\n",
              "      --disabled-bg-color: #3B4455;\n",
              "      --disabled-fill-color: #666;\n",
              "  }\n",
              "\n",
              "  .colab-df-quickchart {\n",
              "    background-color: var(--bg-color);\n",
              "    border: none;\n",
              "    border-radius: 50%;\n",
              "    cursor: pointer;\n",
              "    display: none;\n",
              "    fill: var(--fill-color);\n",
              "    height: 32px;\n",
              "    padding: 0;\n",
              "    width: 32px;\n",
              "  }\n",
              "\n",
              "  .colab-df-quickchart:hover {\n",
              "    background-color: var(--hover-bg-color);\n",
              "    box-shadow: 0 1px 2px rgba(60, 64, 67, 0.3), 0 1px 3px 1px rgba(60, 64, 67, 0.15);\n",
              "    fill: var(--button-hover-fill-color);\n",
              "  }\n",
              "\n",
              "  .colab-df-quickchart-complete:disabled,\n",
              "  .colab-df-quickchart-complete:disabled:hover {\n",
              "    background-color: var(--disabled-bg-color);\n",
              "    fill: var(--disabled-fill-color);\n",
              "    box-shadow: none;\n",
              "  }\n",
              "\n",
              "  .colab-df-spinner {\n",
              "    border: 2px solid var(--fill-color);\n",
              "    border-color: transparent;\n",
              "    border-bottom-color: var(--fill-color);\n",
              "    animation:\n",
              "      spin 1s steps(1) infinite;\n",
              "  }\n",
              "\n",
              "  @keyframes spin {\n",
              "    0% {\n",
              "      border-color: transparent;\n",
              "      border-bottom-color: var(--fill-color);\n",
              "      border-left-color: var(--fill-color);\n",
              "    }\n",
              "    20% {\n",
              "      border-color: transparent;\n",
              "      border-left-color: var(--fill-color);\n",
              "      border-top-color: var(--fill-color);\n",
              "    }\n",
              "    30% {\n",
              "      border-color: transparent;\n",
              "      border-left-color: var(--fill-color);\n",
              "      border-top-color: var(--fill-color);\n",
              "      border-right-color: var(--fill-color);\n",
              "    }\n",
              "    40% {\n",
              "      border-color: transparent;\n",
              "      border-right-color: var(--fill-color);\n",
              "      border-top-color: var(--fill-color);\n",
              "    }\n",
              "    60% {\n",
              "      border-color: transparent;\n",
              "      border-right-color: var(--fill-color);\n",
              "    }\n",
              "    80% {\n",
              "      border-color: transparent;\n",
              "      border-right-color: var(--fill-color);\n",
              "      border-bottom-color: var(--fill-color);\n",
              "    }\n",
              "    90% {\n",
              "      border-color: transparent;\n",
              "      border-bottom-color: var(--fill-color);\n",
              "    }\n",
              "  }\n",
              "</style>\n",
              "\n",
              "  <script>\n",
              "    async function quickchart(key) {\n",
              "      const quickchartButtonEl =\n",
              "        document.querySelector('#' + key + ' button');\n",
              "      quickchartButtonEl.disabled = true;  // To prevent multiple clicks.\n",
              "      quickchartButtonEl.classList.add('colab-df-spinner');\n",
              "      try {\n",
              "        const charts = await google.colab.kernel.invokeFunction(\n",
              "            'suggestCharts', [key], {});\n",
              "      } catch (error) {\n",
              "        console.error('Error during call to suggestCharts:', error);\n",
              "      }\n",
              "      quickchartButtonEl.classList.remove('colab-df-spinner');\n",
              "      quickchartButtonEl.classList.add('colab-df-quickchart-complete');\n",
              "    }\n",
              "    (() => {\n",
              "      let quickchartButtonEl =\n",
              "        document.querySelector('#df-3dd47e0d-41e5-428f-811c-45cf98ee1c69 button');\n",
              "      quickchartButtonEl.style.display =\n",
              "        google.colab.kernel.accessAllowed ? 'block' : 'none';\n",
              "    })();\n",
              "  </script>\n",
              "</div>\n",
              "    </div>\n",
              "  </div>\n"
            ]
          },
          "metadata": {},
          "execution_count": 51
        }
      ]
    },
    {
      "cell_type": "markdown",
      "source": [
        "battery power is normally distributed"
      ],
      "metadata": {
        "id": "95o8esotDUh2"
      }
    },
    {
      "cell_type": "code",
      "source": [
        "data['price_range'].quantile([0.25, 0.5, 0.75])"
      ],
      "metadata": {
        "colab": {
          "base_uri": "https://localhost:8080/"
        },
        "id": "Uc5tXxXqCUFw",
        "outputId": "17153139-4bda-40aa-feac-4d15ec7c86b5"
      },
      "execution_count": 52,
      "outputs": [
        {
          "output_type": "execute_result",
          "data": {
            "text/plain": [
              "0.25    0.75\n",
              "0.50    1.50\n",
              "0.75    2.25\n",
              "Name: price_range, dtype: float64"
            ]
          },
          "metadata": {},
          "execution_count": 52
        }
      ]
    },
    {
      "cell_type": "code",
      "source": [
        "Q1 = data.quantile(0.25)\n",
        "Q3 = data.quantile(0.75)\n",
        "IQR = Q3 - Q1\n",
        "print(IQR)"
      ],
      "metadata": {
        "colab": {
          "base_uri": "https://localhost:8080/"
        },
        "id": "5opXTgNHDh7Y",
        "outputId": "b091b708-86f3-444d-ef4d-5c428a689302"
      },
      "execution_count": 53,
      "outputs": [
        {
          "output_type": "stream",
          "name": "stdout",
          "text": [
            "battery_power     763.50\n",
            "blue                1.00\n",
            "clock_speed         1.50\n",
            "dual_sim            1.00\n",
            "fc                  6.00\n",
            "four_g              1.00\n",
            "int_memory         32.00\n",
            "m_dep               0.60\n",
            "mobile_wt          61.00\n",
            "n_cores             4.00\n",
            "pc                 10.00\n",
            "px_height         664.50\n",
            "px_width          758.25\n",
            "ram              1857.00\n",
            "sc_h                7.00\n",
            "sc_w                7.00\n",
            "talk_time          10.00\n",
            "three_g             0.00\n",
            "touch_screen        1.00\n",
            "wifi                1.00\n",
            "price_range         1.50\n",
            "dtype: float64\n"
          ]
        }
      ]
    },
    {
      "cell_type": "code",
      "source": [
        "sns.pairplot(data)\n",
        "plt.title('Pair Plot of DataFrame')\n",
        "plt.show()"
      ],
      "metadata": {
        "id": "tMd1kQ7hIBDi"
      },
      "execution_count": null,
      "outputs": []
    },
    {
      "cell_type": "markdown",
      "source": [
        "### Outlier detection\n",
        "Identifying outliers using quartiles and the Interquartile Range (IQR) involves defining a range beyond the quartiles that signifies potential outlier values.\n",
        "\n",
        "**Steps to Identify Outliers using Quartiles and IQR:**\n",
        "1. Calculate Quartiles (Q1 and Q3):Compute the first quartile (Q1) and third quartile (Q3) for the dataset.\n",
        "2. Compute Interquartile Range (IQR):Calculate the IQR by subtracting Q1 from Q3 (IQR = Q3 - Q1).\n",
        "3. Identify Potential Outliers:Define a range for potential outliers: values below Q1 - 1.5 * IQR or above Q3 + 1.5 * IQR.\n",
        "\n",
        "Values outside this range are considered potential outliers."
      ],
      "metadata": {
        "id": "4fiBFd6OE20l"
      }
    },
    {
      "cell_type": "markdown",
      "source": [
        "Note:\n",
        "The formula utilizes the concept of dispersion measured by the IQR to identify potential outliers.\n",
        "\n",
        "By adding or subtracting 1.5 times the IQR to/from the quartiles (Q1 and Q3), it extends the range beyond the bulk of the data.\n",
        "\n",
        "This multiplier (1.5) is a rule of thumb and is based on statistical conventions. It's adjustable depending on the level of sensitivity desired for outlier detection.\n",
        "\n",
        "The choice of 1.5 times the IQR is a balance between capturing potential outliers and minimizing false positives."
      ],
      "metadata": {
        "id": "Om3fIeOtFYkx"
      }
    },
    {
      "cell_type": "code",
      "source": [
        "numerical_cols"
      ],
      "metadata": {
        "colab": {
          "base_uri": "https://localhost:8080/"
        },
        "id": "f2ETvzLHF9vk",
        "outputId": "a8b3d53d-f50f-4f60-c2fa-126ac4e237ee"
      },
      "execution_count": 56,
      "outputs": [
        {
          "output_type": "execute_result",
          "data": {
            "text/plain": [
              "['battery_power',\n",
              " 'clock_speed',\n",
              " 'fc',\n",
              " 'int_memory',\n",
              " 'm_dep',\n",
              " 'mobile_wt',\n",
              " 'pc',\n",
              " 'px_height',\n",
              " 'px_width',\n",
              " 'ram',\n",
              " 'sc_h',\n",
              " 'sc_w',\n",
              " 'talk_time']"
            ]
          },
          "metadata": {},
          "execution_count": 56
        }
      ]
    },
    {
      "cell_type": "code",
      "source": [
        "Q1 = data['clock_speed'].quantile(0.25)\n",
        "Q3 = data['clock_speed'].quantile(0.75)\n",
        "IQR = Q3 - Q1\n",
        "\n",
        "# Define outlier boundaries\n",
        "lower_bound = Q1 - 1.5 * IQR\n",
        "upper_bound = Q3 + 1.5 * IQR\n",
        "\n",
        "# Identify outliers in the column\n",
        "outliers = data[(data['clock_speed'] < lower_bound) | (data['clock_speed'] > upper_bound)]\n",
        "\n",
        "# Display or process the outliers\n",
        "print(\"Identified outliers:\")\n",
        "print(outliers)"
      ],
      "metadata": {
        "colab": {
          "base_uri": "https://localhost:8080/"
        },
        "id": "QeY7CgDGFc6P",
        "outputId": "c2a1cd00-8059-4b04-cadd-0626e90016d1"
      },
      "execution_count": 59,
      "outputs": [
        {
          "output_type": "stream",
          "name": "stdout",
          "text": [
            "Identified outliers:\n",
            "Empty DataFrame\n",
            "Columns: [battery_power, blue, clock_speed, dual_sim, fc, four_g, int_memory, m_dep, mobile_wt, n_cores, pc, px_height, px_width, ram, sc_h, sc_w, talk_time, three_g, touch_screen, wifi, price_range]\n",
            "Index: []\n",
            "\n",
            "[0 rows x 21 columns]\n"
          ]
        }
      ]
    },
    {
      "cell_type": "code",
      "source": [
        "Q1 = data['ram'].quantile(0.25)\n",
        "Q3 = data['ram'].quantile(0.75)\n",
        "IQR = Q3 - Q1\n",
        "\n",
        "# Define outlier boundaries\n",
        "lower_bound = Q1 - 1.5 * IQR\n",
        "upper_bound = Q3 + 1.5 * IQR\n",
        "\n",
        "# Identify outliers in the column\n",
        "outliers = data[(data['ram'] < lower_bound) | (data['ram'] > upper_bound)]\n",
        "\n",
        "# Display or process the outliers\n",
        "print(\"Identified outliers:\")\n",
        "print(outliers)"
      ],
      "metadata": {
        "colab": {
          "base_uri": "https://localhost:8080/"
        },
        "id": "_PmojqxRGP2_",
        "outputId": "2d788243-dc51-4aea-ecab-ed62bb6e3695"
      },
      "execution_count": 60,
      "outputs": [
        {
          "output_type": "stream",
          "name": "stdout",
          "text": [
            "Identified outliers:\n",
            "Empty DataFrame\n",
            "Columns: [battery_power, blue, clock_speed, dual_sim, fc, four_g, int_memory, m_dep, mobile_wt, n_cores, pc, px_height, px_width, ram, sc_h, sc_w, talk_time, three_g, touch_screen, wifi, price_range]\n",
            "Index: []\n",
            "\n",
            "[0 rows x 21 columns]\n"
          ]
        }
      ]
    },
    {
      "cell_type": "code",
      "source": [
        "import matplotlib.pyplot as plt\n",
        "plt.hist(data['ram'], bins=20)\n",
        "plt.xlabel('Values')\n",
        "plt.ylabel('Frequency')\n",
        "plt.title('Histogram of Data')\n",
        "plt.show()"
      ],
      "metadata": {
        "colab": {
          "base_uri": "https://localhost:8080/",
          "height": 472
        },
        "id": "V6gL4uyWHtab",
        "outputId": "872ca7f8-45f1-4e6b-9a80-6b0dbbe16862"
      },
      "execution_count": 63,
      "outputs": [
        {
          "output_type": "display_data",
          "data": {
            "text/plain": [
              "<Figure size 640x480 with 1 Axes>"
            ],
            "image/png": "[encoded data removed]"
          },
          "metadata": {}
        }
      ]
    },
    {
      "cell_type": "markdown",
      "source": [
        "### Measures of Position\n",
        "\n",
        "statistical measures that indicate the position of a value within a dataset in relation to other values\n",
        "\n",
        "#### Types\n",
        "1. Percentiles: Divide the data into 100 equal parts, each representing a percentile.\n",
        "\n",
        "2. Percentile Rank: Indicates the percentage of values in a dataset that are equal to or below a specific value.\n",
        "\n",
        "#### Need\n",
        "1. Understanding Distribution: Helps in understanding how a particular value compares to others in the dataset's distribution.\n",
        "2. Identifying Ranks: Assists in ranking values, identifying top or bottom performers, or understanding a value's relative standing within a dataset.\n",
        "\n",
        "\n",
        "**NOTE: Same as quantiles**"
      ],
      "metadata": {
        "id": "Y1mY8iXvGylB"
      }
    },
    {
      "cell_type": "markdown",
      "source": [
        "## SUMMARY\n",
        "\n",
        "####Spread\n",
        "\n",
        "**Insights from Each Measure:**\n",
        "- Range: Overall span of the dataset, covering the maximum and minimum values\n",
        "- Variance and Standard Deviation: Reflects the spread of data around the mean\n",
        "- Quartiles and IQR: Measures spread around the median, providing insights into the central 50% of the data and outlier detection"
      ],
      "metadata": {
        "id": "3YdpTzqDzLGj"
      }
    }
  ]
}