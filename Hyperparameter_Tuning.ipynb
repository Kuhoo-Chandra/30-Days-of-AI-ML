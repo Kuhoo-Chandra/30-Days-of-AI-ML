{
  "nbformat": 4,
  "nbformat_minor": 0,
  "metadata": {
    "colab": {
      "provenance": []
    },
    "kernelspec": {
      "name": "python3",
      "display_name": "Python 3"
    },
    "language_info": {
      "name": "python"
    }
  },
  "cells": [
    {
      "cell_type": "code",
      "execution_count": null,
      "metadata": {
        "id": "4EVjfVjByZMe"
      },
      "outputs": [],
      "source": []
    },
    {
      "cell_type": "code",
      "source": [],
      "metadata": {
        "id": "nhLB_YwQzGw3"
      },
      "execution_count": null,
      "outputs": []
    },
    {
      "cell_type": "markdown",
      "source": [
        "## Hyperparameter Tuning\n",
        "\n",
        " process of optimizing the hyperparameters of a machine learning model in order to improve its performance\n",
        "\n",
        " **Hyperparameters:**\n",
        " - configuration settings that are not learned from the data but are set prior to the training process\n",
        " - essential aspects of the model architecture and training procedure that influence the learning process\n",
        " - determine key features such as model architecture, learning rate, and model complexity\n",
        "- there are no set rules on which hyperparameters work best nor their optimal or default values\n",
        "-  to find the optimum hyperparameter set. This activity is known as hyperparameter tuning or hyperparameter optimization.\n"
      ],
      "metadata": {
        "id": "pRmrKTyFzKwW"
      }
    }
  ]
}