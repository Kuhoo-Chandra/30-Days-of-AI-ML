{
  "nbformat": 4,
  "nbformat_minor": 0,
  "metadata": {
    "colab": {
      "provenance": []
    },
    "kernelspec": {
      "name": "python3",
      "display_name": "Python 3"
    },
    "language_info": {
      "name": "python"
    }
  },
  "cells": [
    {
      "cell_type": "markdown",
      "source": [
        "# Dimensionality Reduction\n",
        "\n",
        "the process of reducing size of dataset while ensuring minimal (or zero) information loss\n",
        "- It enhances accuracy and efficiency\n",
        "- Eliminates redundant features\n",
        "- Improves space consumption\n",
        "\n",
        "## Types\n",
        "1. Feature Selection\n",
        "    - Filter\n",
        "    - Embedded\n",
        "    - Wrapped\n",
        "    - Hybrid\n",
        "    - Ensemble\n",
        "2. Feature Extraction\n",
        "    - Principal Component Analysis (PCA)\n",
        "    - Linear Discriminant Analysis (LDA)\n",
        "    - t-Distributed Stochastic Neighbor Embedding (t-SNE)\n",
        "    - Autoencoders\n",
        "    - Independent Component Analysis (ICA)"
      ],
      "metadata": {
        "id": "Bnr6M_9NXaN1"
      }
    },
    {
      "cell_type": "markdown",
      "source": [
        "## Feature Selection\n",
        "find subset of features that effectively define the data and is appropriate for the given problem\n",
        "\n",
        "Feature selection algorithm phase is divided into two-phase such as\n",
        " 1. Subset Generation: generate subset from the input dataset\n",
        " 2. Subset Evaluation: check whether the generated subset is optimal or not\n",
        "\n",
        "\n",
        " ### Types\n",
        "1. Filter\n",
        "2. Wrapped\n",
        "3. Embedded\n",
        "4. Hybrid\n",
        "\n",
        "Disadvantage\n",
        " 1. might overlook hidden or latent relationships"
      ],
      "metadata": {
        "id": "mnw__piZY6EK"
      }
    },
    {
      "cell_type": "code",
      "source": [
        "import pandas as pd\n",
        "import numpy as np\n",
        "import matplotlib.pyplot as plt\n",
        "import seaborn as sns\n",
        "from sklearn.model_selection import train_test_split\n",
        "from sklearn.linear_model import LinearRegression\n",
        "from sklearn.feature_selection import RFE\n",
        "from sklearn.metrics import accuracy_score\n",
        "from sklearn.ensemble import RandomForestClassifier"
      ],
      "metadata": {
        "id": "Mrwd72J3jGLi"
      },
      "execution_count": 91,
      "outputs": []
    },
    {
      "cell_type": "code",
      "source": [
        "data = pd.read_csv('/content/Class_Ionosphere.csv')\n",
        "data.shape"
      ],
      "metadata": {
        "colab": {
          "base_uri": "https://localhost:8080/"
        },
        "id": "28ilrF9Tj7fd",
        "outputId": "7642eec8-f39d-4bba-fb62-492156fedf7b"
      },
      "execution_count": 92,
      "outputs": [
        {
          "output_type": "execute_result",
          "data": {
            "text/plain": [
              "(351, 35)"
            ]
          },
          "metadata": {},
          "execution_count": 92
        }
      ]
    },
    {
      "cell_type": "code",
      "source": [
        "data.head()"
      ],
      "metadata": {
        "colab": {
          "base_uri": "https://localhost:8080/",
          "height": 255
        },
        "id": "UGa7qL9LkDzD",
        "outputId": "548906af-b366-49c4-b448-fdb96ac57d79"
      },
      "execution_count": 93,
      "outputs": [
        {
          "output_type": "execute_result",
          "data": {
            "text/plain": [
              "   RRD1  RRD2     RRD3     RRD4     RRD5     RRD6     RRD7     RRD8     RRD9  \\\n",
              "0     1     0  0.99539 -0.05889  0.85243  0.02306  0.83398 -0.37708  1.00000   \n",
              "1     1     0  1.00000 -0.18829  0.93035 -0.36156 -0.10868 -0.93597  1.00000   \n",
              "2     1     0  1.00000 -0.03365  1.00000  0.00485  1.00000 -0.12062  0.88965   \n",
              "3     1     0  1.00000 -0.45161  1.00000  1.00000  0.71216 -1.00000  0.00000   \n",
              "4     1     0  1.00000 -0.02401  0.94140  0.06531  0.92106 -0.23255  0.77152   \n",
              "\n",
              "     RRD10  ...    RRD26    RRD27    RRD28    RRD29    RRD30    RRD31  \\\n",
              "0  0.03760  ... -0.51171  0.41078 -0.46168  0.21266 -0.34090  0.42267   \n",
              "1 -0.04549  ... -0.26569 -0.20468 -0.18401 -0.19040 -0.11593 -0.16626   \n",
              "2  0.01198  ... -0.40220  0.58984 -0.22145  0.43100 -0.17365  0.60436   \n",
              "3  0.00000  ...  0.90695  0.51613  1.00000  1.00000 -0.20099  0.25682   \n",
              "4 -0.16399  ... -0.65158  0.13290 -0.53206  0.02431 -0.62197 -0.05707   \n",
              "\n",
              "     RRD32    RRD33    RRD34  Class  \n",
              "0 -0.54487  0.18641 -0.45300      g  \n",
              "1 -0.06288 -0.13738 -0.02447      b  \n",
              "2 -0.24180  0.56045 -0.38238      g  \n",
              "3  1.00000 -0.32382  1.00000      b  \n",
              "4 -0.59573 -0.04608 -0.65697      g  \n",
              "\n",
              "[5 rows x 35 columns]"
            ],
            "text/html": [
              "\n",
              "  <div id=\"df-dc7d37a1-48d7-4d38-993a-0bd17658dec8\" class=\"colab-df-container\">\n",
              "    <div>\n",
              "<style scoped>\n",
              "    .dataframe tbody tr th:only-of-type {\n",
              "        vertical-align: middle;\n",
              "    }\n",
              "\n",
              "    .dataframe tbody tr th {\n",
              "        vertical-align: top;\n",
              "    }\n",
              "\n",
              "    .dataframe thead th {\n",
              "        text-align: right;\n",
              "    }\n",
              "</style>\n",
              "<table border=\"1\" class=\"dataframe\">\n",
              "  <thead>\n",
              "    <tr style=\"text-align: right;\">\n",
              "      <th></th>\n",
              "      <th>RRD1</th>\n",
              "      <th>RRD2</th>\n",
              "      <th>RRD3</th>\n",
              "      <th>RRD4</th>\n",
              "      <th>RRD5</th>\n",
              "      <th>RRD6</th>\n",
              "      <th>RRD7</th>\n",
              "      <th>RRD8</th>\n",
              "      <th>RRD9</th>\n",
              "      <th>RRD10</th>\n",
              "      <th>...</th>\n",
              "      <th>RRD26</th>\n",
              "      <th>RRD27</th>\n",
              "      <th>RRD28</th>\n",
              "      <th>RRD29</th>\n",
              "      <th>RRD30</th>\n",
              "      <th>RRD31</th>\n",
              "      <th>RRD32</th>\n",
              "      <th>RRD33</th>\n",
              "      <th>RRD34</th>\n",
              "      <th>Class</th>\n",
              "    </tr>\n",
              "  </thead>\n",
              "  <tbody>\n",
              "    <tr>\n",
              "      <th>0</th>\n",
              "      <td>1</td>\n",
              "      <td>0</td>\n",
              "      <td>0.99539</td>\n",
              "      <td>-0.05889</td>\n",
              "      <td>0.85243</td>\n",
              "      <td>0.02306</td>\n",
              "      <td>0.83398</td>\n",
              "      <td>-0.37708</td>\n",
              "      <td>1.00000</td>\n",
              "      <td>0.03760</td>\n",
              "      <td>...</td>\n",
              "      <td>-0.51171</td>\n",
              "      <td>0.41078</td>\n",
              "      <td>-0.46168</td>\n",
              "      <td>0.21266</td>\n",
              "      <td>-0.34090</td>\n",
              "      <td>0.42267</td>\n",
              "      <td>-0.54487</td>\n",
              "      <td>0.18641</td>\n",
              "      <td>-0.45300</td>\n",
              "      <td>g</td>\n",
              "    </tr>\n",
              "    <tr>\n",
              "      <th>1</th>\n",
              "      <td>1</td>\n",
              "      <td>0</td>\n",
              "      <td>1.00000</td>\n",
              "      <td>-0.18829</td>\n",
              "      <td>0.93035</td>\n",
              "      <td>-0.36156</td>\n",
              "      <td>-0.10868</td>\n",
              "      <td>-0.93597</td>\n",
              "      <td>1.00000</td>\n",
              "      <td>-0.04549</td>\n",
              "      <td>...</td>\n",
              "      <td>-0.26569</td>\n",
              "      <td>-0.20468</td>\n",
              "      <td>-0.18401</td>\n",
              "      <td>-0.19040</td>\n",
              "      <td>-0.11593</td>\n",
              "      <td>-0.16626</td>\n",
              "      <td>-0.06288</td>\n",
              "      <td>-0.13738</td>\n",
              "      <td>-0.02447</td>\n",
              "      <td>b</td>\n",
              "    </tr>\n",
              "    <tr>\n",
              "      <th>2</th>\n",
              "      <td>1</td>\n",
              "      <td>0</td>\n",
              "      <td>1.00000</td>\n",
              "      <td>-0.03365</td>\n",
              "      <td>1.00000</td>\n",
              "      <td>0.00485</td>\n",
              "      <td>1.00000</td>\n",
              "      <td>-0.12062</td>\n",
              "      <td>0.88965</td>\n",
              "      <td>0.01198</td>\n",
              "      <td>...</td>\n",
              "      <td>-0.40220</td>\n",
              "      <td>0.58984</td>\n",
              "      <td>-0.22145</td>\n",
              "      <td>0.43100</td>\n",
              "      <td>-0.17365</td>\n",
              "      <td>0.60436</td>\n",
              "      <td>-0.24180</td>\n",
              "      <td>0.56045</td>\n",
              "      <td>-0.38238</td>\n",
              "      <td>g</td>\n",
              "    </tr>\n",
              "    <tr>\n",
              "      <th>3</th>\n",
              "      <td>1</td>\n",
              "      <td>0</td>\n",
              "      <td>1.00000</td>\n",
              "      <td>-0.45161</td>\n",
              "      <td>1.00000</td>\n",
              "      <td>1.00000</td>\n",
              "      <td>0.71216</td>\n",
              "      <td>-1.00000</td>\n",
              "      <td>0.00000</td>\n",
              "      <td>0.00000</td>\n",
              "      <td>...</td>\n",
              "      <td>0.90695</td>\n",
              "      <td>0.51613</td>\n",
              "      <td>1.00000</td>\n",
              "      <td>1.00000</td>\n",
              "      <td>-0.20099</td>\n",
              "      <td>0.25682</td>\n",
              "      <td>1.00000</td>\n",
              "      <td>-0.32382</td>\n",
              "      <td>1.00000</td>\n",
              "      <td>b</td>\n",
              "    </tr>\n",
              "    <tr>\n",
              "      <th>4</th>\n",
              "      <td>1</td>\n",
              "      <td>0</td>\n",
              "      <td>1.00000</td>\n",
              "      <td>-0.02401</td>\n",
              "      <td>0.94140</td>\n",
              "      <td>0.06531</td>\n",
              "      <td>0.92106</td>\n",
              "      <td>-0.23255</td>\n",
              "      <td>0.77152</td>\n",
              "      <td>-0.16399</td>\n",
              "      <td>...</td>\n",
              "      <td>-0.65158</td>\n",
              "      <td>0.13290</td>\n",
              "      <td>-0.53206</td>\n",
              "      <td>0.02431</td>\n",
              "      <td>-0.62197</td>\n",
              "      <td>-0.05707</td>\n",
              "      <td>-0.59573</td>\n",
              "      <td>-0.04608</td>\n",
              "      <td>-0.65697</td>\n",
              "      <td>g</td>\n",
              "    </tr>\n",
              "  </tbody>\n",
              "</table>\n",
              "<p>5 rows × 35 columns</p>\n",
              "</div>\n",
              "    <div class=\"colab-df-buttons\">\n",
              "\n",
              "  <div class=\"colab-df-container\">\n",
              "    <button class=\"colab-df-convert\" onclick=\"convertToInteractive('df-dc7d37a1-48d7-4d38-993a-0bd17658dec8')\"\n",
              "            title=\"Convert this dataframe to an interactive table.\"\n",
              "            style=\"display:none;\">\n",
              "\n",
              "  <svg xmlns=\"http://www.w3.org/2000/svg\" height=\"24px\" viewBox=\"0 -960 960 960\">\n",
              "    <path d=\"M120-120v-720h720v720H120Zm60-500h600v-160H180v160Zm220 220h160v-160H400v160Zm0 220h160v-160H400v160ZM180-400h160v-160H180v160Zm440 0h160v-160H620v160ZM180-180h160v-160H180v160Zm440 0h160v-160H620v160Z\"/>\n",
              "  </svg>\n",
              "    </button>\n",
              "\n",
              "  <style>\n",
              "    .colab-df-container {\n",
              "      display:flex;\n",
              "      gap: 12px;\n",
              "    }\n",
              "\n",
              "    .colab-df-convert {\n",
              "      background-color: #E8F0FE;\n",
              "      border: none;\n",
              "      border-radius: 50%;\n",
              "      cursor: pointer;\n",
              "      display: none;\n",
              "      fill: #1967D2;\n",
              "      height: 32px;\n",
              "      padding: 0 0 0 0;\n",
              "      width: 32px;\n",
              "    }\n",
              "\n",
              "    .colab-df-convert:hover {\n",
              "      background-color: #E2EBFA;\n",
              "      box-shadow: 0px 1px 2px rgba(60, 64, 67, 0.3), 0px 1px 3px 1px rgba(60, 64, 67, 0.15);\n",
              "      fill: #174EA6;\n",
              "    }\n",
              "\n",
              "    .colab-df-buttons div {\n",
              "      margin-bottom: 4px;\n",
              "    }\n",
              "\n",
              "    [theme=dark] .colab-df-convert {\n",
              "      background-color: #3B4455;\n",
              "      fill: #D2E3FC;\n",
              "    }\n",
              "\n",
              "    [theme=dark] .colab-df-convert:hover {\n",
              "      background-color: #434B5C;\n",
              "      box-shadow: 0px 1px 3px 1px rgba(0, 0, 0, 0.15);\n",
              "      filter: drop-shadow(0px 1px 2px rgba(0, 0, 0, 0.3));\n",
              "      fill: #FFFFFF;\n",
              "    }\n",
              "  </style>\n",
              "\n",
              "    <script>\n",
              "      const buttonEl =\n",
              "        document.querySelector('#df-dc7d37a1-48d7-4d38-993a-0bd17658dec8 button.colab-df-convert');\n",
              "      buttonEl.style.display =\n",
              "        google.colab.kernel.accessAllowed ? 'block' : 'none';\n",
              "\n",
              "      async function convertToInteractive(key) {\n",
              "        const element = document.querySelector('#df-dc7d37a1-48d7-4d38-993a-0bd17658dec8');\n",
              "        const dataTable =\n",
              "          await google.colab.kernel.invokeFunction('convertToInteractive',\n",
              "                                                    [key], {});\n",
              "        if (!dataTable) return;\n",
              "\n",
              "        const docLinkHtml = 'Like what you see? Visit the ' +\n",
              "          '<a target=\"_blank\" href=https://colab.research.google.com/notebooks/data_table.ipynb>data table notebook</a>'\n",
              "          + ' to learn more about interactive tables.';\n",
              "        element.innerHTML = '';\n",
              "        dataTable['output_type'] = 'display_data';\n",
              "        await google.colab.output.renderOutput(dataTable, element);\n",
              "        const docLink = document.createElement('div');\n",
              "        docLink.innerHTML = docLinkHtml;\n",
              "        element.appendChild(docLink);\n",
              "      }\n",
              "    </script>\n",
              "  </div>\n",
              "\n",
              "\n",
              "<div id=\"df-8a73b8e5-23e9-419d-b51d-2b4412189f02\">\n",
              "  <button class=\"colab-df-quickchart\" onclick=\"quickchart('df-8a73b8e5-23e9-419d-b51d-2b4412189f02')\"\n",
              "            title=\"Suggest charts\"\n",
              "            style=\"display:none;\">\n",
              "\n",
              "<svg xmlns=\"http://www.w3.org/2000/svg\" height=\"24px\"viewBox=\"0 0 24 24\"\n",
              "     width=\"24px\">\n",
              "    <g>\n",
              "        <path d=\"M19 3H5c-1.1 0-2 .9-2 2v14c0 1.1.9 2 2 2h14c1.1 0 2-.9 2-2V5c0-1.1-.9-2-2-2zM9 17H7v-7h2v7zm4 0h-2V7h2v10zm4 0h-2v-4h2v4z\"/>\n",
              "    </g>\n",
              "</svg>\n",
              "  </button>\n",
              "\n",
              "<style>\n",
              "  .colab-df-quickchart {\n",
              "      --bg-color: #E8F0FE;\n",
              "      --fill-color: #1967D2;\n",
              "      --hover-bg-color: #E2EBFA;\n",
              "      --hover-fill-color: #174EA6;\n",
              "      --disabled-fill-color: #AAA;\n",
              "      --disabled-bg-color: #DDD;\n",
              "  }\n",
              "\n",
              "  [theme=dark] .colab-df-quickchart {\n",
              "      --bg-color: #3B4455;\n",
              "      --fill-color: #D2E3FC;\n",
              "      --hover-bg-color: #434B5C;\n",
              "      --hover-fill-color: #FFFFFF;\n",
              "      --disabled-bg-color: #3B4455;\n",
              "      --disabled-fill-color: #666;\n",
              "  }\n",
              "\n",
              "  .colab-df-quickchart {\n",
              "    background-color: var(--bg-color);\n",
              "    border: none;\n",
              "    border-radius: 50%;\n",
              "    cursor: pointer;\n",
              "    display: none;\n",
              "    fill: var(--fill-color);\n",
              "    height: 32px;\n",
              "    padding: 0;\n",
              "    width: 32px;\n",
              "  }\n",
              "\n",
              "  .colab-df-quickchart:hover {\n",
              "    background-color: var(--hover-bg-color);\n",
              "    box-shadow: 0 1px 2px rgba(60, 64, 67, 0.3), 0 1px 3px 1px rgba(60, 64, 67, 0.15);\n",
              "    fill: var(--button-hover-fill-color);\n",
              "  }\n",
              "\n",
              "  .colab-df-quickchart-complete:disabled,\n",
              "  .colab-df-quickchart-complete:disabled:hover {\n",
              "    background-color: var(--disabled-bg-color);\n",
              "    fill: var(--disabled-fill-color);\n",
              "    box-shadow: none;\n",
              "  }\n",
              "\n",
              "  .colab-df-spinner {\n",
              "    border: 2px solid var(--fill-color);\n",
              "    border-color: transparent;\n",
              "    border-bottom-color: var(--fill-color);\n",
              "    animation:\n",
              "      spin 1s steps(1) infinite;\n",
              "  }\n",
              "\n",
              "  @keyframes spin {\n",
              "    0% {\n",
              "      border-color: transparent;\n",
              "      border-bottom-color: var(--fill-color);\n",
              "      border-left-color: var(--fill-color);\n",
              "    }\n",
              "    20% {\n",
              "      border-color: transparent;\n",
              "      border-left-color: var(--fill-color);\n",
              "      border-top-color: var(--fill-color);\n",
              "    }\n",
              "    30% {\n",
              "      border-color: transparent;\n",
              "      border-left-color: var(--fill-color);\n",
              "      border-top-color: var(--fill-color);\n",
              "      border-right-color: var(--fill-color);\n",
              "    }\n",
              "    40% {\n",
              "      border-color: transparent;\n",
              "      border-right-color: var(--fill-color);\n",
              "      border-top-color: var(--fill-color);\n",
              "    }\n",
              "    60% {\n",
              "      border-color: transparent;\n",
              "      border-right-color: var(--fill-color);\n",
              "    }\n",
              "    80% {\n",
              "      border-color: transparent;\n",
              "      border-right-color: var(--fill-color);\n",
              "      border-bottom-color: var(--fill-color);\n",
              "    }\n",
              "    90% {\n",
              "      border-color: transparent;\n",
              "      border-bottom-color: var(--fill-color);\n",
              "    }\n",
              "  }\n",
              "</style>\n",
              "\n",
              "  <script>\n",
              "    async function quickchart(key) {\n",
              "      const quickchartButtonEl =\n",
              "        document.querySelector('#' + key + ' button');\n",
              "      quickchartButtonEl.disabled = true;  // To prevent multiple clicks.\n",
              "      quickchartButtonEl.classList.add('colab-df-spinner');\n",
              "      try {\n",
              "        const charts = await google.colab.kernel.invokeFunction(\n",
              "            'suggestCharts', [key], {});\n",
              "      } catch (error) {\n",
              "        console.error('Error during call to suggestCharts:', error);\n",
              "      }\n",
              "      quickchartButtonEl.classList.remove('colab-df-spinner');\n",
              "      quickchartButtonEl.classList.add('colab-df-quickchart-complete');\n",
              "    }\n",
              "    (() => {\n",
              "      let quickchartButtonEl =\n",
              "        document.querySelector('#df-8a73b8e5-23e9-419d-b51d-2b4412189f02 button');\n",
              "      quickchartButtonEl.style.display =\n",
              "        google.colab.kernel.accessAllowed ? 'block' : 'none';\n",
              "    })();\n",
              "  </script>\n",
              "</div>\n",
              "    </div>\n",
              "  </div>\n"
            ]
          },
          "metadata": {},
          "execution_count": 93
        }
      ]
    },
    {
      "cell_type": "code",
      "source": [
        "data.dtypes"
      ],
      "metadata": {
        "colab": {
          "base_uri": "https://localhost:8080/"
        },
        "id": "q8NPKjf0kIs0",
        "outputId": "724d5f2e-0d23-4bf0-95c7-ff0c24d1d0e9"
      },
      "execution_count": 94,
      "outputs": [
        {
          "output_type": "execute_result",
          "data": {
            "text/plain": [
              "RRD1       int64\n",
              "RRD2       int64\n",
              "RRD3     float64\n",
              "RRD4     float64\n",
              "RRD5     float64\n",
              "RRD6     float64\n",
              "RRD7     float64\n",
              "RRD8     float64\n",
              "RRD9     float64\n",
              "RRD10    float64\n",
              "RRD11    float64\n",
              "RRD12    float64\n",
              "RRD13    float64\n",
              "RRD14    float64\n",
              "RRD15    float64\n",
              "RRD16    float64\n",
              "RRD17    float64\n",
              "RRD18    float64\n",
              "RRD19    float64\n",
              "RRD20    float64\n",
              "RRD21    float64\n",
              "RRD22    float64\n",
              "RRD23    float64\n",
              "RRD24    float64\n",
              "RRD25    float64\n",
              "RRD26    float64\n",
              "RRD27    float64\n",
              "RRD28    float64\n",
              "RRD29    float64\n",
              "RRD30    float64\n",
              "RRD31    float64\n",
              "RRD32    float64\n",
              "RRD33    float64\n",
              "RRD34    float64\n",
              "Class     object\n",
              "dtype: object"
            ]
          },
          "metadata": {},
          "execution_count": 94
        }
      ]
    },
    {
      "cell_type": "code",
      "source": [
        "data.isnull().sum()"
      ],
      "metadata": {
        "colab": {
          "base_uri": "https://localhost:8080/"
        },
        "id": "0gpJYCm3lZWZ",
        "outputId": "82752623-9d0f-45a6-e983-ebfe162469dd"
      },
      "execution_count": 95,
      "outputs": [
        {
          "output_type": "execute_result",
          "data": {
            "text/plain": [
              "RRD1     0\n",
              "RRD2     0\n",
              "RRD3     0\n",
              "RRD4     0\n",
              "RRD5     0\n",
              "RRD6     0\n",
              "RRD7     0\n",
              "RRD8     0\n",
              "RRD9     0\n",
              "RRD10    0\n",
              "RRD11    0\n",
              "RRD12    0\n",
              "RRD13    0\n",
              "RRD14    0\n",
              "RRD15    0\n",
              "RRD16    0\n",
              "RRD17    0\n",
              "RRD18    0\n",
              "RRD19    0\n",
              "RRD20    0\n",
              "RRD21    0\n",
              "RRD22    0\n",
              "RRD23    0\n",
              "RRD24    0\n",
              "RRD25    0\n",
              "RRD26    0\n",
              "RRD27    0\n",
              "RRD28    0\n",
              "RRD29    0\n",
              "RRD30    0\n",
              "RRD31    0\n",
              "RRD32    0\n",
              "RRD33    0\n",
              "RRD34    0\n",
              "Class    0\n",
              "dtype: int64"
            ]
          },
          "metadata": {},
          "execution_count": 95
        }
      ]
    },
    {
      "cell_type": "code",
      "source": [
        "y = data['Class']\n",
        "X = data.drop('Class', axis=1)"
      ],
      "metadata": {
        "id": "CU9TlH5UlhZJ"
      },
      "execution_count": 96,
      "outputs": []
    },
    {
      "cell_type": "code",
      "source": [
        "X_train_, X_test_, y_train_, y_test_ = train_test_split(X, y, test_size=0.2, random_state=42)"
      ],
      "metadata": {
        "id": "SEZzNH0OoE0s"
      },
      "execution_count": 97,
      "outputs": []
    },
    {
      "cell_type": "markdown",
      "source": [
        "## Filter Feature selection\n",
        "\n",
        "1. oldest\n",
        "2. open-loop method: feature selection independently selects features based on their inherent properties without considering their impact on predictive model performance\n",
        "3. measures the feature characteristics depending on four measurement criteria:\n",
        "    - information\n",
        "    - dependency\n",
        "    - consistency\n",
        "    - distance\n",
        "4. Advantages\n",
        "    - easily scalable\n",
        "    - high efficiency\n",
        "5. Disadvantages\n",
        "    -  might select features that appear relevant on their own but fail to synergize effectively when used together within a predictive model"
      ],
      "metadata": {
        "id": "21RBw9JPaA5c"
      }
    },
    {
      "cell_type": "code",
      "source": [
        "## ANOVA (Analysis of Variance):\n",
        "#applied when dealing with categorical target variables and numerical features\n",
        "#useful when you have a categorical target (class labels) and you want to determine the statistical significance of each feature concerning the different classes"
      ],
      "metadata": {
        "id": "u5-m9WLpkUVu"
      },
      "execution_count": 98,
      "outputs": []
    },
    {
      "cell_type": "code",
      "source": [
        "from sklearn.feature_selection import f_classif, SelectKBest\n",
        "\n",
        "selector = SelectKBest(score_func=f_classif, k=10)\n",
        "X_new = selector.fit_transform(X, y)"
      ],
      "metadata": {
        "colab": {
          "base_uri": "https://localhost:8080/"
        },
        "id": "A0ijabauk3_Z",
        "outputId": "97eae504-c798-4148-ad3e-361ff646b13b"
      },
      "execution_count": 99,
      "outputs": [
        {
          "output_type": "stream",
          "name": "stderr",
          "text": [
            "/usr/local/lib/python3.10/dist-packages/sklearn/feature_selection/_univariate_selection.py:112: UserWarning: Features [1] are constant.\n",
            "  warnings.warn(\"Features %s are constant.\" % constant_features_idx, UserWarning)\n",
            "/usr/local/lib/python3.10/dist-packages/sklearn/feature_selection/_univariate_selection.py:113: RuntimeWarning: invalid value encountered in divide\n",
            "  f = msb / msw\n"
          ]
        }
      ]
    },
    {
      "cell_type": "code",
      "source": [
        "X_new.shape"
      ],
      "metadata": {
        "colab": {
          "base_uri": "https://localhost:8080/"
        },
        "id": "uT0F8kUqptYv",
        "outputId": "8469a910-55dd-4fc1-f32d-1d9b533117fb"
      },
      "execution_count": 100,
      "outputs": [
        {
          "output_type": "execute_result",
          "data": {
            "text/plain": [
              "(351, 10)"
            ]
          },
          "metadata": {},
          "execution_count": 100
        }
      ]
    },
    {
      "cell_type": "code",
      "source": [
        "selected_indices = selector.get_support(indices=True)\n",
        "print(selected_indices)"
      ],
      "metadata": {
        "colab": {
          "base_uri": "https://localhost:8080/"
        },
        "id": "ZMR-k6kOmmrE",
        "outputId": "b2697a48-3a2d-4939-8ba1-24c91c639fca"
      },
      "execution_count": 101,
      "outputs": [
        {
          "output_type": "stream",
          "name": "stdout",
          "text": [
            "[ 0  2  4  6  7  8 20 28 30 32]\n"
          ]
        }
      ]
    },
    {
      "cell_type": "code",
      "source": [
        "f_scores = selector.scores_\n",
        "fig, ax = plt.subplots(figsize=(10, 6))\n",
        "\n",
        "ax.bar(range(len(f_scores)), f_scores)\n",
        "\n",
        "ax.set_title(\"ANOVA F-scores for each feature\")\n",
        "ax.set_xlabel(\"Features\")\n",
        "ax.set_ylabel(\"F-scores \")\n",
        "plt.xticks(rotation=45)\n",
        "plt.tight_layout()\n",
        "plt.show()"
      ],
      "metadata": {
        "colab": {
          "base_uri": "https://localhost:8080/",
          "height": 607
        },
        "id": "p2zmoRlzm5tC",
        "outputId": "db7946d4-4a50-455d-d89f-3f6f6b0b7d72"
      },
      "execution_count": 102,
      "outputs": [
        {
          "output_type": "display_data",
          "data": {
            "text/plain": [
              "<Figure size 1000x600 with 1 Axes>"
            ],
            "image/png": "[encoded data removed]"
          },
          "metadata": {}
        }
      ]
    },
    {
      "cell_type": "code",
      "source": [
        "X_train, X_test, y_train, y_test = train_test_split(X_new, y, test_size=0.2, random_state=42)\n",
        "\n",
        "model = RandomForestClassifier(random_state=42)\n",
        "model.fit(X_train, y_train)\n",
        "\n",
        "y_pred = model.predict(X_test)\n",
        "acc_filter = accuracy_score(y_test, y_pred)\n",
        "print(f'accuracy (ANOVA): {acc_filter}')"
      ],
      "metadata": {
        "colab": {
          "base_uri": "https://localhost:8080/"
        },
        "id": "egm-YMioqKLF",
        "outputId": "f6d25608-2226-45cb-80e5-38daa957b2a5"
      },
      "execution_count": 103,
      "outputs": [
        {
          "output_type": "stream",
          "name": "stdout",
          "text": [
            "accuracy (ANOVA): 0.9154929577464789\n"
          ]
        }
      ]
    },
    {
      "cell_type": "markdown",
      "source": [
        "## Wrapped Feature selection\n",
        "\n",
        "1. closed-loop method: uses the accuracy of the performance of learning algorithm or error rate of classification process as a criterion of feature evaluation\n",
        "2. feature selection based on the performance of the learning algorithm\n",
        "3. multivariate method\n",
        "4. Advantages\n",
        "    - high accuracy compared to the filter algorithm: selects most optimal feature for the prediction algorithm\n",
        "5. Disadvantages\n",
        "    - might overfit to the training data\n",
        "    - more exposure to overfitting in comparison to filter approach\n",
        "    - performance heavily relies on choice of underlying learning algorithm (certain algos might not work optimally with specific feature subsets)\n",
        "        - Support Vector Machines (SVM)\n",
        "        - k-Nearest Neighbors (k-NN)\n",
        "        - Decision Trees\n",
        "        - Random Forests etc.\n",
        "\n",
        "resource:\n",
        "https://www.cs.waikato.ac.nz/~mhall/thesis.pdf\n"
      ],
      "metadata": {
        "id": "DesOoVpyb6t6"
      }
    },
    {
      "cell_type": "code",
      "source": [
        "X.shape"
      ],
      "metadata": {
        "colab": {
          "base_uri": "https://localhost:8080/"
        },
        "id": "U2r5m9JTpTZb",
        "outputId": "b571a54c-d4de-4981-9bee-9f58af803304"
      },
      "execution_count": 104,
      "outputs": [
        {
          "output_type": "execute_result",
          "data": {
            "text/plain": [
              "(351, 34)"
            ]
          },
          "metadata": {},
          "execution_count": 104
        }
      ]
    },
    {
      "cell_type": "code",
      "source": [
        "from sklearn.feature_selection import RFE\n",
        "\n",
        "model = RandomForestClassifier(random_state=42)\n",
        "num_features_to_select = 10\n",
        "rfe = RFE(model, n_features_to_select=num_features_to_select)\n",
        "\n",
        "rfe.fit(X_train_, y_train_)\n",
        "selected_features = rfe.support_\n",
        "\n",
        "selected_indices = [i for i, val in enumerate(selected_features) if val]\n",
        "print(\"Selected feature indices:\", selected_indices)"
      ],
      "metadata": {
        "colab": {
          "base_uri": "https://localhost:8080/"
        },
        "id": "DeZjDte_cA5l",
        "outputId": "775e1162-439f-471c-a349-d3d7956aa568"
      },
      "execution_count": 105,
      "outputs": [
        {
          "output_type": "stream",
          "name": "stdout",
          "text": [
            "Selected feature indices: [2, 3, 4, 5, 6, 7, 13, 23, 26, 27]\n"
          ]
        }
      ]
    },
    {
      "cell_type": "code",
      "source": [
        "X_train_selected = X_train_.iloc[:, selected_indices]\n",
        "model.fit(X_train_selected, y_train_)\n",
        "\n",
        "X_test_selected = X_test_.iloc[:, selected_indices]\n",
        "y_pred_w = model.predict(X_test_selected)"
      ],
      "metadata": {
        "id": "5NPkbNv8rZSq"
      },
      "execution_count": 106,
      "outputs": []
    },
    {
      "cell_type": "code",
      "source": [
        "acc_wrapper = accuracy_score(y_test_, y_pred_w)\n",
        "print(f'accuracy with wrapper filter selection: {acc_wrapper}')"
      ],
      "metadata": {
        "colab": {
          "base_uri": "https://localhost:8080/"
        },
        "id": "JgYbdgbCqvTo",
        "outputId": "6e14567d-1630-4859-ca20-63bf1b034847"
      },
      "execution_count": 107,
      "outputs": [
        {
          "output_type": "stream",
          "name": "stdout",
          "text": [
            "accuracy with wrapper filter selection: 0.9436619718309859\n"
          ]
        }
      ]
    },
    {
      "cell_type": "markdown",
      "source": [
        "## Embedded Feature selection\n",
        "\n",
        "1. embeds feature selection in the learning algorithm\n",
        "2.  uses learning algos properties to guide feature evaluation\n",
        "3. combines the qualities of both filter and wrapper methods\n",
        "4. Advantages\n",
        "    -  more effective and more tractable than the wrapper method computationally\n",
        "    - avoids the repeated execution of the classifier\n",
        "5. Disadvantages\n",
        "    -  might select features that appear relevant on their own but fail to synergize effectively when used together within a predictive model"
      ],
      "metadata": {
        "id": "IBzVgUO0cBO-"
      }
    },
    {
      "cell_type": "code",
      "source": [
        "\n",
        "import pandas as pd\n",
        "import numpy as np\n",
        "\n",
        "clf = RandomForestClassifier(random_state=42)\n",
        "clf.fit(X_train_, y_train_)\n",
        "\n",
        "feature_importances = clf.feature_importances_\n",
        "\n",
        "features_df = pd.DataFrame({'Feature': X_train_.columns, 'Importance': feature_importances})\n",
        "features_df = features_df.sort_values(by='Importance', ascending=False)\n",
        "\n",
        "k = 10\n",
        "selected_features = features_df.head(k)['Feature'].tolist()\n",
        "\n",
        "X_train_selected = X_train_[selected_features]\n",
        "X_test_selected = X_test_[selected_features]"
      ],
      "metadata": {
        "id": "ntuN_l3XtErt"
      },
      "execution_count": 108,
      "outputs": []
    },
    {
      "cell_type": "code",
      "source": [
        "model.fit(X_train_selected, y_train_)\n",
        "y_pred_e = model.predict(X_test_selected)"
      ],
      "metadata": {
        "id": "1msVFabQtLsn"
      },
      "execution_count": 109,
      "outputs": []
    },
    {
      "cell_type": "code",
      "source": [
        "acc_embedded = accuracy_score(y_test_, y_pred_e)\n",
        "print(f'accuracy with embedded filter selection: {acc_embedded}')"
      ],
      "metadata": {
        "colab": {
          "base_uri": "https://localhost:8080/"
        },
        "id": "OFrXRQc6tPuj",
        "outputId": "c4117d1f-bcd5-4c53-b6a7-08469565474b"
      },
      "execution_count": 110,
      "outputs": [
        {
          "output_type": "stream",
          "name": "stdout",
          "text": [
            "accuracy with embedded filter selection: 0.9436619718309859\n"
          ]
        }
      ]
    },
    {
      "cell_type": "markdown",
      "source": [
        "## Hybrid\n",
        "1. developed by\n",
        "    - integrating various methods (e.g. wrapper and filter)\n",
        "    - two methods with the same criteria\n",
        "    - two feature selection approaches\n",
        "\n",
        "2. advantages of both methods can be inherited by combining their complementary strengths"
      ],
      "metadata": {
        "id": "6D7nJAD5cFNo"
      }
    }
  ]
}