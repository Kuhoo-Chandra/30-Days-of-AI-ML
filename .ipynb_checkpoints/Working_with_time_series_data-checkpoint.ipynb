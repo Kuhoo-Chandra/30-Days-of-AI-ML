{
 "cells": [
  {
   "cell_type": "markdown",
   "metadata": {
    "id": "aGqKmMaYusJ8"
   },
   "source": [
    "### 1. **Time Series Data:**\n",
    "   - **Definition:** Time series data is a sequence of observations or measurements taken at successive points in time. It is used to understand the behavior of a system over time.\n",
    "   - **Key Characteristics:**\n",
    "      - Temporal ordering.\n",
    "      - Seasonal patterns and trends.\n",
    "      - Potential autocorrelation (correlation of a variable with itself over time).\n",
    "   - **Examples:**\n",
    "      - Stock prices.\n",
    "      - Weather data.\n",
    "      - Sensor readings (e.g., IoT devices).\n",
    "      - Economic indicators.\n",
    "      - Health monitoring.\n",
    "\n",
    "### 2. **Common Real-World Sources:**\n",
    "   - **Financial Data:**\n",
    "      - Stock prices.\n",
    "      - Economic indicators.\n",
    "   - **Environmental Data:**\n",
    "      - Weather data.\n",
    "      - Climate data.\n",
    "   - **Industrial Data:**\n",
    "      - Sensor readings in manufacturing.\n",
    "      - Equipment maintenance logs.\n",
    "   - **Social Media:**\n",
    "      - Twitter feeds.\n",
    "      - User engagement metrics.\n",
    "\n",
    "### 3. **Applications of ML with Time Series Data:**\n",
    "   - **Predictive Modeling:**\n",
    "      - Forecasting future values.\n",
    "      - Predicting stock prices.\n",
    "   - **Anomaly Detection:**\n",
    "      - Identifying unusual patterns or outliers.\n",
    "   - **Pattern Recognition:**\n",
    "      - Recognizing recurring patterns or trends.\n",
    "   - **Classification:**\n",
    "      - Categorizing time series data into different classes.\n",
    "\n"
   ]
  },
  {
   "cell_type": "code",
   "execution_count": null,
   "metadata": {},
   "outputs": [],
   "source": [
    "data src: https://www.kaggle.com/datasets/podsyp/time-series-starter-dataset"
   ]
  },
  {
   "cell_type": "code",
   "execution_count": null,
   "metadata": {},
   "outputs": [],
   "source": [
    "import pandas as pd\n",
    "import numpy as np\n",
    "import matplotlib.pyplot as plt"
   ]
  },
  {
   "cell_type": "code",
   "execution_count": null,
   "metadata": {},
   "outputs": [],
   "source": [
    "data = pd.read_csv('/content/Month_Value_1.csv')"
   ]
  },
  {
   "cell_type": "code",
   "execution_count": null,
   "metadata": {},
   "outputs": [],
   "source": [
    "data.shape"
   ]
  },
  {
   "cell_type": "code",
   "execution_count": null,
   "metadata": {},
   "outputs": [],
   "source": [
    "data.info()"
   ]
  },
  {
   "cell_type": "code",
   "execution_count": null,
   "metadata": {},
   "outputs": [],
   "source": [
    "data.describe()"
   ]
  },
  {
   "cell_type": "code",
   "execution_count": null,
   "metadata": {},
   "outputs": [],
   "source": [
    "data.isnull().sum()"
   ]
  },
  {
   "cell_type": "code",
   "execution_count": null,
   "metadata": {},
   "outputs": [],
   "source": [
    "import pandas as pd\n",
    "from sklearn.impute import KNNImputer\n",
    "columns_to_impute = data.columns[1:]\n",
    "knn_imputer = KNNImputer(n_neighbors=3)\n",
    "data[columns_to_impute] = knn_imputer.fit_transform(data[columns_to_impute])"
   ]
  },
  {
   "cell_type": "code",
   "execution_count": null,
   "metadata": {},
   "outputs": [],
   "source": [
    "data.isnull().sum()"
   ]
  },
  {
   "cell_type": "markdown",
   "metadata": {
    "id": "hdTXPiFcwjsj"
   },
   "source": [
    "### **Popular Visualizations:**\n",
    "1. **Time Plots:** Simple line plots of the time series.\n",
    "\n",
    "2. **Seasonal Decomposition of Time Series (STL):**Decomposes time series into seasonal, trend, and residual components.\n",
    "\n",
    "3. **Autocorrelation Function (ACF) and Partial Autocorrelation Function (PACF) plots:**Used to identify autocorrelation in the data.\n",
    "\n",
    "4. **Heatmaps:**Visualizing patterns in large datasets."
   ]
  },
  {
   "cell_type": "code",
   "execution_count": null,
   "metadata": {},
   "outputs": [],
   "source": [
    "for col in data.columns[1:]:\n",
    "    plt.figure(figsize=(10, 8))\n",
    "    plt.plot(data['Period'], data[col])\n",
    "    plt.title('Time Series Plot')\n",
    "    plt.xlabel('Period')\n",
    "    plt.xticks(data['Period'][::12])\n",
    "    plt.ylabel(col)\n",
    "    plt.show()"
   ]
  },
  {
   "cell_type": "markdown",
   "metadata": {
    "id": "OYU9CzxzwIrt"
   },
   "source": [
    "### **Anomalies**\n",
    "#### 1. **Point Anomalies:**\n",
    "   - **Definition:** Point anomalies refer to isolated instances that deviate significantly from the normal pattern in the time series.\n",
    "   - **Example:** In a temperature time series, a sudden and extreme temperature spike during a winter month that is unusual for the location could be a point anomaly.\n",
    "\n",
    "#### 2. **Contextual Anomalies:**\n",
    "   - **Definition:** Contextual anomalies are anomalies that depend on the context or specific conditions in the time series data.\n",
    "   - **Example:** Consider a system monitoring network traffic. A sudden increase in data transfer during working hours may not be an anomaly, but the same increase during non-working hours could be considered a contextual anomaly.\n",
    "\n",
    "#### 3. **Collective Anomalies:**\n",
    "   - **Definition:** Collective anomalies involve a set of data instances that collectively deviate from the normal behavior in the time series.\n",
    "   - **Example:** In a manufacturing process, a group of sensors showing abnormal readings simultaneously might indicate a collective anomaly. This could signify a systemic issue affecting multiple components.\n",
    "\n",
    "#### Detection Methods:\n",
    "- **Point Anomaly Detection:**\n",
    "  - Statistical methods (e.g., z-scores, standard deviations) to identify outliers.\n",
    "- **Contextual Anomaly Detection:**\n",
    "  - Requires understanding the context and defining normal behavior during specific conditions.\n",
    "- **Collective Anomaly Detection:**\n",
    "  - Techniques like clustering or pattern recognition to identify groups of anomalies occurring together.\n"
   ]
  },
  {
   "cell_type": "markdown",
   "metadata": {
    "id": "nusf-DsNxWaK"
   },
   "source": [
    "\n",
    "1. **ARIMA (AutoRegressive Integrated Moving Average):**\n",
    "   - **Type:** Forecasting\n",
    "   - **Description:** ARIMA models capture different components of a time series, including trend and seasonality. It is effective for univariate time series forecasting.\n",
    "\n",
    "2. **SARIMA (Seasonal ARIMA):**\n",
    "   - **Type:** Forecasting\n",
    "   - **Description:** SARIMA extends ARIMA to handle seasonality explicitly, making it suitable for time series with recurring patterns.\n",
    "\n",
    "3. **Exponential Smoothing State Space Models (ETS):**\n",
    "   - **Type:** Forecasting\n",
    "   - **Description:** ETS models provide a framework for modeling time series data by considering error, trend, and seasonality components. It's useful for short to medium-term forecasting.\n",
    "\n",
    "4. **Prophet:**\n",
    "   - **Type:** Forecasting\n",
    "   - **Description:** Developed by Facebook, Prophet is designed for forecasting time series data with daily observations. It handles missing data and outliers well and is user-friendly.\n",
    "\n",
    "5. **LSTM (Long Short-Term Memory) Networks:**\n",
    "   - **Type:** Deep Learning\n",
    "   - **Description:** A type of recurrent neural network (RNN), LSTM networks are effective for capturing long-term dependencies in sequential data. They are suitable for complex time series patterns.\n",
    "\n",
    "6. **GRU (Gated Recurrent Unit) Networks:**\n",
    "   - **Type:** Deep Learning\n",
    "   - **Description:** Similar to LSTMs, GRUs are another type of RNN that can be used for time series prediction. They are computationally more efficient than LSTMs.\n",
    "\n",
    "7. **XGBoost for Time Series:**\n",
    "   - **Type:** Ensemble Learning\n",
    "   - **Description:** XGBoost is a gradient boosting algorithm that can be adapted for time series regression tasks. It is robust, handles missing data well, and can capture complex relationships.\n",
    "\n",
    "8. **Random Forest for Time Series:**\n",
    "   - **Type:** Ensemble Learning\n",
    "   - **Description:** Random Forest is an ensemble method that can be used for time series regression. It builds multiple decision trees and combines their predictions.\n",
    "\n",
    "9. **Holt-Winters Exponential Smoothing:**\n",
    "   - **Type:** Forecasting\n",
    "   - **Description:** Holt-Winters method extends exponential smoothing to handle time series data with trend and seasonality. It's particularly useful for short-term forecasting.\n",
    "\n",
    "10. **Isolation Forest:**\n",
    "    - **Type:** Anomaly Detection\n",
    "    - **Description:** Isolation Forest is an unsupervised learning algorithm designed for anomaly detection. It's efficient and effective in identifying outliers in time series data.\n",
    "\n",
    "11. **Dynamic Time Warping (DTW):**\n",
    "    - **Type:** Pattern Recognition\n",
    "    - **Description:** DTW measures the similarity between two time series, considering possible time warping. It is often used for pattern recognition and clustering.\n"
   ]
  },
  {
   "cell_type": "code",
   "execution_count": null,
   "metadata": {
    "id": "iY686GZQvVU8"
   },
   "outputs": [],
   "source": []
  }
 ],
 "metadata": {
  "colab": {
   "provenance": []
  },
  "kernelspec": {
   "display_name": "Python 3 (ipykernel)",
   "language": "python",
   "name": "python3"
  },
  "language_info": {
   "codemirror_mode": {
    "name": "ipython",
    "version": 3
   },
   "file_extension": ".py",
   "mimetype": "text/x-python",
   "name": "python",
   "nbconvert_exporter": "python",
   "pygments_lexer": "ipython3",
   "version": "3.9.13"
  }
 },
 "nbformat": 4,
 "nbformat_minor": 1
}
